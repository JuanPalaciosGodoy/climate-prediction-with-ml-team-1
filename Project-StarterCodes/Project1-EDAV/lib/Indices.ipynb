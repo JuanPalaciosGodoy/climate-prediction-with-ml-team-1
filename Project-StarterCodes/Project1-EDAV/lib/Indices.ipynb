{
 "cells": [
  {
   "cell_type": "code",
   "execution_count": null,
   "id": "7f5443e9-48ad-466f-869c-cf561d3004eb",
   "metadata": {},
   "outputs": [],
   "source": [
    "#Once you have the df from clustering... \n",
    "\n",
    "from func_tools.helper_functions import get_storms_summary_data\n",
    "from func_tools.plotting_functions import plot_clusters_box_whiskers\n",
    "\n",
    "#df = get_storms_summary_data(storms=storms_clustered)"
   ]
  },
  {
   "cell_type": "code",
   "execution_count": null,
   "id": "ec6df276-158d-4bbd-9f4d-7f2e0e216ee0",
   "metadata": {},
   "outputs": [],
   "source": [
    "#dependencies for this code\n",
    "obs = pd.read_csv('data/ObsSST_processed.csv')\n",
    "amm = pd.read_csv('data/ObsAMM_processed.csv')\n",
    "nao = pd.read_csv('data/ObsNAO_processed.csv')"
   ]
  },
  {
   "cell_type": "code",
   "execution_count": null,
   "id": "5c5ab49c-f34a-4ec7-816f-9123b7b91c26",
   "metadata": {},
   "outputs": [],
   "source": [
    "df_enso = df.merge(\n",
    "    obs[[\"YR\", \"MON\", \"ANOM\"]],              # take only needed columns\n",
    "    left_on=[\"avg_year\", \"avg_month\"],       # match columns on df\n",
    "    right_on=[\"YR\", \"MON\"],                  # match columns on obs\n",
    "    how=\"left\"                               # 'left' keeps all rows from df\n",
    ")\n",
    "\n",
    "# Now 'ANOM' is in df_merged; rename it to 'enso'\n",
    "df_enso = df_enso.rename(columns={\"ANOM\": \"enso\"})\n",
    "\n",
    "# If you don’t need the YR and MON columns anymore, you can drop them:\n",
    "df_enso = df_enso.drop(columns=[\"YR\", \"MON\"])\n",
    "\n",
    "\n",
    "df_amm = df.merge(\n",
    "    amm[[\"YR\", \"MON\", \"AMM\"]],              # take only needed columns\n",
    "    left_on=[\"avg_year\", \"avg_month\"],       # match columns on df\n",
    "    right_on=[\"YR\", \"MON\"],                  # match columns on obs\n",
    "    how=\"left\"                               # 'left' keeps all rows from df\n",
    ")\n",
    "\n",
    "\n",
    "\n",
    "df_amm = df_amm.rename(columns={\"AMM\": \"amm\"})\n",
    "\n",
    "# If you don’t need the YR and MON columns anymore, you can drop them:\n",
    "df_amm = df_amm.drop(columns=[\"YR\", \"MON\"])\n",
    "\n",
    "\n",
    "\n",
    "df_nao = df.merge(\n",
    "    nao[[\"Year\", \"MON\", \"NAO\"]],              # take only needed columns\n",
    "    left_on=[\"avg_year\", \"avg_month\"],       # match columns on df\n",
    "    right_on=[\"Year\", \"MON\"],                  # match columns on obs\n",
    "    how=\"left\"                               # 'left' keeps all rows from df\n",
    ")\n",
    "\n",
    "\n",
    "df_nao = df_nao.rename(columns={\"NAO\": \"nao\"})\n",
    "\n",
    "# If you don’t need the YR and MON columns anymore, you can drop them:\n",
    "df_nao = df_nao.drop(columns=[\"Year\", \"MON\"])\n"
   ]
  },
  {
   "cell_type": "code",
   "execution_count": null,
   "id": "5804e6f7-4899-43a1-af08-a851ccab4e12",
   "metadata": {},
   "outputs": [],
   "source": [
    "plot_clusters_box_whiskers(variables=df_enso, y_name=\"enso\")"
   ]
  },
  {
   "cell_type": "code",
   "execution_count": null,
   "id": "f02a30ef-c973-4d3b-ae60-a4ca61905e8c",
   "metadata": {},
   "outputs": [],
   "source": [
    "plot_clusters_box_whiskers(variables=df_amm, y_name=\"amm\")"
   ]
  },
  {
   "cell_type": "code",
   "execution_count": null,
   "id": "f651f2e2-720b-44e3-ad55-42a01163eaa5",
   "metadata": {},
   "outputs": [],
   "source": [
    "plot_clusters_box_whiskers(variables=df_nao, y_name=\"nao\")"
   ]
  }
 ],
 "metadata": {
  "kernelspec": {
   "display_name": "Python 3 (ipykernel)",
   "language": "python",
   "name": "python3"
  },
  "language_info": {
   "codemirror_mode": {
    "name": "ipython",
    "version": 3
   },
   "file_extension": ".py",
   "mimetype": "text/x-python",
   "name": "python",
   "nbconvert_exporter": "python",
   "pygments_lexer": "ipython3",
   "version": "3.12.7"
  }
 },
 "nbformat": 4,
 "nbformat_minor": 5
}
