{
 "cells": [
  {
   "cell_type": "markdown",
   "id": "820c9914-b657-4e0a-837b-56ce310f68b5",
   "metadata": {},
   "source": [
    "# Hurricane Clustering and ENSO/NAO Index"
   ]
  },
  {
   "cell_type": "markdown",
   "id": "c7f02bdb-859f-475c-aa87-0c7fa693316d",
   "metadata": {},
   "source": [
    "## Background"
   ]
  },
  {
   "cell_type": "markdown",
   "id": "7473c9e7-358e-4599-8e38-6081fba93afc",
   "metadata": {},
   "source": [
    "This project is based on the paper \"Classifying North Atlantic tropical cyclone tracks by mass moments.\" Journal of Climate 22.20 (2009): [5481-5494](https://journals.ametsoc.org/configurable/content/journals$002fclim$002f22$002f20$002f2009jcli2828.1.xml?t:ac=journals%24002fclim%24002f22%24002f20%24002f2009jcli2828.1.xml) by Nakamura, Jennifer, et al.\n",
    "\n",
    "In this paper, Nakamura et al. group North Atlantic hurricanes by geographic variables (the mean and variance of storm tracks) using K-means clustering. They find that using a vecor with five elements (longitudinal mean, latitudinal mean, longitudianl variance, latitudinal variance, and the covariance of latitude and longitude) provides good skill at grouping storms based on duration, location, and power dissipation index (PDI) which quantifies maximum wind speed and lifespan."
   ]
  },
  {
   "cell_type": "markdown",
   "id": "d0660e20-57d4-498b-b46c-7f9504ac455c",
   "metadata": {},
   "source": [
    "Our group wanted to extend this analysis by investigating the possible connections between large-scale, interannual climate processes and North Atlantic hurricane tracks. More specifically, we wondered if the clusters presented by Nakamura et al. (2009) would contain any information about ENSO, NAO, or AMM cycles.\n",
    "\n",
    "Therefore, our goal in this notebook is to extend this analysis by testing the following hypothesis:\n",
    "\n",
    "<p style=\"text-align: center;\"><b>Including PDI in our hurricane clusters will improve their correlation with ENSO, NAO, and AMM indexes.</b></p>\n",
    "\n",
    "Testing this hypothesis led us to a number of related inquiries, which are listed below and correspond to the headings of this notebook.\n",
    "\n",
    "1) **What inputs should be given to the algorithm?** The paper only provides spatial information about a storm track based on its first two moments. We will test whether adding another metric to the clustering algorithm (PDI) will change the results.\n",
    "\n",
    "2) **Which clustering algorithm should we use?** There are many different algorithms that cluster data. We will test three different methods (K-means, DBSCAN, and GMM) and compare the results.\n",
    "\n",
    "3) **Which time span should we use for clustering?** The dataset of storms provided by NOAA has storms dating back to the mid 1800s. The reliability of this data increases with time, as the number of ground-based observations increases over time and the advent of satellite observations around 1980 provides more robust remote-sensing observations. So we must balance providing the algorithm with high-quality data vs a high volume of data.\n",
    "\n",
    "After addressing each of these points, we will conclude the notebook with a section addressing our hypothesis directly by investigating the connections between hurricane cluster and ENSO, NAO or AMM index."
   ]
  },
  {
   "cell_type": "markdown",
   "id": "5673edcd-805e-40a7-a6c8-3c2ccdf6dcd5",
   "metadata": {},
   "source": [
    "## Load packages, functions, and data"
   ]
  },
  {
   "cell_type": "code",
   "execution_count": null,
   "id": "47da4989-1c03-483c-ae89-77651e71829e",
   "metadata": {},
   "outputs": [],
   "source": [
    "#uncomment if necessary\n",
    "#!pip install plotly"
   ]
  },
  {
   "cell_type": "code",
   "execution_count": 1,
   "id": "3b87d1b0-e49c-4b6f-9c15-184e281d89f0",
   "metadata": {},
   "outputs": [],
   "source": [
    "# import all necessary packages\n",
    "\n",
    "import cartopy.crs as ccrs # used for map projection\n",
    "import matplotlib.pyplot as plt # matplotlib\n",
    "import cartopy.feature as cfeature # used for map projection\n",
    "import xarray as xr # x-array\n",
    "import numpy as np # numpy\n",
    "import pandas as pd\n",
    "import urllib.request # download request\n",
    "import warnings # to suppress warnings\n",
    "from numpy import linalg as LA # to plot the moments (by calculating the eigenvalues)\n",
    "from sklearn.cluster import k_means # to perform k-means\n",
    "from collections import Counter # set operations\n",
    "warnings.filterwarnings('ignore')"
   ]
  },
  {
   "cell_type": "code",
   "execution_count": 2,
   "id": "6bf4d636-f6c3-4549-b588-85526cec5cee",
   "metadata": {},
   "outputs": [],
   "source": [
    "# import functions our group has written\n",
    "\n",
    "from func_tools import time_functions as tf      #making time selections in the data\n",
    "from func_tools import helper_functions as hf    #clustering algorithms\n",
    "from func_tools import plotting_functions as pf  #making plots"
   ]
  },
  {
   "cell_type": "code",
   "execution_count": 3,
   "id": "b423803b-8865-485c-a1a7-83c22565ae9c",
   "metadata": {},
   "outputs": [],
   "source": [
    "#check if a data directory exists\n",
    "#if not, create a new directory\n",
    "\n",
    "import os\n",
    "cwd=os.getcwd()\n",
    "\n",
    "cwd_data=cwd+'/data'\n",
    "\n",
    "if not os.path.exists(cwd_data):\n",
    "    os.mkdir(cwd_data)"
   ]
  },
  {
   "cell_type": "markdown",
   "id": "4498c019-ab9d-451a-a50f-afd30472cc07",
   "metadata": {},
   "source": [
    "Below is the hurricane track data we are using for this project, called [IBTrAcs](https://www.ncei.noaa.gov/products/international-best-track-archive). This cell will open the data specified in the URL and save it under the data folder created above."
   ]
  },
  {
   "cell_type": "code",
   "execution_count": 4,
   "id": "5f969f5d-3890-4529-835b-ee1513014da6",
   "metadata": {},
   "outputs": [],
   "source": [
    "# Download the needed track file\n",
    "\n",
    "filedata = urllib.request.urlopen('https://www.ncei.noaa.gov/data/international-best-track-archive-for-climate-stewardship-ibtracs/v04r00/access/netcdf/IBTrACS.NA.v04r00.nc')\n",
    "\n",
    "datatowrite = filedata.read()\n",
    "\n",
    "with open('data/NA_data.nc', 'wb') as f:   \n",
    "    f.write(datatowrite)"
   ]
  },
  {
   "cell_type": "code",
   "execution_count": 5,
   "id": "23c22151-6616-4fab-939f-47d8f502a889",
   "metadata": {},
   "outputs": [
    {
     "data": {
      "text/html": [
       "<div><svg style=\"position: absolute; width: 0; height: 0; overflow: hidden\">\n",
       "<defs>\n",
       "<symbol id=\"icon-database\" viewBox=\"0 0 32 32\">\n",
       "<path d=\"M16 0c-8.837 0-16 2.239-16 5v4c0 2.761 7.163 5 16 5s16-2.239 16-5v-4c0-2.761-7.163-5-16-5z\"></path>\n",
       "<path d=\"M16 17c-8.837 0-16-2.239-16-5v6c0 2.761 7.163 5 16 5s16-2.239 16-5v-6c0 2.761-7.163 5-16 5z\"></path>\n",
       "<path d=\"M16 26c-8.837 0-16-2.239-16-5v6c0 2.761 7.163 5 16 5s16-2.239 16-5v-6c0 2.761-7.163 5-16 5z\"></path>\n",
       "</symbol>\n",
       "<symbol id=\"icon-file-text2\" viewBox=\"0 0 32 32\">\n",
       "<path d=\"M28.681 7.159c-0.694-0.947-1.662-2.053-2.724-3.116s-2.169-2.030-3.116-2.724c-1.612-1.182-2.393-1.319-2.841-1.319h-15.5c-1.378 0-2.5 1.121-2.5 2.5v27c0 1.378 1.122 2.5 2.5 2.5h23c1.378 0 2.5-1.122 2.5-2.5v-19.5c0-0.448-0.137-1.23-1.319-2.841zM24.543 5.457c0.959 0.959 1.712 1.825 2.268 2.543h-4.811v-4.811c0.718 0.556 1.584 1.309 2.543 2.268zM28 29.5c0 0.271-0.229 0.5-0.5 0.5h-23c-0.271 0-0.5-0.229-0.5-0.5v-27c0-0.271 0.229-0.5 0.5-0.5 0 0 15.499-0 15.5 0v7c0 0.552 0.448 1 1 1h7v19.5z\"></path>\n",
       "<path d=\"M23 26h-14c-0.552 0-1-0.448-1-1s0.448-1 1-1h14c0.552 0 1 0.448 1 1s-0.448 1-1 1z\"></path>\n",
       "<path d=\"M23 22h-14c-0.552 0-1-0.448-1-1s0.448-1 1-1h14c0.552 0 1 0.448 1 1s-0.448 1-1 1z\"></path>\n",
       "<path d=\"M23 18h-14c-0.552 0-1-0.448-1-1s0.448-1 1-1h14c0.552 0 1 0.448 1 1s-0.448 1-1 1z\"></path>\n",
       "</symbol>\n",
       "</defs>\n",
       "</svg>\n",
       "<style>/* CSS stylesheet for displaying xarray objects in jupyterlab.\n",
       " *\n",
       " */\n",
       "\n",
       ":root {\n",
       "  --xr-font-color0: var(--jp-content-font-color0, rgba(0, 0, 0, 1));\n",
       "  --xr-font-color2: var(--jp-content-font-color2, rgba(0, 0, 0, 0.54));\n",
       "  --xr-font-color3: var(--jp-content-font-color3, rgba(0, 0, 0, 0.38));\n",
       "  --xr-border-color: var(--jp-border-color2, #e0e0e0);\n",
       "  --xr-disabled-color: var(--jp-layout-color3, #bdbdbd);\n",
       "  --xr-background-color: var(--jp-layout-color0, white);\n",
       "  --xr-background-color-row-even: var(--jp-layout-color1, white);\n",
       "  --xr-background-color-row-odd: var(--jp-layout-color2, #eeeeee);\n",
       "}\n",
       "\n",
       "html[theme=dark],\n",
       "html[data-theme=dark],\n",
       "body[data-theme=dark],\n",
       "body.vscode-dark {\n",
       "  --xr-font-color0: rgba(255, 255, 255, 1);\n",
       "  --xr-font-color2: rgba(255, 255, 255, 0.54);\n",
       "  --xr-font-color3: rgba(255, 255, 255, 0.38);\n",
       "  --xr-border-color: #1F1F1F;\n",
       "  --xr-disabled-color: #515151;\n",
       "  --xr-background-color: #111111;\n",
       "  --xr-background-color-row-even: #111111;\n",
       "  --xr-background-color-row-odd: #313131;\n",
       "}\n",
       "\n",
       ".xr-wrap {\n",
       "  display: block !important;\n",
       "  min-width: 300px;\n",
       "  max-width: 700px;\n",
       "}\n",
       "\n",
       ".xr-text-repr-fallback {\n",
       "  /* fallback to plain text repr when CSS is not injected (untrusted notebook) */\n",
       "  display: none;\n",
       "}\n",
       "\n",
       ".xr-header {\n",
       "  padding-top: 6px;\n",
       "  padding-bottom: 6px;\n",
       "  margin-bottom: 4px;\n",
       "  border-bottom: solid 1px var(--xr-border-color);\n",
       "}\n",
       "\n",
       ".xr-header > div,\n",
       ".xr-header > ul {\n",
       "  display: inline;\n",
       "  margin-top: 0;\n",
       "  margin-bottom: 0;\n",
       "}\n",
       "\n",
       ".xr-obj-type,\n",
       ".xr-array-name {\n",
       "  margin-left: 2px;\n",
       "  margin-right: 10px;\n",
       "}\n",
       "\n",
       ".xr-obj-type {\n",
       "  color: var(--xr-font-color2);\n",
       "}\n",
       "\n",
       ".xr-sections {\n",
       "  padding-left: 0 !important;\n",
       "  display: grid;\n",
       "  grid-template-columns: 150px auto auto 1fr 0 20px 0 20px;\n",
       "}\n",
       "\n",
       ".xr-section-item {\n",
       "  display: contents;\n",
       "}\n",
       "\n",
       ".xr-section-item input {\n",
       "  display: inline-block;\n",
       "  opacity: 0;\n",
       "}\n",
       "\n",
       ".xr-section-item input + label {\n",
       "  color: var(--xr-disabled-color);\n",
       "}\n",
       "\n",
       ".xr-section-item input:enabled + label {\n",
       "  cursor: pointer;\n",
       "  color: var(--xr-font-color2);\n",
       "}\n",
       "\n",
       ".xr-section-item input:focus + label {\n",
       "  border: 2px solid var(--xr-font-color0);\n",
       "}\n",
       "\n",
       ".xr-section-item input:enabled + label:hover {\n",
       "  color: var(--xr-font-color0);\n",
       "}\n",
       "\n",
       ".xr-section-summary {\n",
       "  grid-column: 1;\n",
       "  color: var(--xr-font-color2);\n",
       "  font-weight: 500;\n",
       "}\n",
       "\n",
       ".xr-section-summary > span {\n",
       "  display: inline-block;\n",
       "  padding-left: 0.5em;\n",
       "}\n",
       "\n",
       ".xr-section-summary-in:disabled + label {\n",
       "  color: var(--xr-font-color2);\n",
       "}\n",
       "\n",
       ".xr-section-summary-in + label:before {\n",
       "  display: inline-block;\n",
       "  content: '►';\n",
       "  font-size: 11px;\n",
       "  width: 15px;\n",
       "  text-align: center;\n",
       "}\n",
       "\n",
       ".xr-section-summary-in:disabled + label:before {\n",
       "  color: var(--xr-disabled-color);\n",
       "}\n",
       "\n",
       ".xr-section-summary-in:checked + label:before {\n",
       "  content: '▼';\n",
       "}\n",
       "\n",
       ".xr-section-summary-in:checked + label > span {\n",
       "  display: none;\n",
       "}\n",
       "\n",
       ".xr-section-summary,\n",
       ".xr-section-inline-details {\n",
       "  padding-top: 4px;\n",
       "  padding-bottom: 4px;\n",
       "}\n",
       "\n",
       ".xr-section-inline-details {\n",
       "  grid-column: 2 / -1;\n",
       "}\n",
       "\n",
       ".xr-section-details {\n",
       "  display: none;\n",
       "  grid-column: 1 / -1;\n",
       "  margin-bottom: 5px;\n",
       "}\n",
       "\n",
       ".xr-section-summary-in:checked ~ .xr-section-details {\n",
       "  display: contents;\n",
       "}\n",
       "\n",
       ".xr-array-wrap {\n",
       "  grid-column: 1 / -1;\n",
       "  display: grid;\n",
       "  grid-template-columns: 20px auto;\n",
       "}\n",
       "\n",
       ".xr-array-wrap > label {\n",
       "  grid-column: 1;\n",
       "  vertical-align: top;\n",
       "}\n",
       "\n",
       ".xr-preview {\n",
       "  color: var(--xr-font-color3);\n",
       "}\n",
       "\n",
       ".xr-array-preview,\n",
       ".xr-array-data {\n",
       "  padding: 0 5px !important;\n",
       "  grid-column: 2;\n",
       "}\n",
       "\n",
       ".xr-array-data,\n",
       ".xr-array-in:checked ~ .xr-array-preview {\n",
       "  display: none;\n",
       "}\n",
       "\n",
       ".xr-array-in:checked ~ .xr-array-data,\n",
       ".xr-array-preview {\n",
       "  display: inline-block;\n",
       "}\n",
       "\n",
       ".xr-dim-list {\n",
       "  display: inline-block !important;\n",
       "  list-style: none;\n",
       "  padding: 0 !important;\n",
       "  margin: 0;\n",
       "}\n",
       "\n",
       ".xr-dim-list li {\n",
       "  display: inline-block;\n",
       "  padding: 0;\n",
       "  margin: 0;\n",
       "}\n",
       "\n",
       ".xr-dim-list:before {\n",
       "  content: '(';\n",
       "}\n",
       "\n",
       ".xr-dim-list:after {\n",
       "  content: ')';\n",
       "}\n",
       "\n",
       ".xr-dim-list li:not(:last-child):after {\n",
       "  content: ',';\n",
       "  padding-right: 5px;\n",
       "}\n",
       "\n",
       ".xr-has-index {\n",
       "  font-weight: bold;\n",
       "}\n",
       "\n",
       ".xr-var-list,\n",
       ".xr-var-item {\n",
       "  display: contents;\n",
       "}\n",
       "\n",
       ".xr-var-item > div,\n",
       ".xr-var-item label,\n",
       ".xr-var-item > .xr-var-name span {\n",
       "  background-color: var(--xr-background-color-row-even);\n",
       "  margin-bottom: 0;\n",
       "}\n",
       "\n",
       ".xr-var-item > .xr-var-name:hover span {\n",
       "  padding-right: 5px;\n",
       "}\n",
       "\n",
       ".xr-var-list > li:nth-child(odd) > div,\n",
       ".xr-var-list > li:nth-child(odd) > label,\n",
       ".xr-var-list > li:nth-child(odd) > .xr-var-name span {\n",
       "  background-color: var(--xr-background-color-row-odd);\n",
       "}\n",
       "\n",
       ".xr-var-name {\n",
       "  grid-column: 1;\n",
       "}\n",
       "\n",
       ".xr-var-dims {\n",
       "  grid-column: 2;\n",
       "}\n",
       "\n",
       ".xr-var-dtype {\n",
       "  grid-column: 3;\n",
       "  text-align: right;\n",
       "  color: var(--xr-font-color2);\n",
       "}\n",
       "\n",
       ".xr-var-preview {\n",
       "  grid-column: 4;\n",
       "}\n",
       "\n",
       ".xr-index-preview {\n",
       "  grid-column: 2 / 5;\n",
       "  color: var(--xr-font-color2);\n",
       "}\n",
       "\n",
       ".xr-var-name,\n",
       ".xr-var-dims,\n",
       ".xr-var-dtype,\n",
       ".xr-preview,\n",
       ".xr-attrs dt {\n",
       "  white-space: nowrap;\n",
       "  overflow: hidden;\n",
       "  text-overflow: ellipsis;\n",
       "  padding-right: 10px;\n",
       "}\n",
       "\n",
       ".xr-var-name:hover,\n",
       ".xr-var-dims:hover,\n",
       ".xr-var-dtype:hover,\n",
       ".xr-attrs dt:hover {\n",
       "  overflow: visible;\n",
       "  width: auto;\n",
       "  z-index: 1;\n",
       "}\n",
       "\n",
       ".xr-var-attrs,\n",
       ".xr-var-data,\n",
       ".xr-index-data {\n",
       "  display: none;\n",
       "  background-color: var(--xr-background-color) !important;\n",
       "  padding-bottom: 5px !important;\n",
       "}\n",
       "\n",
       ".xr-var-attrs-in:checked ~ .xr-var-attrs,\n",
       ".xr-var-data-in:checked ~ .xr-var-data,\n",
       ".xr-index-data-in:checked ~ .xr-index-data {\n",
       "  display: block;\n",
       "}\n",
       "\n",
       ".xr-var-data > table {\n",
       "  float: right;\n",
       "}\n",
       "\n",
       ".xr-var-name span,\n",
       ".xr-var-data,\n",
       ".xr-index-name div,\n",
       ".xr-index-data,\n",
       ".xr-attrs {\n",
       "  padding-left: 25px !important;\n",
       "}\n",
       "\n",
       ".xr-attrs,\n",
       ".xr-var-attrs,\n",
       ".xr-var-data,\n",
       ".xr-index-data {\n",
       "  grid-column: 1 / -1;\n",
       "}\n",
       "\n",
       "dl.xr-attrs {\n",
       "  padding: 0;\n",
       "  margin: 0;\n",
       "  display: grid;\n",
       "  grid-template-columns: 125px auto;\n",
       "}\n",
       "\n",
       ".xr-attrs dt,\n",
       ".xr-attrs dd {\n",
       "  padding: 0;\n",
       "  margin: 0;\n",
       "  float: left;\n",
       "  padding-right: 10px;\n",
       "  width: auto;\n",
       "}\n",
       "\n",
       ".xr-attrs dt {\n",
       "  font-weight: normal;\n",
       "  grid-column: 1;\n",
       "}\n",
       "\n",
       ".xr-attrs dt:hover span {\n",
       "  display: inline-block;\n",
       "  background: var(--xr-background-color);\n",
       "  padding-right: 10px;\n",
       "}\n",
       "\n",
       ".xr-attrs dd {\n",
       "  grid-column: 2;\n",
       "  white-space: pre-wrap;\n",
       "  word-break: break-all;\n",
       "}\n",
       "\n",
       ".xr-icon-database,\n",
       ".xr-icon-file-text2,\n",
       ".xr-no-icon {\n",
       "  display: inline-block;\n",
       "  vertical-align: middle;\n",
       "  width: 1em;\n",
       "  height: 1.5em !important;\n",
       "  stroke-width: 0;\n",
       "  stroke: currentColor;\n",
       "  fill: currentColor;\n",
       "}\n",
       "</style><pre class='xr-text-repr-fallback'>&lt;xarray.Dataset&gt; Size: 618MB\n",
       "Dimensions:           (storm: 2344, date_time: 360, quadrant: 4)\n",
       "Coordinates:\n",
       "    time              (storm, date_time) float64 7MB ...\n",
       "    lat               (storm, date_time) float32 3MB ...\n",
       "    lon               (storm, date_time) float32 3MB ...\n",
       "Dimensions without coordinates: storm, date_time, quadrant\n",
       "Data variables: (12/147)\n",
       "    numobs            (storm) float32 9kB ...\n",
       "    sid               (storm) |S13 30kB ...\n",
       "    season            (storm) float32 9kB ...\n",
       "    number            (storm) int16 5kB ...\n",
       "    basin             (storm, date_time) |S2 2MB ...\n",
       "    subbasin          (storm, date_time) |S2 2MB ...\n",
       "    ...                ...\n",
       "    reunion_gust      (storm, date_time) float32 3MB ...\n",
       "    reunion_gust_per  (storm, date_time) float32 3MB ...\n",
       "    usa_seahgt        (storm, date_time) float32 3MB ...\n",
       "    usa_searad        (storm, date_time, quadrant) float32 14MB ...\n",
       "    storm_speed       (storm, date_time) float32 3MB ...\n",
       "    storm_dir         (storm, date_time) float32 3MB ...\n",
       "Attributes: (12/49)\n",
       "    title:                      IBTrACS - International Best Track Archive fo...\n",
       "    summary:                    The intent of the IBTrACS project is to overc...\n",
       "    source:                     The original data are tropical cyclone positi...\n",
       "    Conventions:                ACDD-1.3\n",
       "    Conventions_note:           Data are nearly CF-1.7 compliant. The sole is...\n",
       "    product_version:            v04r00\n",
       "    ...                         ...\n",
       "    history:                    Tue May 28 04:28:18 2024: ncks --no_abc --cnk...\n",
       "    license:                    These data may be redistributed and used with...\n",
       "    featureType:                trajectory\n",
       "    cdm_data_type:              Trajectory\n",
       "    comment:                    The tracks of TCs generally look like a traje...\n",
       "    NCO:                        netCDF Operators version 4.8.1 (Homepage = ht...</pre><div class='xr-wrap' style='display:none'><div class='xr-header'><div class='xr-obj-type'>xarray.Dataset</div></div><ul class='xr-sections'><li class='xr-section-item'><input id='section-c90ccf85-99be-4fad-b863-501c2d015145' class='xr-section-summary-in' type='checkbox' disabled ><label for='section-c90ccf85-99be-4fad-b863-501c2d015145' class='xr-section-summary'  title='Expand/collapse section'>Dimensions:</label><div class='xr-section-inline-details'><ul class='xr-dim-list'><li><span>storm</span>: 2344</li><li><span>date_time</span>: 360</li><li><span>quadrant</span>: 4</li></ul></div><div class='xr-section-details'></div></li><li class='xr-section-item'><input id='section-a6c7d7e2-88f4-4f7d-a4f5-13065694eb3c' class='xr-section-summary-in' type='checkbox'  checked><label for='section-a6c7d7e2-88f4-4f7d-a4f5-13065694eb3c' class='xr-section-summary' >Coordinates: <span>(3)</span></label><div class='xr-section-inline-details'></div><div class='xr-section-details'><ul class='xr-var-list'><li class='xr-var-item'><div class='xr-var-name'><span>time</span></div><div class='xr-var-dims'>(storm, date_time)</div><div class='xr-var-dtype'>float64</div><div class='xr-var-preview xr-preview'>...</div><input id='attrs-4dad6d74-104b-4e4a-b4b5-4e44cee5b2c9' class='xr-var-attrs-in' type='checkbox' ><label for='attrs-4dad6d74-104b-4e4a-b4b5-4e44cee5b2c9' title='Show/Hide attributes'><svg class='icon xr-icon-file-text2'><use xlink:href='#icon-file-text2'></use></svg></label><input id='data-cea8afd7-a3b6-4d37-b69f-d6733af2fed4' class='xr-var-data-in' type='checkbox'><label for='data-cea8afd7-a3b6-4d37-b69f-d6733af2fed4' title='Show/Hide data repr'><svg class='icon xr-icon-database'><use xlink:href='#icon-database'></use></svg></label><div class='xr-var-attrs'><dl class='xr-attrs'><dt><span>long_name :</span></dt><dd>time</dd><dt><span>standard_name :</span></dt><dd>time</dd><dt><span>units :</span></dt><dd>days since 1858-11-17 00:00:00</dd><dt><span>description :</span></dt><dd>Nominally, time steps are 3 hourly, but can be more often since some agencies include extra position (e.g., times near landfall, maximum intensity, etc.)</dd><dt><span>Note :</span></dt><dd>Variable:time can be missing since the tracks are stored in a fixed 2-D grid where tracks have varying lengths</dd><dt><span>calendar :</span></dt><dd>standard</dd><dt><span>coverage_content_type :</span></dt><dd>physicalMeasurement</dd></dl></div><div class='xr-var-data'><pre>[843840 values with dtype=float64]</pre></div></li><li class='xr-var-item'><div class='xr-var-name'><span>lat</span></div><div class='xr-var-dims'>(storm, date_time)</div><div class='xr-var-dtype'>float32</div><div class='xr-var-preview xr-preview'>...</div><input id='attrs-7f3fe105-5e29-43fd-a2fb-9453c92ed849' class='xr-var-attrs-in' type='checkbox' ><label for='attrs-7f3fe105-5e29-43fd-a2fb-9453c92ed849' title='Show/Hide attributes'><svg class='icon xr-icon-file-text2'><use xlink:href='#icon-file-text2'></use></svg></label><input id='data-8be06c04-1cb7-4393-8955-b712e224afa2' class='xr-var-data-in' type='checkbox'><label for='data-8be06c04-1cb7-4393-8955-b712e224afa2' title='Show/Hide data repr'><svg class='icon xr-icon-database'><use xlink:href='#icon-database'></use></svg></label><div class='xr-var-attrs'><dl class='xr-attrs'><dt><span>long_name :</span></dt><dd>latitude</dd><dt><span>standard_name :</span></dt><dd>latitude</dd><dt><span>units :</span></dt><dd>degrees_north</dd><dt><span>description :</span></dt><dd>This is merged position based on the position(s) from the various source datasets.</dd><dt><span>Note :</span></dt><dd>Variable:lat can be missing since the tracks are stored in a fixed 2-D grid where tracks have varying lengths</dd><dt><span>coverage_content_type :</span></dt><dd>coordinate</dd></dl></div><div class='xr-var-data'><pre>[843840 values with dtype=float32]</pre></div></li><li class='xr-var-item'><div class='xr-var-name'><span>lon</span></div><div class='xr-var-dims'>(storm, date_time)</div><div class='xr-var-dtype'>float32</div><div class='xr-var-preview xr-preview'>...</div><input id='attrs-d0050abb-def1-45f3-802f-45982cfc872d' class='xr-var-attrs-in' type='checkbox' ><label for='attrs-d0050abb-def1-45f3-802f-45982cfc872d' title='Show/Hide attributes'><svg class='icon xr-icon-file-text2'><use xlink:href='#icon-file-text2'></use></svg></label><input id='data-35e6f3dc-98c0-4104-98b6-976fe47e7364' class='xr-var-data-in' type='checkbox'><label for='data-35e6f3dc-98c0-4104-98b6-976fe47e7364' title='Show/Hide data repr'><svg class='icon xr-icon-database'><use xlink:href='#icon-database'></use></svg></label><div class='xr-var-attrs'><dl class='xr-attrs'><dt><span>long_name :</span></dt><dd>longitude</dd><dt><span>standard_name :</span></dt><dd>longitude</dd><dt><span>units :</span></dt><dd>degrees_east</dd><dt><span>description :</span></dt><dd>This is merged position based on the position(s) from the various source datasets.</dd><dt><span>Note :</span></dt><dd>Variable:lon can be missing since the tracks are stored in a fixed 2-D grid where tracks have varying lengths</dd><dt><span>coverage_content_type :</span></dt><dd>coordinate</dd></dl></div><div class='xr-var-data'><pre>[843840 values with dtype=float32]</pre></div></li></ul></div></li><li class='xr-section-item'><input id='section-a26485fa-24b6-428f-9bdf-60fb56f1c113' class='xr-section-summary-in' type='checkbox'  ><label for='section-a26485fa-24b6-428f-9bdf-60fb56f1c113' class='xr-section-summary' >Data variables: <span>(147)</span></label><div class='xr-section-inline-details'></div><div class='xr-section-details'><ul class='xr-var-list'><li class='xr-var-item'><div class='xr-var-name'><span>numobs</span></div><div class='xr-var-dims'>(storm)</div><div class='xr-var-dtype'>float32</div><div class='xr-var-preview xr-preview'>...</div><input id='attrs-71ee4546-c071-46fd-a8bf-68db995ad333' class='xr-var-attrs-in' type='checkbox' ><label for='attrs-71ee4546-c071-46fd-a8bf-68db995ad333' title='Show/Hide attributes'><svg class='icon xr-icon-file-text2'><use xlink:href='#icon-file-text2'></use></svg></label><input id='data-8cf84961-b636-4ef7-b7e3-41b8e7ca84ca' class='xr-var-data-in' type='checkbox'><label for='data-8cf84961-b636-4ef7-b7e3-41b8e7ca84ca' title='Show/Hide data repr'><svg class='icon xr-icon-database'><use xlink:href='#icon-database'></use></svg></label><div class='xr-var-attrs'><dl class='xr-attrs'><dt><span>long_name :</span></dt><dd>Number of observations per system</dd><dt><span>units :</span></dt><dd>1</dd><dt><span>coverage_content_type :</span></dt><dd>coordinate</dd></dl></div><div class='xr-var-data'><pre>[2344 values with dtype=float32]</pre></div></li><li class='xr-var-item'><div class='xr-var-name'><span>sid</span></div><div class='xr-var-dims'>(storm)</div><div class='xr-var-dtype'>|S13</div><div class='xr-var-preview xr-preview'>...</div><input id='attrs-314d07ab-10fa-4ebf-8631-d157ec2d7a78' class='xr-var-attrs-in' type='checkbox' ><label for='attrs-314d07ab-10fa-4ebf-8631-d157ec2d7a78' title='Show/Hide attributes'><svg class='icon xr-icon-file-text2'><use xlink:href='#icon-file-text2'></use></svg></label><input id='data-71afa6bd-c4aa-4085-9171-19c01a32f211' class='xr-var-data-in' type='checkbox'><label for='data-71afa6bd-c4aa-4085-9171-19c01a32f211' title='Show/Hide data repr'><svg class='icon xr-icon-database'><use xlink:href='#icon-database'></use></svg></label><div class='xr-var-attrs'><dl class='xr-attrs'><dt><span>long_name :</span></dt><dd>SID (IBTrACS Serial ID)</dd><dt><span>cf_role :</span></dt><dd>trajectory_id</dd><dt><span>coverage_content_type :</span></dt><dd>auxiliaryInformation</dd></dl></div><div class='xr-var-data'><pre>[2344 values with dtype=|S13]</pre></div></li><li class='xr-var-item'><div class='xr-var-name'><span>season</span></div><div class='xr-var-dims'>(storm)</div><div class='xr-var-dtype'>float32</div><div class='xr-var-preview xr-preview'>...</div><input id='attrs-bc8f89e1-c3bc-43a8-89ca-4f27efd85f64' class='xr-var-attrs-in' type='checkbox' ><label for='attrs-bc8f89e1-c3bc-43a8-89ca-4f27efd85f64' title='Show/Hide attributes'><svg class='icon xr-icon-file-text2'><use xlink:href='#icon-file-text2'></use></svg></label><input id='data-c34797ce-a73f-49ab-986e-f0d13035ca0b' class='xr-var-data-in' type='checkbox'><label for='data-c34797ce-a73f-49ab-986e-f0d13035ca0b' title='Show/Hide data repr'><svg class='icon xr-icon-database'><use xlink:href='#icon-database'></use></svg></label><div class='xr-var-attrs'><dl class='xr-attrs'><dt><span>long_name :</span></dt><dd>Season</dd><dt><span>units :</span></dt><dd>Year</dd><dt><span>description :</span></dt><dd>Season when storm started</dd><dt><span>coverage_content_type :</span></dt><dd>physicalMeasurement</dd></dl></div><div class='xr-var-data'><pre>[2344 values with dtype=float32]</pre></div></li><li class='xr-var-item'><div class='xr-var-name'><span>number</span></div><div class='xr-var-dims'>(storm)</div><div class='xr-var-dtype'>int16</div><div class='xr-var-preview xr-preview'>...</div><input id='attrs-0ec1fd21-0971-409d-a817-35ef8a09d486' class='xr-var-attrs-in' type='checkbox' ><label for='attrs-0ec1fd21-0971-409d-a817-35ef8a09d486' title='Show/Hide attributes'><svg class='icon xr-icon-file-text2'><use xlink:href='#icon-file-text2'></use></svg></label><input id='data-f624c976-39d3-402e-9f3c-70d337eb421b' class='xr-var-data-in' type='checkbox'><label for='data-f624c976-39d3-402e-9f3c-70d337eb421b' title='Show/Hide data repr'><svg class='icon xr-icon-database'><use xlink:href='#icon-database'></use></svg></label><div class='xr-var-attrs'><dl class='xr-attrs'><dt><span>long_name :</span></dt><dd>Storm number (within season)</dd><dt><span>units :</span></dt><dd>1</dd><dt><span>coverage_content_type :</span></dt><dd>auxiliaryInformation</dd></dl></div><div class='xr-var-data'><pre>[2344 values with dtype=int16]</pre></div></li><li class='xr-var-item'><div class='xr-var-name'><span>basin</span></div><div class='xr-var-dims'>(storm, date_time)</div><div class='xr-var-dtype'>|S2</div><div class='xr-var-preview xr-preview'>...</div><input id='attrs-503ee518-f32f-420d-9d02-614516f03602' class='xr-var-attrs-in' type='checkbox' ><label for='attrs-503ee518-f32f-420d-9d02-614516f03602' title='Show/Hide attributes'><svg class='icon xr-icon-file-text2'><use xlink:href='#icon-file-text2'></use></svg></label><input id='data-c56e12df-6671-4db6-b0f8-2b12f2a6d24c' class='xr-var-data-in' type='checkbox'><label for='data-c56e12df-6671-4db6-b0f8-2b12f2a6d24c' title='Show/Hide data repr'><svg class='icon xr-icon-database'><use xlink:href='#icon-database'></use></svg></label><div class='xr-var-attrs'><dl class='xr-attrs'><dt><span>long_name :</span></dt><dd>Current basin</dd><dt><span>Note :</span></dt><dd>EP=East_Pacific NA=North_Atlantic NI=North_Indian SA=South_Atlantic SI=South_Indian SP=South_Pacific WP=Western_Pacific</dd><dt><span>coverage_content_type :</span></dt><dd>thematicClassification</dd></dl></div><div class='xr-var-data'><pre>[843840 values with dtype=|S2]</pre></div></li><li class='xr-var-item'><div class='xr-var-name'><span>subbasin</span></div><div class='xr-var-dims'>(storm, date_time)</div><div class='xr-var-dtype'>|S2</div><div class='xr-var-preview xr-preview'>...</div><input id='attrs-11a6e857-f183-47bd-8d2c-5918e2477da3' class='xr-var-attrs-in' type='checkbox' ><label for='attrs-11a6e857-f183-47bd-8d2c-5918e2477da3' title='Show/Hide attributes'><svg class='icon xr-icon-file-text2'><use xlink:href='#icon-file-text2'></use></svg></label><input id='data-1b908ef2-289b-4b78-ad6a-acced12e0e53' class='xr-var-data-in' type='checkbox'><label for='data-1b908ef2-289b-4b78-ad6a-acced12e0e53' title='Show/Hide data repr'><svg class='icon xr-icon-database'><use xlink:href='#icon-database'></use></svg></label><div class='xr-var-attrs'><dl class='xr-attrs'><dt><span>long_name :</span></dt><dd>Current sub-basin</dd><dt><span>Note :</span></dt><dd>AS=Arabian_Sea BB=Bay_of_Bengal CP=Central_Pacific CS=Caribbean_Sea GM=Gulf_of_Mexico NA=North_Atlantic EA=Eastern_Australia WA=Western_Australia MM=No_subbasin_for_this_position </dd><dt><span>coverage_content_type :</span></dt><dd>thematicClassification</dd></dl></div><div class='xr-var-data'><pre>[843840 values with dtype=|S2]</pre></div></li><li class='xr-var-item'><div class='xr-var-name'><span>name</span></div><div class='xr-var-dims'>(storm)</div><div class='xr-var-dtype'>|S128</div><div class='xr-var-preview xr-preview'>...</div><input id='attrs-cf0e9919-0edf-41ef-9649-da4e1e38adbc' class='xr-var-attrs-in' type='checkbox' ><label for='attrs-cf0e9919-0edf-41ef-9649-da4e1e38adbc' title='Show/Hide attributes'><svg class='icon xr-icon-file-text2'><use xlink:href='#icon-file-text2'></use></svg></label><input id='data-7b1621ac-f2ce-4808-8987-420d0b2dfadd' class='xr-var-data-in' type='checkbox'><label for='data-7b1621ac-f2ce-4808-8987-420d0b2dfadd' title='Show/Hide data repr'><svg class='icon xr-icon-database'><use xlink:href='#icon-database'></use></svg></label><div class='xr-var-attrs'><dl class='xr-attrs'><dt><span>long_name :</span></dt><dd>Name of system</dd><dt><span>description :</span></dt><dd>May be a combination of names from different agencies</dd><dt><span>coverage_content_type :</span></dt><dd>thematicClassification</dd></dl></div><div class='xr-var-data'><pre>[2344 values with dtype=|S128]</pre></div></li><li class='xr-var-item'><div class='xr-var-name'><span>source_usa</span></div><div class='xr-var-dims'>(storm)</div><div class='xr-var-dtype'>|S128</div><div class='xr-var-preview xr-preview'>...</div><input id='attrs-d952049d-4136-4fdf-9350-aed787dc851c' class='xr-var-attrs-in' type='checkbox' ><label for='attrs-d952049d-4136-4fdf-9350-aed787dc851c' title='Show/Hide attributes'><svg class='icon xr-icon-file-text2'><use xlink:href='#icon-file-text2'></use></svg></label><input id='data-30954691-c93b-49af-89a8-c64eed078cb8' class='xr-var-data-in' type='checkbox'><label for='data-30954691-c93b-49af-89a8-c64eed078cb8' title='Show/Hide data repr'><svg class='icon xr-icon-database'><use xlink:href='#icon-database'></use></svg></label><div class='xr-var-attrs'><dl class='xr-attrs'><dt><span>long_name :</span></dt><dd>Source data information for this storm for USA track</dd><dt><span>coverage_content_type :</span></dt><dd>auxiliaryInformation</dd></dl></div><div class='xr-var-data'><pre>[2344 values with dtype=|S128]</pre></div></li><li class='xr-var-item'><div class='xr-var-name'><span>source_jma</span></div><div class='xr-var-dims'>(storm)</div><div class='xr-var-dtype'>|S128</div><div class='xr-var-preview xr-preview'>...</div><input id='attrs-e139257b-c384-49f8-9736-f5d8abadedf4' class='xr-var-attrs-in' type='checkbox' ><label for='attrs-e139257b-c384-49f8-9736-f5d8abadedf4' title='Show/Hide attributes'><svg class='icon xr-icon-file-text2'><use xlink:href='#icon-file-text2'></use></svg></label><input id='data-2f497c18-0b8b-496f-b90c-685f3c02b51f' class='xr-var-data-in' type='checkbox'><label for='data-2f497c18-0b8b-496f-b90c-685f3c02b51f' title='Show/Hide data repr'><svg class='icon xr-icon-database'><use xlink:href='#icon-database'></use></svg></label><div class='xr-var-attrs'><dl class='xr-attrs'><dt><span>long_name :</span></dt><dd>Source data information for this storm for RSMC Tokyo (Japan Meteorological Agency)  track</dd><dt><span>coverage_content_type :</span></dt><dd>auxiliaryInformation</dd></dl></div><div class='xr-var-data'><pre>[2344 values with dtype=|S128]</pre></div></li><li class='xr-var-item'><div class='xr-var-name'><span>source_cma</span></div><div class='xr-var-dims'>(storm)</div><div class='xr-var-dtype'>|S128</div><div class='xr-var-preview xr-preview'>...</div><input id='attrs-25a9e6e3-0868-426d-82c0-bb2c3dbabb42' class='xr-var-attrs-in' type='checkbox' ><label for='attrs-25a9e6e3-0868-426d-82c0-bb2c3dbabb42' title='Show/Hide attributes'><svg class='icon xr-icon-file-text2'><use xlink:href='#icon-file-text2'></use></svg></label><input id='data-bb3a7feb-b3c8-4fe8-88a4-2d35b4f14c64' class='xr-var-data-in' type='checkbox'><label for='data-bb3a7feb-b3c8-4fe8-88a4-2d35b4f14c64' title='Show/Hide data repr'><svg class='icon xr-icon-database'><use xlink:href='#icon-database'></use></svg></label><div class='xr-var-attrs'><dl class='xr-attrs'><dt><span>long_name :</span></dt><dd>Source data information for this storm for Chinese (Chinese Meteorological Administration) track</dd><dt><span>coverage_content_type :</span></dt><dd>auxiliaryInformation</dd></dl></div><div class='xr-var-data'><pre>[2344 values with dtype=|S128]</pre></div></li><li class='xr-var-item'><div class='xr-var-name'><span>source_hko</span></div><div class='xr-var-dims'>(storm)</div><div class='xr-var-dtype'>|S128</div><div class='xr-var-preview xr-preview'>...</div><input id='attrs-d66c913a-898f-4f6c-884f-94790debe51f' class='xr-var-attrs-in' type='checkbox' ><label for='attrs-d66c913a-898f-4f6c-884f-94790debe51f' title='Show/Hide attributes'><svg class='icon xr-icon-file-text2'><use xlink:href='#icon-file-text2'></use></svg></label><input id='data-753a8c55-f6e5-4fb4-bf18-afa4357659a4' class='xr-var-data-in' type='checkbox'><label for='data-753a8c55-f6e5-4fb4-bf18-afa4357659a4' title='Show/Hide data repr'><svg class='icon xr-icon-database'><use xlink:href='#icon-database'></use></svg></label><div class='xr-var-attrs'><dl class='xr-attrs'><dt><span>long_name :</span></dt><dd>Source data information for this storm for Hong Kong (Hong Kong Observatory) track</dd><dt><span>coverage_content_type :</span></dt><dd>auxiliaryInformation</dd></dl></div><div class='xr-var-data'><pre>[2344 values with dtype=|S128]</pre></div></li><li class='xr-var-item'><div class='xr-var-name'><span>source_new</span></div><div class='xr-var-dims'>(storm)</div><div class='xr-var-dtype'>|S128</div><div class='xr-var-preview xr-preview'>...</div><input id='attrs-f03251d1-e8b4-45d2-a513-f0ee22baf159' class='xr-var-attrs-in' type='checkbox' ><label for='attrs-f03251d1-e8b4-45d2-a513-f0ee22baf159' title='Show/Hide attributes'><svg class='icon xr-icon-file-text2'><use xlink:href='#icon-file-text2'></use></svg></label><input id='data-67a20b96-4c07-48c6-ba04-91053559fac3' class='xr-var-data-in' type='checkbox'><label for='data-67a20b96-4c07-48c6-ba04-91053559fac3' title='Show/Hide data repr'><svg class='icon xr-icon-database'><use xlink:href='#icon-database'></use></svg></label><div class='xr-var-attrs'><dl class='xr-attrs'><dt><span>long_name :</span></dt><dd>Source data information for this storm for RSMC New Delhi (Indian Meteorological Department) track</dd><dt><span>coverage_content_type :</span></dt><dd>auxiliaryInformation</dd></dl></div><div class='xr-var-data'><pre>[2344 values with dtype=|S128]</pre></div></li><li class='xr-var-item'><div class='xr-var-name'><span>source_reu</span></div><div class='xr-var-dims'>(storm)</div><div class='xr-var-dtype'>|S128</div><div class='xr-var-preview xr-preview'>...</div><input id='attrs-519dea4a-34b5-4674-8b0e-785bdb2b797e' class='xr-var-attrs-in' type='checkbox' ><label for='attrs-519dea4a-34b5-4674-8b0e-785bdb2b797e' title='Show/Hide attributes'><svg class='icon xr-icon-file-text2'><use xlink:href='#icon-file-text2'></use></svg></label><input id='data-8a6d10df-e13a-4538-bb38-a9f0d2f4eecd' class='xr-var-data-in' type='checkbox'><label for='data-8a6d10df-e13a-4538-bb38-a9f0d2f4eecd' title='Show/Hide data repr'><svg class='icon xr-icon-database'><use xlink:href='#icon-database'></use></svg></label><div class='xr-var-attrs'><dl class='xr-attrs'><dt><span>long_name :</span></dt><dd>Source data information for this storm for RSMC La Reunion track</dd><dt><span>coverage_content_type :</span></dt><dd>auxiliaryInformation</dd></dl></div><div class='xr-var-data'><pre>[2344 values with dtype=|S128]</pre></div></li><li class='xr-var-item'><div class='xr-var-name'><span>source_bom</span></div><div class='xr-var-dims'>(storm)</div><div class='xr-var-dtype'>|S128</div><div class='xr-var-preview xr-preview'>...</div><input id='attrs-e019a393-6cdb-48ef-bc7a-f634e36269f8' class='xr-var-attrs-in' type='checkbox' ><label for='attrs-e019a393-6cdb-48ef-bc7a-f634e36269f8' title='Show/Hide attributes'><svg class='icon xr-icon-file-text2'><use xlink:href='#icon-file-text2'></use></svg></label><input id='data-418f9018-4ab0-4f53-9a03-44db91f1cb5e' class='xr-var-data-in' type='checkbox'><label for='data-418f9018-4ab0-4f53-9a03-44db91f1cb5e' title='Show/Hide data repr'><svg class='icon xr-icon-database'><use xlink:href='#icon-database'></use></svg></label><div class='xr-var-attrs'><dl class='xr-attrs'><dt><span>long_name :</span></dt><dd>Source data information for this storm for Australian TCWCs (Bureau of Meteorology) track</dd><dt><span>coverage_content_type :</span></dt><dd>auxiliaryInformation</dd></dl></div><div class='xr-var-data'><pre>[2344 values with dtype=|S128]</pre></div></li><li class='xr-var-item'><div class='xr-var-name'><span>source_nad</span></div><div class='xr-var-dims'>(storm)</div><div class='xr-var-dtype'>|S128</div><div class='xr-var-preview xr-preview'>...</div><input id='attrs-0db41d78-3d30-4e2d-ae4d-fb94ee1566ce' class='xr-var-attrs-in' type='checkbox' ><label for='attrs-0db41d78-3d30-4e2d-ae4d-fb94ee1566ce' title='Show/Hide attributes'><svg class='icon xr-icon-file-text2'><use xlink:href='#icon-file-text2'></use></svg></label><input id='data-2bd0a4f0-7bf3-4460-be64-947348c95d57' class='xr-var-data-in' type='checkbox'><label for='data-2bd0a4f0-7bf3-4460-be64-947348c95d57' title='Show/Hide data repr'><svg class='icon xr-icon-database'><use xlink:href='#icon-database'></use></svg></label><div class='xr-var-attrs'><dl class='xr-attrs'><dt><span>long_name :</span></dt><dd>Source data information for this storm for RSMC Nadi (Fiji) track</dd><dt><span>coverage_content_type :</span></dt><dd>auxiliaryInformation</dd></dl></div><div class='xr-var-data'><pre>[2344 values with dtype=|S128]</pre></div></li><li class='xr-var-item'><div class='xr-var-name'><span>source_wel</span></div><div class='xr-var-dims'>(storm)</div><div class='xr-var-dtype'>|S128</div><div class='xr-var-preview xr-preview'>...</div><input id='attrs-590e8fd4-41f4-45a0-a2aa-16796c23cc68' class='xr-var-attrs-in' type='checkbox' ><label for='attrs-590e8fd4-41f4-45a0-a2aa-16796c23cc68' title='Show/Hide attributes'><svg class='icon xr-icon-file-text2'><use xlink:href='#icon-file-text2'></use></svg></label><input id='data-e7211b1e-07f1-4bde-8fba-fc9979e6f6d4' class='xr-var-data-in' type='checkbox'><label for='data-e7211b1e-07f1-4bde-8fba-fc9979e6f6d4' title='Show/Hide data repr'><svg class='icon xr-icon-database'><use xlink:href='#icon-database'></use></svg></label><div class='xr-var-attrs'><dl class='xr-attrs'><dt><span>long_name :</span></dt><dd>Source data information for this storm for TCWC Wellington track</dd><dt><span>coverage_content_type :</span></dt><dd>auxiliaryInformation</dd></dl></div><div class='xr-var-data'><pre>[2344 values with dtype=|S128]</pre></div></li><li class='xr-var-item'><div class='xr-var-name'><span>source_td5</span></div><div class='xr-var-dims'>(storm)</div><div class='xr-var-dtype'>|S128</div><div class='xr-var-preview xr-preview'>...</div><input id='attrs-47e9e570-4b71-4639-b04e-a12e9fc6f7d2' class='xr-var-attrs-in' type='checkbox' ><label for='attrs-47e9e570-4b71-4639-b04e-a12e9fc6f7d2' title='Show/Hide attributes'><svg class='icon xr-icon-file-text2'><use xlink:href='#icon-file-text2'></use></svg></label><input id='data-ef4cf2a8-c2bd-49c1-aeea-66a2b835c5b6' class='xr-var-data-in' type='checkbox'><label for='data-ef4cf2a8-c2bd-49c1-aeea-66a2b835c5b6' title='Show/Hide data repr'><svg class='icon xr-icon-database'><use xlink:href='#icon-database'></use></svg></label><div class='xr-var-attrs'><dl class='xr-attrs'><dt><span>long_name :</span></dt><dd>Source data information for this storm for TD-9635 track</dd><dt><span>Note :</span></dt><dd>TD-9635 &quot;Tropical Cyclone Analogs&quot; produced by National Climatic Center in the 1970s</dd><dt><span>coverage_content_type :</span></dt><dd>auxiliaryInformation</dd></dl></div><div class='xr-var-data'><pre>[2344 values with dtype=|S128]</pre></div></li><li class='xr-var-item'><div class='xr-var-name'><span>source_td6</span></div><div class='xr-var-dims'>(storm)</div><div class='xr-var-dtype'>|S128</div><div class='xr-var-preview xr-preview'>...</div><input id='attrs-deebb053-d28c-4594-b3d5-8b7cf3a29904' class='xr-var-attrs-in' type='checkbox' ><label for='attrs-deebb053-d28c-4594-b3d5-8b7cf3a29904' title='Show/Hide attributes'><svg class='icon xr-icon-file-text2'><use xlink:href='#icon-file-text2'></use></svg></label><input id='data-93cd0631-5b89-449e-b9e9-59a228f8ad35' class='xr-var-data-in' type='checkbox'><label for='data-93cd0631-5b89-449e-b9e9-59a228f8ad35' title='Show/Hide data repr'><svg class='icon xr-icon-database'><use xlink:href='#icon-database'></use></svg></label><div class='xr-var-attrs'><dl class='xr-attrs'><dt><span>long_name :</span></dt><dd>Source data information for this storm for TD-9636 track</dd><dt><span>Note :</span></dt><dd>TD-9636 &quot;Tropical Cyclone Data Global Consolidated&quot; produced by National Climatic Center in the 1970s</dd><dt><span>coverage_content_type :</span></dt><dd>auxiliaryInformation</dd></dl></div><div class='xr-var-data'><pre>[2344 values with dtype=|S128]</pre></div></li><li class='xr-var-item'><div class='xr-var-name'><span>source_ds8</span></div><div class='xr-var-dims'>(storm)</div><div class='xr-var-dtype'>|S128</div><div class='xr-var-preview xr-preview'>...</div><input id='attrs-eb7721a2-2555-49fc-babc-e00afa404b72' class='xr-var-attrs-in' type='checkbox' ><label for='attrs-eb7721a2-2555-49fc-babc-e00afa404b72' title='Show/Hide attributes'><svg class='icon xr-icon-file-text2'><use xlink:href='#icon-file-text2'></use></svg></label><input id='data-b968a3ee-9683-425f-873e-c51c56edefd1' class='xr-var-data-in' type='checkbox'><label for='data-b968a3ee-9683-425f-873e-c51c56edefd1' title='Show/Hide data repr'><svg class='icon xr-icon-database'><use xlink:href='#icon-database'></use></svg></label><div class='xr-var-attrs'><dl class='xr-attrs'><dt><span>long_name :</span></dt><dd>Source data information for this storm for ds824 track</dd><dt><span>Note :</span></dt><dd>NCAR/UCAR research data archive dataset ds824: Global Tropical Cyclone &quot;Best Track&quot; Position and Intensity Data</dd><dt><span>coverage_content_type :</span></dt><dd>auxiliaryInformation</dd></dl></div><div class='xr-var-data'><pre>[2344 values with dtype=|S128]</pre></div></li><li class='xr-var-item'><div class='xr-var-name'><span>source_neu</span></div><div class='xr-var-dims'>(storm)</div><div class='xr-var-dtype'>|S128</div><div class='xr-var-preview xr-preview'>...</div><input id='attrs-782e3c43-369c-4d2a-bdbc-913cd1db7099' class='xr-var-attrs-in' type='checkbox' ><label for='attrs-782e3c43-369c-4d2a-bdbc-913cd1db7099' title='Show/Hide attributes'><svg class='icon xr-icon-file-text2'><use xlink:href='#icon-file-text2'></use></svg></label><input id='data-256244f2-7334-48d1-b306-173e86729084' class='xr-var-data-in' type='checkbox'><label for='data-256244f2-7334-48d1-b306-173e86729084' title='Show/Hide data repr'><svg class='icon xr-icon-database'><use xlink:href='#icon-database'></use></svg></label><div class='xr-var-attrs'><dl class='xr-attrs'><dt><span>long_name :</span></dt><dd>Source data information for this storm for C. Neumann S. Hemi. track</dd><dt><span>coverage_content_type :</span></dt><dd>auxiliaryInformation</dd></dl></div><div class='xr-var-data'><pre>[2344 values with dtype=|S128]</pre></div></li><li class='xr-var-item'><div class='xr-var-name'><span>source_mlc</span></div><div class='xr-var-dims'>(storm)</div><div class='xr-var-dtype'>|S128</div><div class='xr-var-preview xr-preview'>...</div><input id='attrs-be2b55f1-60a0-4028-9d70-f8ced4d09e79' class='xr-var-attrs-in' type='checkbox' ><label for='attrs-be2b55f1-60a0-4028-9d70-f8ced4d09e79' title='Show/Hide attributes'><svg class='icon xr-icon-file-text2'><use xlink:href='#icon-file-text2'></use></svg></label><input id='data-ac311e1b-f8ab-43c2-9e87-7e17d4f63be3' class='xr-var-data-in' type='checkbox'><label for='data-ac311e1b-f8ab-43c2-9e87-7e17d4f63be3' title='Show/Hide data repr'><svg class='icon xr-icon-database'><use xlink:href='#icon-database'></use></svg></label><div class='xr-var-attrs'><dl class='xr-attrs'><dt><span>long_name :</span></dt><dd>Source data information for this storm for M. Chenoweth track</dd><dt><span>coverage_content_type :</span></dt><dd>auxiliaryInformation</dd></dl></div><div class='xr-var-data'><pre>[2344 values with dtype=|S128]</pre></div></li><li class='xr-var-item'><div class='xr-var-name'><span>iso_time</span></div><div class='xr-var-dims'>(storm, date_time)</div><div class='xr-var-dtype'>|S19</div><div class='xr-var-preview xr-preview'>...</div><input id='attrs-1aff9e09-583a-4c4c-9090-7e90818725e9' class='xr-var-attrs-in' type='checkbox' ><label for='attrs-1aff9e09-583a-4c4c-9090-7e90818725e9' title='Show/Hide attributes'><svg class='icon xr-icon-file-text2'><use xlink:href='#icon-file-text2'></use></svg></label><input id='data-b623a1bb-ce5b-403d-8121-1a29679ba47e' class='xr-var-data-in' type='checkbox'><label for='data-b623a1bb-ce5b-403d-8121-1a29679ba47e' title='Show/Hide data repr'><svg class='icon xr-icon-database'><use xlink:href='#icon-database'></use></svg></label><div class='xr-var-attrs'><dl class='xr-attrs'><dt><span>long_name :</span></dt><dd>Time (ISO)</dd><dt><span>description :</span></dt><dd>Nominally, time steps are 3 hourly, but can be more often since some agencies include extra position (e.g., times near landfall, maximum intensity, etc.)</dd><dt><span>coverage_content_type :</span></dt><dd>physicalMeasurement</dd></dl></div><div class='xr-var-data'><pre>[843840 values with dtype=|S19]</pre></div></li><li class='xr-var-item'><div class='xr-var-name'><span>nature</span></div><div class='xr-var-dims'>(storm, date_time)</div><div class='xr-var-dtype'>|S2</div><div class='xr-var-preview xr-preview'>...</div><input id='attrs-6b5aea19-68f8-48da-b581-6417bb886a7a' class='xr-var-attrs-in' type='checkbox' ><label for='attrs-6b5aea19-68f8-48da-b581-6417bb886a7a' title='Show/Hide attributes'><svg class='icon xr-icon-file-text2'><use xlink:href='#icon-file-text2'></use></svg></label><input id='data-6b0dd383-3e0c-4cf9-9722-ef44579ece96' class='xr-var-data-in' type='checkbox'><label for='data-6b0dd383-3e0c-4cf9-9722-ef44579ece96' title='Show/Hide data repr'><svg class='icon xr-icon-database'><use xlink:href='#icon-database'></use></svg></label><div class='xr-var-attrs'><dl class='xr-attrs'><dt><span>long_name :</span></dt><dd>Nature of the cyclone</dd><dt><span>Note :</span></dt><dd>NR=Not_Reported DS=Disturbance TS=Tropical_System ET=Extratropical_System SS=Subtropical_System MX=MIXED_occurs_when_agencies_reported_inconsistent_types</dd><dt><span>coverage_content_type :</span></dt><dd>thematicClassification</dd></dl></div><div class='xr-var-data'><pre>[843840 values with dtype=|S2]</pre></div></li><li class='xr-var-item'><div class='xr-var-name'><span>wmo_wind</span></div><div class='xr-var-dims'>(storm, date_time)</div><div class='xr-var-dtype'>float32</div><div class='xr-var-preview xr-preview'>...</div><input id='attrs-3445b7f1-46e6-45bf-a3e5-caa7a4d74f96' class='xr-var-attrs-in' type='checkbox' ><label for='attrs-3445b7f1-46e6-45bf-a3e5-caa7a4d74f96' title='Show/Hide attributes'><svg class='icon xr-icon-file-text2'><use xlink:href='#icon-file-text2'></use></svg></label><input id='data-75fe1581-17e0-4f0f-ac90-55aa82e373d8' class='xr-var-data-in' type='checkbox'><label for='data-75fe1581-17e0-4f0f-ac90-55aa82e373d8' title='Show/Hide data repr'><svg class='icon xr-icon-database'><use xlink:href='#icon-database'></use></svg></label><div class='xr-var-attrs'><dl class='xr-attrs'><dt><span>long_name :</span></dt><dd>Maximum sustained wind speed from Official WMO agency</dd><dt><span>units :</span></dt><dd>kts</dd><dt><span>coverage_content_type :</span></dt><dd>physicalMeasurement</dd></dl></div><div class='xr-var-data'><pre>[843840 values with dtype=float32]</pre></div></li><li class='xr-var-item'><div class='xr-var-name'><span>wmo_pres</span></div><div class='xr-var-dims'>(storm, date_time)</div><div class='xr-var-dtype'>float32</div><div class='xr-var-preview xr-preview'>...</div><input id='attrs-1fee0951-f050-4535-a71b-9706603c8c23' class='xr-var-attrs-in' type='checkbox' ><label for='attrs-1fee0951-f050-4535-a71b-9706603c8c23' title='Show/Hide attributes'><svg class='icon xr-icon-file-text2'><use xlink:href='#icon-file-text2'></use></svg></label><input id='data-d737fabb-edff-41bf-8205-6204addd9986' class='xr-var-data-in' type='checkbox'><label for='data-d737fabb-edff-41bf-8205-6204addd9986' title='Show/Hide data repr'><svg class='icon xr-icon-database'><use xlink:href='#icon-database'></use></svg></label><div class='xr-var-attrs'><dl class='xr-attrs'><dt><span>long_name :</span></dt><dd>Minimum central preossure from  Official WMO agency</dd><dt><span>units :</span></dt><dd>mb</dd><dt><span>coverage_content_type :</span></dt><dd>physicalMeasurement</dd></dl></div><div class='xr-var-data'><pre>[843840 values with dtype=float32]</pre></div></li><li class='xr-var-item'><div class='xr-var-name'><span>wmo_agency</span></div><div class='xr-var-dims'>(storm, date_time)</div><div class='xr-var-dtype'>|S19</div><div class='xr-var-preview xr-preview'>...</div><input id='attrs-2e8d9f3e-83b7-4166-92e9-6786f4f6ee13' class='xr-var-attrs-in' type='checkbox' ><label for='attrs-2e8d9f3e-83b7-4166-92e9-6786f4f6ee13' title='Show/Hide attributes'><svg class='icon xr-icon-file-text2'><use xlink:href='#icon-file-text2'></use></svg></label><input id='data-f62e41fa-2df4-4365-85e0-f955271779ca' class='xr-var-data-in' type='checkbox'><label for='data-f62e41fa-2df4-4365-85e0-f955271779ca' title='Show/Hide data repr'><svg class='icon xr-icon-database'><use xlink:href='#icon-database'></use></svg></label><div class='xr-var-attrs'><dl class='xr-attrs'><dt><span>long_name :</span></dt><dd>Official WMO agency</dd><dt><span>coverage_content_type :</span></dt><dd>thematicClassification</dd></dl></div><div class='xr-var-data'><pre>[843840 values with dtype=|S19]</pre></div></li><li class='xr-var-item'><div class='xr-var-name'><span>track_type</span></div><div class='xr-var-dims'>(storm)</div><div class='xr-var-dtype'>|S19</div><div class='xr-var-preview xr-preview'>...</div><input id='attrs-b306e108-9130-430e-9700-49e53b913076' class='xr-var-attrs-in' type='checkbox' ><label for='attrs-b306e108-9130-430e-9700-49e53b913076' title='Show/Hide attributes'><svg class='icon xr-icon-file-text2'><use xlink:href='#icon-file-text2'></use></svg></label><input id='data-659e2db6-b185-40ae-8c1b-ebaabf94e3cd' class='xr-var-data-in' type='checkbox'><label for='data-659e2db6-b185-40ae-8c1b-ebaabf94e3cd' title='Show/Hide data repr'><svg class='icon xr-icon-database'><use xlink:href='#icon-database'></use></svg></label><div class='xr-var-attrs'><dl class='xr-attrs'><dt><span>long_name :</span></dt><dd>Name of track type</dd><dt><span>description :</span></dt><dd>Tracks are either MAIN or SPUR. Spur tracks have points that either merge with or split from another track (or both). Main tracks are regular tracks. Spur tracks should be treated with caution.</dd><dt><span>coverage_content_type :</span></dt><dd>thematicClassification</dd></dl></div><div class='xr-var-data'><pre>[2344 values with dtype=|S19]</pre></div></li><li class='xr-var-item'><div class='xr-var-name'><span>main_track_sid</span></div><div class='xr-var-dims'>(storm)</div><div class='xr-var-dtype'>|S13</div><div class='xr-var-preview xr-preview'>...</div><input id='attrs-fd8b1ce6-ca4a-4b8c-8468-dea2b5d12f30' class='xr-var-attrs-in' type='checkbox' ><label for='attrs-fd8b1ce6-ca4a-4b8c-8468-dea2b5d12f30' title='Show/Hide attributes'><svg class='icon xr-icon-file-text2'><use xlink:href='#icon-file-text2'></use></svg></label><input id='data-b4d52dae-0403-4ef1-8091-a9855f9129c1' class='xr-var-data-in' type='checkbox'><label for='data-b4d52dae-0403-4ef1-8091-a9855f9129c1' title='Show/Hide data repr'><svg class='icon xr-icon-database'><use xlink:href='#icon-database'></use></svg></label><div class='xr-var-attrs'><dl class='xr-attrs'><dt><span>long_name :</span></dt><dd>SID of the main track associated with this storm.</dd><dt><span>description :</span></dt><dd>If this track is a main, then this is the same as serial_id. If a spur, it namesthe associated main track.</dd><dt><span>coverage_content_type :</span></dt><dd>thematicClassification</dd></dl></div><div class='xr-var-data'><pre>[2344 values with dtype=|S13]</pre></div></li><li class='xr-var-item'><div class='xr-var-name'><span>dist2land</span></div><div class='xr-var-dims'>(storm, date_time)</div><div class='xr-var-dtype'>float32</div><div class='xr-var-preview xr-preview'>...</div><input id='attrs-e4af1281-a318-4531-8054-3765fdc14b68' class='xr-var-attrs-in' type='checkbox' ><label for='attrs-e4af1281-a318-4531-8054-3765fdc14b68' title='Show/Hide attributes'><svg class='icon xr-icon-file-text2'><use xlink:href='#icon-file-text2'></use></svg></label><input id='data-3f815601-6e5a-4002-a9bd-0e6b05c4acf5' class='xr-var-data-in' type='checkbox'><label for='data-3f815601-6e5a-4002-a9bd-0e6b05c4acf5' title='Show/Hide data repr'><svg class='icon xr-icon-database'><use xlink:href='#icon-database'></use></svg></label><div class='xr-var-attrs'><dl class='xr-attrs'><dt><span>long_name :</span></dt><dd>Distance to Land at current location</dd><dt><span>units :</span></dt><dd>km</dd><dt><span>description :</span></dt><dd>Distance to the nearest land point. Also acts as a land mask since 0km = over land. Uses present location ONLY.</dd><dt><span>coverage_content_type :</span></dt><dd>modelResult</dd></dl></div><div class='xr-var-data'><pre>[843840 values with dtype=float32]</pre></div></li><li class='xr-var-item'><div class='xr-var-name'><span>landfall</span></div><div class='xr-var-dims'>(storm, date_time)</div><div class='xr-var-dtype'>float32</div><div class='xr-var-preview xr-preview'>...</div><input id='attrs-c2932ef5-9c19-4ec4-81db-bea22b5c4726' class='xr-var-attrs-in' type='checkbox' ><label for='attrs-c2932ef5-9c19-4ec4-81db-bea22b5c4726' title='Show/Hide attributes'><svg class='icon xr-icon-file-text2'><use xlink:href='#icon-file-text2'></use></svg></label><input id='data-f85d300b-f51f-4560-9d85-6ef74ad0b9cd' class='xr-var-data-in' type='checkbox'><label for='data-f85d300b-f51f-4560-9d85-6ef74ad0b9cd' title='Show/Hide data repr'><svg class='icon xr-icon-database'><use xlink:href='#icon-database'></use></svg></label><div class='xr-var-attrs'><dl class='xr-attrs'><dt><span>long_name :</span></dt><dd>Minimum distance to land between current location and next.</dd><dt><span>units :</span></dt><dd>km</dd><dt><span>description :</span></dt><dd>Describes landfall conditions between the present observation and the next (usually 3 hours) by providing minimum distance to land. So a value of 0 implies that the storm crosses a coastline prior to the next observation.</dd><dt><span>coverage_content_type :</span></dt><dd>modelResult</dd></dl></div><div class='xr-var-data'><pre>[843840 values with dtype=float32]</pre></div></li><li class='xr-var-item'><div class='xr-var-name'><span>iflag</span></div><div class='xr-var-dims'>(storm, date_time)</div><div class='xr-var-dtype'>|S14</div><div class='xr-var-preview xr-preview'>...</div><input id='attrs-65c6ab54-399b-41e6-9fa7-3367426a1c24' class='xr-var-attrs-in' type='checkbox' ><label for='attrs-65c6ab54-399b-41e6-9fa7-3367426a1c24' title='Show/Hide attributes'><svg class='icon xr-icon-file-text2'><use xlink:href='#icon-file-text2'></use></svg></label><input id='data-e4dae803-9c08-4351-bb56-322277df2430' class='xr-var-data-in' type='checkbox'><label for='data-e4dae803-9c08-4351-bb56-322277df2430' title='Show/Hide data repr'><svg class='icon xr-icon-database'><use xlink:href='#icon-database'></use></svg></label><div class='xr-var-attrs'><dl class='xr-attrs'><dt><span>long_name :</span></dt><dd>Interpolation flag</dd><dt><span>flag_values :</span></dt><dd>O P I V _</dd><dt><span>flag_names :</span></dt><dd>Original Position_interpolated Intensity_values_interpolated Other_Values_Interpolated Nothing_reported</dd><dt><span>description :</span></dt><dd>Each character represents the source of the values for a particular reporting time. 14 characters represent 14 agencies.</dd><dt><span>Note :</span></dt><dd>Agency Order: USA, JMA, CMA, HKO, NewDelhi, La Reunion, BoM, Nadi, Wellington, TD9636, TD9635, ds824, Neumann, Chenoweth</dd><dt><span>coverage_content_type :</span></dt><dd>qualityInformation</dd></dl></div><div class='xr-var-data'><pre>[843840 values with dtype=|S14]</pre></div></li><li class='xr-var-item'><div class='xr-var-name'><span>usa_agency</span></div><div class='xr-var-dims'>(storm, date_time)</div><div class='xr-var-dtype'>|S32</div><div class='xr-var-preview xr-preview'>...</div><input id='attrs-95620812-b85f-4069-a404-0abb2b7df349' class='xr-var-attrs-in' type='checkbox' ><label for='attrs-95620812-b85f-4069-a404-0abb2b7df349' title='Show/Hide attributes'><svg class='icon xr-icon-file-text2'><use xlink:href='#icon-file-text2'></use></svg></label><input id='data-f03bb85b-e19f-42e1-bc70-1eb20d86321f' class='xr-var-data-in' type='checkbox'><label for='data-f03bb85b-e19f-42e1-bc70-1eb20d86321f' title='Show/Hide data repr'><svg class='icon xr-icon-database'><use xlink:href='#icon-database'></use></svg></label><div class='xr-var-attrs'><dl class='xr-attrs'><dt><span>long_name :</span></dt><dd>Source dataset for U.S. data</dd><dt><span>coverage_content_type :</span></dt><dd>auxiliaryInformation</dd></dl></div><div class='xr-var-data'><pre>[843840 values with dtype=|S32]</pre></div></li><li class='xr-var-item'><div class='xr-var-name'><span>usa_atcf_id</span></div><div class='xr-var-dims'>(storm, date_time)</div><div class='xr-var-dtype'>|S32</div><div class='xr-var-preview xr-preview'>...</div><input id='attrs-6a7f1e8b-36c2-4455-87b9-00f67a666cd9' class='xr-var-attrs-in' type='checkbox' ><label for='attrs-6a7f1e8b-36c2-4455-87b9-00f67a666cd9' title='Show/Hide attributes'><svg class='icon xr-icon-file-text2'><use xlink:href='#icon-file-text2'></use></svg></label><input id='data-a9fb547b-66e6-464a-905e-c045c6973661' class='xr-var-data-in' type='checkbox'><label for='data-a9fb547b-66e6-464a-905e-c045c6973661' title='Show/Hide data repr'><svg class='icon xr-icon-database'><use xlink:href='#icon-database'></use></svg></label><div class='xr-var-attrs'><dl class='xr-attrs'><dt><span>long_name :</span></dt><dd>ATCF ID for the storm</dd><dt><span>standard_name :</span></dt><dd>automated_tropical_cyclone_forecasting_system_storm_identifier</dd><dt><span>coverage_content_type :</span></dt><dd>thematicClassification</dd></dl></div><div class='xr-var-data'><pre>[843840 values with dtype=|S32]</pre></div></li><li class='xr-var-item'><div class='xr-var-name'><span>usa_lat</span></div><div class='xr-var-dims'>(storm, date_time)</div><div class='xr-var-dtype'>float32</div><div class='xr-var-preview xr-preview'>...</div><input id='attrs-5f491bbf-4fea-4309-a066-772e39b2526f' class='xr-var-attrs-in' type='checkbox' ><label for='attrs-5f491bbf-4fea-4309-a066-772e39b2526f' title='Show/Hide attributes'><svg class='icon xr-icon-file-text2'><use xlink:href='#icon-file-text2'></use></svg></label><input id='data-6077f81c-0a33-405b-82c6-12353dfae665' class='xr-var-data-in' type='checkbox'><label for='data-6077f81c-0a33-405b-82c6-12353dfae665' title='Show/Hide data repr'><svg class='icon xr-icon-database'><use xlink:href='#icon-database'></use></svg></label><div class='xr-var-attrs'><dl class='xr-attrs'><dt><span>long_name :</span></dt><dd>Latitude (U.S. Agency)</dd><dt><span>units :</span></dt><dd>degrees_north</dd><dt><span>coverage_content_type :</span></dt><dd>coordinate</dd></dl></div><div class='xr-var-data'><pre>[843840 values with dtype=float32]</pre></div></li><li class='xr-var-item'><div class='xr-var-name'><span>usa_lon</span></div><div class='xr-var-dims'>(storm, date_time)</div><div class='xr-var-dtype'>float32</div><div class='xr-var-preview xr-preview'>...</div><input id='attrs-80e46f9b-5fca-4759-9c58-f07f073a1a20' class='xr-var-attrs-in' type='checkbox' ><label for='attrs-80e46f9b-5fca-4759-9c58-f07f073a1a20' title='Show/Hide attributes'><svg class='icon xr-icon-file-text2'><use xlink:href='#icon-file-text2'></use></svg></label><input id='data-e76bd1fd-d459-400b-87f0-c08ecb1706ae' class='xr-var-data-in' type='checkbox'><label for='data-e76bd1fd-d459-400b-87f0-c08ecb1706ae' title='Show/Hide data repr'><svg class='icon xr-icon-database'><use xlink:href='#icon-database'></use></svg></label><div class='xr-var-attrs'><dl class='xr-attrs'><dt><span>long_name :</span></dt><dd>Longitude (U.S. Agency)</dd><dt><span>units :</span></dt><dd>degrees_east</dd><dt><span>coverage_content_type :</span></dt><dd>coordinate</dd></dl></div><div class='xr-var-data'><pre>[843840 values with dtype=float32]</pre></div></li><li class='xr-var-item'><div class='xr-var-name'><span>usa_record</span></div><div class='xr-var-dims'>(storm, date_time)</div><div class='xr-var-dtype'>|S1</div><div class='xr-var-preview xr-preview'>...</div><input id='attrs-71b189d4-28b9-49f5-b148-6042a275ddc7' class='xr-var-attrs-in' type='checkbox' ><label for='attrs-71b189d4-28b9-49f5-b148-6042a275ddc7' title='Show/Hide attributes'><svg class='icon xr-icon-file-text2'><use xlink:href='#icon-file-text2'></use></svg></label><input id='data-516b36b2-fb19-4d72-beb7-a1bd76475bd7' class='xr-var-data-in' type='checkbox'><label for='data-516b36b2-fb19-4d72-beb7-a1bd76475bd7' title='Show/Hide data repr'><svg class='icon xr-icon-database'><use xlink:href='#icon-database'></use></svg></label><div class='xr-var-attrs'><dl class='xr-attrs'><dt><span>long_name :</span></dt><dd>Storm record type</dd><dt><span>description :</span></dt><dd>C – Closest approach to a coast, not followed by a landfall, G – Genesis, I – An intensity peak in terms of both pressure and wind, L – Landfall (center of system crossing a coastline), P – Minimum in central pressure, R – Provides additional detail on the intensity of the cyclone when rapid changes are underway, S – Change of status of the system, T – Provides additional detail on the track (position) of the cyclone, W – Maximum sustained wind speed</dd><dt><span>coverage_content_type :</span></dt><dd>thematicClassification</dd></dl></div><div class='xr-var-data'><pre>[843840 values with dtype=|S1]</pre></div></li><li class='xr-var-item'><div class='xr-var-name'><span>usa_status</span></div><div class='xr-var-dims'>(storm, date_time)</div><div class='xr-var-dtype'>|S2</div><div class='xr-var-preview xr-preview'>...</div><input id='attrs-ac99975d-7e25-45e9-bff4-7ee15d4806ac' class='xr-var-attrs-in' type='checkbox' ><label for='attrs-ac99975d-7e25-45e9-bff4-7ee15d4806ac' title='Show/Hide attributes'><svg class='icon xr-icon-file-text2'><use xlink:href='#icon-file-text2'></use></svg></label><input id='data-4cb10c38-7382-4b1c-b517-ef232b45240d' class='xr-var-data-in' type='checkbox'><label for='data-4cb10c38-7382-4b1c-b517-ef232b45240d' title='Show/Hide data repr'><svg class='icon xr-icon-database'><use xlink:href='#icon-database'></use></svg></label><div class='xr-var-attrs'><dl class='xr-attrs'><dt><span>long_name :</span></dt><dd>Storm status</dd><dt><span>description :</span></dt><dd> DB - disturbance,  TD - tropical depression,  TS - tropical storm,  TY - typhoon,  ST - super typhoon,  TC - tropical cyclone,  HU, HR - hurricane,  SD - subtropical depression,  SS - subtropical storm,  EX - extratropical systems,  PT - post tropical,  IN - inland,  DS - dissipating,  LO - low,  WV - tropical wave,  ET - extrapolated,  MD - monsoon depression,  XX - unknown.</dd><dt><span>coverage_content_type :</span></dt><dd>thematicClassification</dd></dl></div><div class='xr-var-data'><pre>[843840 values with dtype=|S2]</pre></div></li><li class='xr-var-item'><div class='xr-var-name'><span>usa_wind</span></div><div class='xr-var-dims'>(storm, date_time)</div><div class='xr-var-dtype'>float32</div><div class='xr-var-preview xr-preview'>...</div><input id='attrs-8374e562-3c31-4a0a-9c00-4ad34883a482' class='xr-var-attrs-in' type='checkbox' ><label for='attrs-8374e562-3c31-4a0a-9c00-4ad34883a482' title='Show/Hide attributes'><svg class='icon xr-icon-file-text2'><use xlink:href='#icon-file-text2'></use></svg></label><input id='data-b251d558-4964-427c-878f-fbb50300021a' class='xr-var-data-in' type='checkbox'><label for='data-b251d558-4964-427c-878f-fbb50300021a' title='Show/Hide data repr'><svg class='icon xr-icon-database'><use xlink:href='#icon-database'></use></svg></label><div class='xr-var-attrs'><dl class='xr-attrs'><dt><span>long_name :</span></dt><dd>Maximum sustained wind speed</dd><dt><span>standard_name :</span></dt><dd>tropical_cyclone_maximum_sustained_wind_speed</dd><dt><span>units :</span></dt><dd>kts</dd><dt><span>valid_min :</span></dt><dd>1</dd><dt><span>valid_max :</span></dt><dd>250</dd><dt><span>coverage_content_type :</span></dt><dd>physicalMeasurement</dd></dl></div><div class='xr-var-data'><pre>[843840 values with dtype=float32]</pre></div></li><li class='xr-var-item'><div class='xr-var-name'><span>usa_pres</span></div><div class='xr-var-dims'>(storm, date_time)</div><div class='xr-var-dtype'>float32</div><div class='xr-var-preview xr-preview'>...</div><input id='attrs-375e6dc5-f454-4018-99ee-addb36edcc24' class='xr-var-attrs-in' type='checkbox' ><label for='attrs-375e6dc5-f454-4018-99ee-addb36edcc24' title='Show/Hide attributes'><svg class='icon xr-icon-file-text2'><use xlink:href='#icon-file-text2'></use></svg></label><input id='data-f98c40a7-1529-4aa3-b82d-ef3869bf5ff6' class='xr-var-data-in' type='checkbox'><label for='data-f98c40a7-1529-4aa3-b82d-ef3869bf5ff6' title='Show/Hide data repr'><svg class='icon xr-icon-database'><use xlink:href='#icon-database'></use></svg></label><div class='xr-var-attrs'><dl class='xr-attrs'><dt><span>long_name :</span></dt><dd>Minimum central pressure</dd><dt><span>units :</span></dt><dd>mb</dd><dt><span>valid_min :</span></dt><dd>700</dd><dt><span>valid_max :</span></dt><dd>1050</dd><dt><span>coverage_content_type :</span></dt><dd>physicalMeasurement</dd></dl></div><div class='xr-var-data'><pre>[843840 values with dtype=float32]</pre></div></li><li class='xr-var-item'><div class='xr-var-name'><span>usa_sshs</span></div><div class='xr-var-dims'>(storm, date_time)</div><div class='xr-var-dtype'>float32</div><div class='xr-var-preview xr-preview'>...</div><input id='attrs-80fbcd4d-c7db-4dc1-97fc-dd8892c43960' class='xr-var-attrs-in' type='checkbox' ><label for='attrs-80fbcd4d-c7db-4dc1-97fc-dd8892c43960' title='Show/Hide attributes'><svg class='icon xr-icon-file-text2'><use xlink:href='#icon-file-text2'></use></svg></label><input id='data-fce172ad-ed8d-4da5-b85a-f02c25683734' class='xr-var-data-in' type='checkbox'><label for='data-fce172ad-ed8d-4da5-b85a-f02c25683734' title='Show/Hide data repr'><svg class='icon xr-icon-database'><use xlink:href='#icon-database'></use></svg></label><div class='xr-var-attrs'><dl class='xr-attrs'><dt><span>long_name :</span></dt><dd>Saffir-Simpson Hurricane Wind Scale Category</dd><dt><span>units :</span></dt><dd>1</dd><dt><span>valid_min :</span></dt><dd>-5</dd><dt><span>valid_max :</span></dt><dd>5</dd><dt><span>flag_values :</span></dt><dd>[-5 -4 -3 -2 -1  0  1  2  3  4  5]</dd><dt><span>flag_names :</span></dt><dd>unknown_type_XX post_tropical_ET_EX_PT misc_disturbances_WV_LO_DB_DS_IN_MD subtropical_SS_SD tropical_depression_w_lt_34 tropical_storm_wind_35-63 hurricane_cat_1_wind_64-82 hurricane_cat_2_wind_83-95 hurricane_cat_3_wind_96-112 hurricane_cat_4_wind_113-136 hurricane_cat_5_wind_137+</dd><dt><span>coverage_content_type :</span></dt><dd>thematicClassification</dd></dl></div><div class='xr-var-data'><pre>[843840 values with dtype=float32]</pre></div></li><li class='xr-var-item'><div class='xr-var-name'><span>usa_r34</span></div><div class='xr-var-dims'>(storm, date_time, quadrant)</div><div class='xr-var-dtype'>float32</div><div class='xr-var-preview xr-preview'>...</div><input id='attrs-0c19d6b8-8200-4084-bcc7-1c1a1ba5f25f' class='xr-var-attrs-in' type='checkbox' ><label for='attrs-0c19d6b8-8200-4084-bcc7-1c1a1ba5f25f' title='Show/Hide attributes'><svg class='icon xr-icon-file-text2'><use xlink:href='#icon-file-text2'></use></svg></label><input id='data-9121d5ea-cadd-4a5f-a02c-c22ae7a8962e' class='xr-var-data-in' type='checkbox'><label for='data-9121d5ea-cadd-4a5f-a02c-c22ae7a8962e' title='Show/Hide data repr'><svg class='icon xr-icon-database'><use xlink:href='#icon-database'></use></svg></label><div class='xr-var-attrs'><dl class='xr-attrs'><dt><span>long_name :</span></dt><dd>Radius of 34 knot winds</dd><dt><span>units :</span></dt><dd>nmile</dd><dt><span>valid_min :</span></dt><dd>1</dd><dt><span>valid_max :</span></dt><dd>1000</dd><dt><span>coverage_content_type :</span></dt><dd>physicalMeasurement</dd></dl></div><div class='xr-var-data'><pre>[3375360 values with dtype=float32]</pre></div></li><li class='xr-var-item'><div class='xr-var-name'><span>usa_r50</span></div><div class='xr-var-dims'>(storm, date_time, quadrant)</div><div class='xr-var-dtype'>float32</div><div class='xr-var-preview xr-preview'>...</div><input id='attrs-9c99a62e-3a3b-4deb-9dbb-ad531e472182' class='xr-var-attrs-in' type='checkbox' ><label for='attrs-9c99a62e-3a3b-4deb-9dbb-ad531e472182' title='Show/Hide attributes'><svg class='icon xr-icon-file-text2'><use xlink:href='#icon-file-text2'></use></svg></label><input id='data-54e4e032-ff47-4862-a505-97457a522d2c' class='xr-var-data-in' type='checkbox'><label for='data-54e4e032-ff47-4862-a505-97457a522d2c' title='Show/Hide data repr'><svg class='icon xr-icon-database'><use xlink:href='#icon-database'></use></svg></label><div class='xr-var-attrs'><dl class='xr-attrs'><dt><span>long_name :</span></dt><dd>Radius of 50 knot winds</dd><dt><span>units :</span></dt><dd>nmile</dd><dt><span>valid_min :</span></dt><dd>1</dd><dt><span>valid_max :</span></dt><dd>1000</dd><dt><span>coverage_content_type :</span></dt><dd>physicalMeasurement</dd></dl></div><div class='xr-var-data'><pre>[3375360 values with dtype=float32]</pre></div></li><li class='xr-var-item'><div class='xr-var-name'><span>usa_r64</span></div><div class='xr-var-dims'>(storm, date_time, quadrant)</div><div class='xr-var-dtype'>float32</div><div class='xr-var-preview xr-preview'>...</div><input id='attrs-c897e11f-0b38-4add-9bec-52b4d3de347c' class='xr-var-attrs-in' type='checkbox' ><label for='attrs-c897e11f-0b38-4add-9bec-52b4d3de347c' title='Show/Hide attributes'><svg class='icon xr-icon-file-text2'><use xlink:href='#icon-file-text2'></use></svg></label><input id='data-b2987d20-37b5-42e1-8e53-c67f9b1a836a' class='xr-var-data-in' type='checkbox'><label for='data-b2987d20-37b5-42e1-8e53-c67f9b1a836a' title='Show/Hide data repr'><svg class='icon xr-icon-database'><use xlink:href='#icon-database'></use></svg></label><div class='xr-var-attrs'><dl class='xr-attrs'><dt><span>long_name :</span></dt><dd>Radius of 64 knot winds</dd><dt><span>units :</span></dt><dd>nmile</dd><dt><span>valid_min :</span></dt><dd>1</dd><dt><span>valid_max :</span></dt><dd>1000</dd><dt><span>coverage_content_type :</span></dt><dd>physicalMeasurement</dd></dl></div><div class='xr-var-data'><pre>[3375360 values with dtype=float32]</pre></div></li><li class='xr-var-item'><div class='xr-var-name'><span>usa_poci</span></div><div class='xr-var-dims'>(storm, date_time)</div><div class='xr-var-dtype'>float32</div><div class='xr-var-preview xr-preview'>...</div><input id='attrs-53a3d221-979b-442d-9c6b-5aba1f992f1a' class='xr-var-attrs-in' type='checkbox' ><label for='attrs-53a3d221-979b-442d-9c6b-5aba1f992f1a' title='Show/Hide attributes'><svg class='icon xr-icon-file-text2'><use xlink:href='#icon-file-text2'></use></svg></label><input id='data-1b53c7ef-e07a-4714-9582-0c2577dd1f2a' class='xr-var-data-in' type='checkbox'><label for='data-1b53c7ef-e07a-4714-9582-0c2577dd1f2a' title='Show/Hide data repr'><svg class='icon xr-icon-database'><use xlink:href='#icon-database'></use></svg></label><div class='xr-var-attrs'><dl class='xr-attrs'><dt><span>long_name :</span></dt><dd>Pressure of outermost closed isobar (not best tracked)</dd><dt><span>units :</span></dt><dd>mb</dd><dt><span>valid_min :</span></dt><dd>700</dd><dt><span>valid_max :</span></dt><dd>1050</dd><dt><span>coverage_content_type :</span></dt><dd>physicalMeasurement</dd></dl></div><div class='xr-var-data'><pre>[843840 values with dtype=float32]</pre></div></li><li class='xr-var-item'><div class='xr-var-name'><span>usa_roci</span></div><div class='xr-var-dims'>(storm, date_time)</div><div class='xr-var-dtype'>float32</div><div class='xr-var-preview xr-preview'>...</div><input id='attrs-933e0f85-28fc-4340-9e3d-537d807dcf98' class='xr-var-attrs-in' type='checkbox' ><label for='attrs-933e0f85-28fc-4340-9e3d-537d807dcf98' title='Show/Hide attributes'><svg class='icon xr-icon-file-text2'><use xlink:href='#icon-file-text2'></use></svg></label><input id='data-9d6b7561-06f5-4b83-9269-d4ff588baa96' class='xr-var-data-in' type='checkbox'><label for='data-9d6b7561-06f5-4b83-9269-d4ff588baa96' title='Show/Hide data repr'><svg class='icon xr-icon-database'><use xlink:href='#icon-database'></use></svg></label><div class='xr-var-attrs'><dl class='xr-attrs'><dt><span>long_name :</span></dt><dd>Pressure of outermost closed isobar (not best tracked)</dd><dt><span>units :</span></dt><dd>nmile</dd><dt><span>valid_min :</span></dt><dd>1</dd><dt><span>valid_max :</span></dt><dd>1000</dd><dt><span>coverage_content_type :</span></dt><dd>physicalMeasurement</dd></dl></div><div class='xr-var-data'><pre>[843840 values with dtype=float32]</pre></div></li><li class='xr-var-item'><div class='xr-var-name'><span>usa_rmw</span></div><div class='xr-var-dims'>(storm, date_time)</div><div class='xr-var-dtype'>float32</div><div class='xr-var-preview xr-preview'>...</div><input id='attrs-bc937090-33aa-4571-9a2e-9b569620c871' class='xr-var-attrs-in' type='checkbox' ><label for='attrs-bc937090-33aa-4571-9a2e-9b569620c871' title='Show/Hide attributes'><svg class='icon xr-icon-file-text2'><use xlink:href='#icon-file-text2'></use></svg></label><input id='data-ee18c8b2-1e34-4ec4-8dd6-be5e4791db72' class='xr-var-data-in' type='checkbox'><label for='data-ee18c8b2-1e34-4ec4-8dd6-be5e4791db72' title='Show/Hide data repr'><svg class='icon xr-icon-database'><use xlink:href='#icon-database'></use></svg></label><div class='xr-var-attrs'><dl class='xr-attrs'><dt><span>long_name :</span></dt><dd>Radius of maximum winds (not best tracked)</dd><dt><span>standard_name :</span></dt><dd>radius_of_tropical_cyclone_maximum_sustained_wind_speed</dd><dt><span>units :</span></dt><dd>nmile</dd><dt><span>valid_min :</span></dt><dd>1</dd><dt><span>valid_max :</span></dt><dd>1000</dd><dt><span>coverage_content_type :</span></dt><dd>physicalMeasurement</dd></dl></div><div class='xr-var-data'><pre>[843840 values with dtype=float32]</pre></div></li><li class='xr-var-item'><div class='xr-var-name'><span>usa_eye</span></div><div class='xr-var-dims'>(storm, date_time)</div><div class='xr-var-dtype'>float32</div><div class='xr-var-preview xr-preview'>...</div><input id='attrs-37b49648-5b08-4e2b-a65f-498636e2d5c6' class='xr-var-attrs-in' type='checkbox' ><label for='attrs-37b49648-5b08-4e2b-a65f-498636e2d5c6' title='Show/Hide attributes'><svg class='icon xr-icon-file-text2'><use xlink:href='#icon-file-text2'></use></svg></label><input id='data-c007d846-5087-4fb8-b93b-198fc617c664' class='xr-var-data-in' type='checkbox'><label for='data-c007d846-5087-4fb8-b93b-198fc617c664' title='Show/Hide data repr'><svg class='icon xr-icon-database'><use xlink:href='#icon-database'></use></svg></label><div class='xr-var-attrs'><dl class='xr-attrs'><dt><span>long_name :</span></dt><dd>Eye diameter (not best tracked)</dd><dt><span>standard_name :</span></dt><dd>radius_of_tropical_cyclone_eye</dd><dt><span>units :</span></dt><dd>nmile</dd><dt><span>valid_min :</span></dt><dd>1</dd><dt><span>valid_max :</span></dt><dd>250</dd><dt><span>coverage_content_type :</span></dt><dd>physicalMeasurement</dd></dl></div><div class='xr-var-data'><pre>[843840 values with dtype=float32]</pre></div></li><li class='xr-var-item'><div class='xr-var-name'><span>tokyo_lat</span></div><div class='xr-var-dims'>(storm, date_time)</div><div class='xr-var-dtype'>float32</div><div class='xr-var-preview xr-preview'>...</div><input id='attrs-65323f02-7a58-4fb5-8348-e2344dd89f81' class='xr-var-attrs-in' type='checkbox' ><label for='attrs-65323f02-7a58-4fb5-8348-e2344dd89f81' title='Show/Hide attributes'><svg class='icon xr-icon-file-text2'><use xlink:href='#icon-file-text2'></use></svg></label><input id='data-133826ef-4fe7-4bf2-baf7-cd7ddf66c271' class='xr-var-data-in' type='checkbox'><label for='data-133826ef-4fe7-4bf2-baf7-cd7ddf66c271' title='Show/Hide data repr'><svg class='icon xr-icon-database'><use xlink:href='#icon-database'></use></svg></label><div class='xr-var-attrs'><dl class='xr-attrs'><dt><span>long_name :</span></dt><dd>Latitude (RSMC Tokyo)</dd><dt><span>units :</span></dt><dd>degrees_north</dd><dt><span>coverage_content_type :</span></dt><dd>coordinate</dd></dl></div><div class='xr-var-data'><pre>[843840 values with dtype=float32]</pre></div></li><li class='xr-var-item'><div class='xr-var-name'><span>tokyo_lon</span></div><div class='xr-var-dims'>(storm, date_time)</div><div class='xr-var-dtype'>float32</div><div class='xr-var-preview xr-preview'>...</div><input id='attrs-50b0d236-9d5c-41f6-8c9e-b727c7e6fbb1' class='xr-var-attrs-in' type='checkbox' ><label for='attrs-50b0d236-9d5c-41f6-8c9e-b727c7e6fbb1' title='Show/Hide attributes'><svg class='icon xr-icon-file-text2'><use xlink:href='#icon-file-text2'></use></svg></label><input id='data-12525249-9480-4c99-b34c-0efc4d20b7ed' class='xr-var-data-in' type='checkbox'><label for='data-12525249-9480-4c99-b34c-0efc4d20b7ed' title='Show/Hide data repr'><svg class='icon xr-icon-database'><use xlink:href='#icon-database'></use></svg></label><div class='xr-var-attrs'><dl class='xr-attrs'><dt><span>long_name :</span></dt><dd>Longitude (RSMC Tokyo)</dd><dt><span>units :</span></dt><dd>degrees_east</dd><dt><span>coverage_content_type :</span></dt><dd>coordinate</dd></dl></div><div class='xr-var-data'><pre>[843840 values with dtype=float32]</pre></div></li><li class='xr-var-item'><div class='xr-var-name'><span>tokyo_grade</span></div><div class='xr-var-dims'>(storm, date_time)</div><div class='xr-var-dtype'>float32</div><div class='xr-var-preview xr-preview'>...</div><input id='attrs-db4310ed-aaa0-4476-a596-05d796a62f41' class='xr-var-attrs-in' type='checkbox' ><label for='attrs-db4310ed-aaa0-4476-a596-05d796a62f41' title='Show/Hide attributes'><svg class='icon xr-icon-file-text2'><use xlink:href='#icon-file-text2'></use></svg></label><input id='data-cb9e8f42-a6dc-4622-9c08-54aad7a47e1e' class='xr-var-data-in' type='checkbox'><label for='data-cb9e8f42-a6dc-4622-9c08-54aad7a47e1e' title='Show/Hide data repr'><svg class='icon xr-icon-database'><use xlink:href='#icon-database'></use></svg></label><div class='xr-var-attrs'><dl class='xr-attrs'><dt><span>long_name :</span></dt><dd>Storm grade</dd><dt><span>units :</span></dt><dd>1</dd><dt><span>valid_min :</span></dt><dd>2</dd><dt><span>valid_max :</span></dt><dd>9</dd><dt><span>flag_values :</span></dt><dd>[2 3 4 5 6 7 8 9]</dd><dt><span>flag_names :</span></dt><dd>tropical_depression tropical_storm severe_tropical_storm typhoon extratropical just_entering_JMA_AoR not_used tropical_cyclone_of_TS_intensity_or_higher</dd><dt><span>coverage_content_type :</span></dt><dd>thematicClassification</dd></dl></div><div class='xr-var-data'><pre>[843840 values with dtype=float32]</pre></div></li><li class='xr-var-item'><div class='xr-var-name'><span>tokyo_wind</span></div><div class='xr-var-dims'>(storm, date_time)</div><div class='xr-var-dtype'>float32</div><div class='xr-var-preview xr-preview'>...</div><input id='attrs-33fe0b2f-98f0-410a-8435-8c67477949c8' class='xr-var-attrs-in' type='checkbox' ><label for='attrs-33fe0b2f-98f0-410a-8435-8c67477949c8' title='Show/Hide attributes'><svg class='icon xr-icon-file-text2'><use xlink:href='#icon-file-text2'></use></svg></label><input id='data-4e334830-e5d8-4d33-9a60-8333794049d1' class='xr-var-data-in' type='checkbox'><label for='data-4e334830-e5d8-4d33-9a60-8333794049d1' title='Show/Hide data repr'><svg class='icon xr-icon-database'><use xlink:href='#icon-database'></use></svg></label><div class='xr-var-attrs'><dl class='xr-attrs'><dt><span>long_name :</span></dt><dd>Maximum sustained wind speed</dd><dt><span>units :</span></dt><dd>kts</dd><dt><span>valid_min :</span></dt><dd>1</dd><dt><span>valid_max :</span></dt><dd>250</dd><dt><span>coverage_content_type :</span></dt><dd>physicalMeasurement</dd></dl></div><div class='xr-var-data'><pre>[843840 values with dtype=float32]</pre></div></li><li class='xr-var-item'><div class='xr-var-name'><span>tokyo_pres</span></div><div class='xr-var-dims'>(storm, date_time)</div><div class='xr-var-dtype'>float32</div><div class='xr-var-preview xr-preview'>...</div><input id='attrs-c0c813de-895f-4189-8bd0-5538cfbe1f54' class='xr-var-attrs-in' type='checkbox' ><label for='attrs-c0c813de-895f-4189-8bd0-5538cfbe1f54' title='Show/Hide attributes'><svg class='icon xr-icon-file-text2'><use xlink:href='#icon-file-text2'></use></svg></label><input id='data-79604d74-ec3a-46e9-a0b1-0e2f2dd067fc' class='xr-var-data-in' type='checkbox'><label for='data-79604d74-ec3a-46e9-a0b1-0e2f2dd067fc' title='Show/Hide data repr'><svg class='icon xr-icon-database'><use xlink:href='#icon-database'></use></svg></label><div class='xr-var-attrs'><dl class='xr-attrs'><dt><span>long_name :</span></dt><dd>Minimum central pressure</dd><dt><span>units :</span></dt><dd>mb</dd><dt><span>valid_min :</span></dt><dd>700</dd><dt><span>valid_max :</span></dt><dd>1050</dd><dt><span>coverage_content_type :</span></dt><dd>physicalMeasurement</dd></dl></div><div class='xr-var-data'><pre>[843840 values with dtype=float32]</pre></div></li><li class='xr-var-item'><div class='xr-var-name'><span>tokyo_r50_dir</span></div><div class='xr-var-dims'>(storm, date_time)</div><div class='xr-var-dtype'>float32</div><div class='xr-var-preview xr-preview'>...</div><input id='attrs-6a253947-bd5c-45ed-892d-099edb326908' class='xr-var-attrs-in' type='checkbox' ><label for='attrs-6a253947-bd5c-45ed-892d-099edb326908' title='Show/Hide attributes'><svg class='icon xr-icon-file-text2'><use xlink:href='#icon-file-text2'></use></svg></label><input id='data-4759d62e-574e-41e8-8cad-6a6ef01a9406' class='xr-var-data-in' type='checkbox'><label for='data-4759d62e-574e-41e8-8cad-6a6ef01a9406' title='Show/Hide data repr'><svg class='icon xr-icon-database'><use xlink:href='#icon-database'></use></svg></label><div class='xr-var-attrs'><dl class='xr-attrs'><dt><span>long_name :</span></dt><dd>Direction of maximum radius of 50 knots winds</dd><dt><span>valid_min :</span></dt><dd>0</dd><dt><span>valid_max :</span></dt><dd>9</dd><dt><span>flag_values :</span></dt><dd>[1 2 3 4 5 6 7 8 9]</dd><dt><span>flag_names :</span></dt><dd>Northeast East Southeast South Southwest West Northwest North Symmetric_Circle</dd><dt><span>coverage_content_type :</span></dt><dd>thematicClassification</dd></dl></div><div class='xr-var-data'><pre>[843840 values with dtype=float32]</pre></div></li><li class='xr-var-item'><div class='xr-var-name'><span>tokyo_r50_long</span></div><div class='xr-var-dims'>(storm, date_time)</div><div class='xr-var-dtype'>float32</div><div class='xr-var-preview xr-preview'>...</div><input id='attrs-68e077eb-972c-47eb-9e9e-f46db769d010' class='xr-var-attrs-in' type='checkbox' ><label for='attrs-68e077eb-972c-47eb-9e9e-f46db769d010' title='Show/Hide attributes'><svg class='icon xr-icon-file-text2'><use xlink:href='#icon-file-text2'></use></svg></label><input id='data-af5968d7-3b62-4aa5-97b2-07404311db21' class='xr-var-data-in' type='checkbox'><label for='data-af5968d7-3b62-4aa5-97b2-07404311db21' title='Show/Hide data repr'><svg class='icon xr-icon-database'><use xlink:href='#icon-database'></use></svg></label><div class='xr-var-attrs'><dl class='xr-attrs'><dt><span>long_name :</span></dt><dd>Maximum radius of 50 knots winds</dd><dt><span>units :</span></dt><dd>nmile</dd><dt><span>valid_min :</span></dt><dd>1</dd><dt><span>valid_max :</span></dt><dd>1000</dd><dt><span>coverage_content_type :</span></dt><dd>physicalMeasurement</dd></dl></div><div class='xr-var-data'><pre>[843840 values with dtype=float32]</pre></div></li><li class='xr-var-item'><div class='xr-var-name'><span>tokyo_r50_short</span></div><div class='xr-var-dims'>(storm, date_time)</div><div class='xr-var-dtype'>float32</div><div class='xr-var-preview xr-preview'>...</div><input id='attrs-a1ede758-e561-4f16-bee4-748ed866e62e' class='xr-var-attrs-in' type='checkbox' ><label for='attrs-a1ede758-e561-4f16-bee4-748ed866e62e' title='Show/Hide attributes'><svg class='icon xr-icon-file-text2'><use xlink:href='#icon-file-text2'></use></svg></label><input id='data-5af48923-1352-4602-a6ba-6cc2325397a8' class='xr-var-data-in' type='checkbox'><label for='data-5af48923-1352-4602-a6ba-6cc2325397a8' title='Show/Hide data repr'><svg class='icon xr-icon-database'><use xlink:href='#icon-database'></use></svg></label><div class='xr-var-attrs'><dl class='xr-attrs'><dt><span>long_name :</span></dt><dd>Minimum radius of 50 knots winds</dd><dt><span>units :</span></dt><dd>nmile</dd><dt><span>valid_min :</span></dt><dd>1</dd><dt><span>valid_max :</span></dt><dd>1000</dd><dt><span>coverage_content_type :</span></dt><dd>physicalMeasurement</dd></dl></div><div class='xr-var-data'><pre>[843840 values with dtype=float32]</pre></div></li><li class='xr-var-item'><div class='xr-var-name'><span>tokyo_r30_dir</span></div><div class='xr-var-dims'>(storm, date_time)</div><div class='xr-var-dtype'>float32</div><div class='xr-var-preview xr-preview'>...</div><input id='attrs-48ece3c6-738e-4605-bbd0-7b64af468446' class='xr-var-attrs-in' type='checkbox' ><label for='attrs-48ece3c6-738e-4605-bbd0-7b64af468446' title='Show/Hide attributes'><svg class='icon xr-icon-file-text2'><use xlink:href='#icon-file-text2'></use></svg></label><input id='data-8f613eb9-4f3a-4b7f-97bd-d20fe085ba9c' class='xr-var-data-in' type='checkbox'><label for='data-8f613eb9-4f3a-4b7f-97bd-d20fe085ba9c' title='Show/Hide data repr'><svg class='icon xr-icon-database'><use xlink:href='#icon-database'></use></svg></label><div class='xr-var-attrs'><dl class='xr-attrs'><dt><span>long_name :</span></dt><dd>Direction of maximum radius of 30 knots winds</dd><dt><span>valid_min :</span></dt><dd>0</dd><dt><span>valid_max :</span></dt><dd>9</dd><dt><span>flag_values :</span></dt><dd>[1 2 3 4 5 6 7 8 9]</dd><dt><span>flag_names :</span></dt><dd>Northeast East Southeast South Southwest West Northwest North Symmetric_Circle</dd><dt><span>coverage_content_type :</span></dt><dd>thematicClassification</dd></dl></div><div class='xr-var-data'><pre>[843840 values with dtype=float32]</pre></div></li><li class='xr-var-item'><div class='xr-var-name'><span>tokyo_r30_long</span></div><div class='xr-var-dims'>(storm, date_time)</div><div class='xr-var-dtype'>float32</div><div class='xr-var-preview xr-preview'>...</div><input id='attrs-850f2290-7445-492e-a76b-4fb42ebe32f9' class='xr-var-attrs-in' type='checkbox' ><label for='attrs-850f2290-7445-492e-a76b-4fb42ebe32f9' title='Show/Hide attributes'><svg class='icon xr-icon-file-text2'><use xlink:href='#icon-file-text2'></use></svg></label><input id='data-1c1678dc-98b9-41c1-8656-21c3aeca58b8' class='xr-var-data-in' type='checkbox'><label for='data-1c1678dc-98b9-41c1-8656-21c3aeca58b8' title='Show/Hide data repr'><svg class='icon xr-icon-database'><use xlink:href='#icon-database'></use></svg></label><div class='xr-var-attrs'><dl class='xr-attrs'><dt><span>long_name :</span></dt><dd>Direction of maximum radius of 30 knots winds</dd><dt><span>units :</span></dt><dd>nmile</dd><dt><span>valid_min :</span></dt><dd>1</dd><dt><span>valid_max :</span></dt><dd>1000</dd><dt><span>coverage_content_type :</span></dt><dd>physicalMeasurement</dd></dl></div><div class='xr-var-data'><pre>[843840 values with dtype=float32]</pre></div></li><li class='xr-var-item'><div class='xr-var-name'><span>tokyo_r30_short</span></div><div class='xr-var-dims'>(storm, date_time)</div><div class='xr-var-dtype'>float32</div><div class='xr-var-preview xr-preview'>...</div><input id='attrs-8ce69167-696c-4627-a6a5-4ae5ab74d69e' class='xr-var-attrs-in' type='checkbox' ><label for='attrs-8ce69167-696c-4627-a6a5-4ae5ab74d69e' title='Show/Hide attributes'><svg class='icon xr-icon-file-text2'><use xlink:href='#icon-file-text2'></use></svg></label><input id='data-28ebaee0-a83a-41b6-aed7-dcfa1efefb61' class='xr-var-data-in' type='checkbox'><label for='data-28ebaee0-a83a-41b6-aed7-dcfa1efefb61' title='Show/Hide data repr'><svg class='icon xr-icon-database'><use xlink:href='#icon-database'></use></svg></label><div class='xr-var-attrs'><dl class='xr-attrs'><dt><span>long_name :</span></dt><dd>Minimum radius of 30 knots winds</dd><dt><span>units :</span></dt><dd>nmile</dd><dt><span>valid_min :</span></dt><dd>1</dd><dt><span>valid_max :</span></dt><dd>1000</dd><dt><span>coverage_content_type :</span></dt><dd>physicalMeasurement</dd></dl></div><div class='xr-var-data'><pre>[843840 values with dtype=float32]</pre></div></li><li class='xr-var-item'><div class='xr-var-name'><span>tokyo_land</span></div><div class='xr-var-dims'>(storm, date_time)</div><div class='xr-var-dtype'>float32</div><div class='xr-var-preview xr-preview'>...</div><input id='attrs-83255c2f-1f9f-4bb6-b390-5d56fa2e900e' class='xr-var-attrs-in' type='checkbox' ><label for='attrs-83255c2f-1f9f-4bb6-b390-5d56fa2e900e' title='Show/Hide attributes'><svg class='icon xr-icon-file-text2'><use xlink:href='#icon-file-text2'></use></svg></label><input id='data-edc8ba8c-b608-412b-bae9-b20d5e71c719' class='xr-var-data-in' type='checkbox'><label for='data-edc8ba8c-b608-412b-bae9-b20d5e71c719' title='Show/Hide data repr'><svg class='icon xr-icon-database'><use xlink:href='#icon-database'></use></svg></label><div class='xr-var-attrs'><dl class='xr-attrs'><dt><span>long_name :</span></dt><dd>Landfall flag</dd><dt><span>units :</span></dt><dd>1</dd><dt><span>valid_min :</span></dt><dd>0</dd><dt><span>valid_max :</span></dt><dd>1</dd><dt><span>coverage_content_type :</span></dt><dd>thematicClassification</dd></dl></div><div class='xr-var-data'><pre>[843840 values with dtype=float32]</pre></div></li><li class='xr-var-item'><div class='xr-var-name'><span>cma_lat</span></div><div class='xr-var-dims'>(storm, date_time)</div><div class='xr-var-dtype'>float32</div><div class='xr-var-preview xr-preview'>...</div><input id='attrs-61cb62f7-f5e1-492e-8d2c-13d83a381204' class='xr-var-attrs-in' type='checkbox' ><label for='attrs-61cb62f7-f5e1-492e-8d2c-13d83a381204' title='Show/Hide attributes'><svg class='icon xr-icon-file-text2'><use xlink:href='#icon-file-text2'></use></svg></label><input id='data-7f9e3251-89ab-4610-8044-4d4e7c3d8e28' class='xr-var-data-in' type='checkbox'><label for='data-7f9e3251-89ab-4610-8044-4d4e7c3d8e28' title='Show/Hide data repr'><svg class='icon xr-icon-database'><use xlink:href='#icon-database'></use></svg></label><div class='xr-var-attrs'><dl class='xr-attrs'><dt><span>long_name :</span></dt><dd>Latitude (Chinese Met. Admin.)</dd><dt><span>units :</span></dt><dd>degrees_north</dd><dt><span>coverage_content_type :</span></dt><dd>coordinate</dd></dl></div><div class='xr-var-data'><pre>[843840 values with dtype=float32]</pre></div></li><li class='xr-var-item'><div class='xr-var-name'><span>cma_lon</span></div><div class='xr-var-dims'>(storm, date_time)</div><div class='xr-var-dtype'>float32</div><div class='xr-var-preview xr-preview'>...</div><input id='attrs-5c7b94a6-b592-451a-9211-0f0d2c2a63b2' class='xr-var-attrs-in' type='checkbox' ><label for='attrs-5c7b94a6-b592-451a-9211-0f0d2c2a63b2' title='Show/Hide attributes'><svg class='icon xr-icon-file-text2'><use xlink:href='#icon-file-text2'></use></svg></label><input id='data-7964df26-ee92-4e87-8f2e-d2f3c4727d22' class='xr-var-data-in' type='checkbox'><label for='data-7964df26-ee92-4e87-8f2e-d2f3c4727d22' title='Show/Hide data repr'><svg class='icon xr-icon-database'><use xlink:href='#icon-database'></use></svg></label><div class='xr-var-attrs'><dl class='xr-attrs'><dt><span>long_name :</span></dt><dd>Longitude (Chinese Met. Admin.)</dd><dt><span>units :</span></dt><dd>degrees_east</dd><dt><span>coverage_content_type :</span></dt><dd>coordinate</dd></dl></div><div class='xr-var-data'><pre>[843840 values with dtype=float32]</pre></div></li><li class='xr-var-item'><div class='xr-var-name'><span>cma_cat</span></div><div class='xr-var-dims'>(storm, date_time)</div><div class='xr-var-dtype'>float32</div><div class='xr-var-preview xr-preview'>...</div><input id='attrs-b1fdff23-8cb7-43a1-819b-6c9f2662c3a0' class='xr-var-attrs-in' type='checkbox' ><label for='attrs-b1fdff23-8cb7-43a1-819b-6c9f2662c3a0' title='Show/Hide attributes'><svg class='icon xr-icon-file-text2'><use xlink:href='#icon-file-text2'></use></svg></label><input id='data-2b674728-de9e-4006-8d9c-073a8da464f7' class='xr-var-data-in' type='checkbox'><label for='data-2b674728-de9e-4006-8d9c-073a8da464f7' title='Show/Hide data repr'><svg class='icon xr-icon-database'><use xlink:href='#icon-database'></use></svg></label><div class='xr-var-attrs'><dl class='xr-attrs'><dt><span>long_name :</span></dt><dd>Storm category</dd><dt><span>units :</span></dt><dd>1</dd><dt><span>valid_min :</span></dt><dd>0</dd><dt><span>valid_max :</span></dt><dd>9</dd><dt><span>flag_values :</span></dt><dd>[0 1 2 3 4 5 6 9]</dd><dt><span>flag_names :</span></dt><dd>weaker_than_tropical_depression_or_unknown tropical_depression tropical_storm severe_tropical_storm typhoon severe_typhoon super_typhoon extratrpoical</dd><dt><span>coverage_content_type :</span></dt><dd>thematicClassification</dd></dl></div><div class='xr-var-data'><pre>[843840 values with dtype=float32]</pre></div></li><li class='xr-var-item'><div class='xr-var-name'><span>cma_wind</span></div><div class='xr-var-dims'>(storm, date_time)</div><div class='xr-var-dtype'>float32</div><div class='xr-var-preview xr-preview'>...</div><input id='attrs-d8267f38-6fcb-4768-9c71-13fb0dec4152' class='xr-var-attrs-in' type='checkbox' ><label for='attrs-d8267f38-6fcb-4768-9c71-13fb0dec4152' title='Show/Hide attributes'><svg class='icon xr-icon-file-text2'><use xlink:href='#icon-file-text2'></use></svg></label><input id='data-ad2437a8-c771-43dd-8445-0e60fd4f40cb' class='xr-var-data-in' type='checkbox'><label for='data-ad2437a8-c771-43dd-8445-0e60fd4f40cb' title='Show/Hide data repr'><svg class='icon xr-icon-database'><use xlink:href='#icon-database'></use></svg></label><div class='xr-var-attrs'><dl class='xr-attrs'><dt><span>long_name :</span></dt><dd>Maximum sustained wind speed</dd><dt><span>units :</span></dt><dd>kts</dd><dt><span>valid_min :</span></dt><dd>1</dd><dt><span>valid_max :</span></dt><dd>250</dd><dt><span>coverage_content_type :</span></dt><dd>physicalMeasurement</dd></dl></div><div class='xr-var-data'><pre>[843840 values with dtype=float32]</pre></div></li><li class='xr-var-item'><div class='xr-var-name'><span>cma_pres</span></div><div class='xr-var-dims'>(storm, date_time)</div><div class='xr-var-dtype'>float32</div><div class='xr-var-preview xr-preview'>...</div><input id='attrs-a5c6f6b8-6330-4208-87bd-0601fbc62163' class='xr-var-attrs-in' type='checkbox' ><label for='attrs-a5c6f6b8-6330-4208-87bd-0601fbc62163' title='Show/Hide attributes'><svg class='icon xr-icon-file-text2'><use xlink:href='#icon-file-text2'></use></svg></label><input id='data-53ebb874-40e5-47e7-a8b1-07ba78f68697' class='xr-var-data-in' type='checkbox'><label for='data-53ebb874-40e5-47e7-a8b1-07ba78f68697' title='Show/Hide data repr'><svg class='icon xr-icon-database'><use xlink:href='#icon-database'></use></svg></label><div class='xr-var-attrs'><dl class='xr-attrs'><dt><span>long_name :</span></dt><dd>Minimum central pressure</dd><dt><span>units :</span></dt><dd>mb</dd><dt><span>valid_min :</span></dt><dd>700</dd><dt><span>valid_max :</span></dt><dd>1050</dd><dt><span>coverage_content_type :</span></dt><dd>physicalMeasurement</dd></dl></div><div class='xr-var-data'><pre>[843840 values with dtype=float32]</pre></div></li><li class='xr-var-item'><div class='xr-var-name'><span>hko_lat</span></div><div class='xr-var-dims'>(storm, date_time)</div><div class='xr-var-dtype'>float32</div><div class='xr-var-preview xr-preview'>...</div><input id='attrs-a70e6568-5bb8-46d0-b22b-e677643d5d32' class='xr-var-attrs-in' type='checkbox' ><label for='attrs-a70e6568-5bb8-46d0-b22b-e677643d5d32' title='Show/Hide attributes'><svg class='icon xr-icon-file-text2'><use xlink:href='#icon-file-text2'></use></svg></label><input id='data-f2dc57fe-61df-41f5-a021-c59d4111d019' class='xr-var-data-in' type='checkbox'><label for='data-f2dc57fe-61df-41f5-a021-c59d4111d019' title='Show/Hide data repr'><svg class='icon xr-icon-database'><use xlink:href='#icon-database'></use></svg></label><div class='xr-var-attrs'><dl class='xr-attrs'><dt><span>long_name :</span></dt><dd>Latitude (Hong Kong Observatory)</dd><dt><span>units :</span></dt><dd>degrees_north</dd><dt><span>coverage_content_type :</span></dt><dd>coordinate</dd></dl></div><div class='xr-var-data'><pre>[843840 values with dtype=float32]</pre></div></li><li class='xr-var-item'><div class='xr-var-name'><span>hko_lon</span></div><div class='xr-var-dims'>(storm, date_time)</div><div class='xr-var-dtype'>float32</div><div class='xr-var-preview xr-preview'>...</div><input id='attrs-17c316be-112c-415e-9498-382f11d92612' class='xr-var-attrs-in' type='checkbox' ><label for='attrs-17c316be-112c-415e-9498-382f11d92612' title='Show/Hide attributes'><svg class='icon xr-icon-file-text2'><use xlink:href='#icon-file-text2'></use></svg></label><input id='data-494a2a0c-5549-48b0-bf1e-2d826f05f491' class='xr-var-data-in' type='checkbox'><label for='data-494a2a0c-5549-48b0-bf1e-2d826f05f491' title='Show/Hide data repr'><svg class='icon xr-icon-database'><use xlink:href='#icon-database'></use></svg></label><div class='xr-var-attrs'><dl class='xr-attrs'><dt><span>long_name :</span></dt><dd>Longitude (Hong Kong Observatory)</dd><dt><span>units :</span></dt><dd>degrees_east</dd><dt><span>coverage_content_type :</span></dt><dd>coordinate</dd></dl></div><div class='xr-var-data'><pre>[843840 values with dtype=float32]</pre></div></li><li class='xr-var-item'><div class='xr-var-name'><span>hko_cat</span></div><div class='xr-var-dims'>(storm, date_time)</div><div class='xr-var-dtype'>|S6</div><div class='xr-var-preview xr-preview'>...</div><input id='attrs-e427bc7d-c477-414a-8e05-922b1c0d76ea' class='xr-var-attrs-in' type='checkbox' ><label for='attrs-e427bc7d-c477-414a-8e05-922b1c0d76ea' title='Show/Hide attributes'><svg class='icon xr-icon-file-text2'><use xlink:href='#icon-file-text2'></use></svg></label><input id='data-ddf6a69c-5f2e-45a4-af22-70c8c3d00a8a' class='xr-var-data-in' type='checkbox'><label for='data-ddf6a69c-5f2e-45a4-af22-70c8c3d00a8a' title='Show/Hide data repr'><svg class='icon xr-icon-database'><use xlink:href='#icon-database'></use></svg></label><div class='xr-var-attrs'><dl class='xr-attrs'><dt><span>long_name :</span></dt><dd>Storm category</dd><dt><span>Note :</span></dt><dd>Even though HKO changed the category meanings in 2009. We have made all systems (including before 2009) consistent with the latest definitions</dd><dt><span>coverage_content_type :</span></dt><dd>thematicClassification</dd></dl></div><div class='xr-var-data'><pre>[843840 values with dtype=|S6]</pre></div></li><li class='xr-var-item'><div class='xr-var-name'><span>hko_wind</span></div><div class='xr-var-dims'>(storm, date_time)</div><div class='xr-var-dtype'>float32</div><div class='xr-var-preview xr-preview'>...</div><input id='attrs-30b274e6-67ee-46f5-bbfc-70bbec6f7a9a' class='xr-var-attrs-in' type='checkbox' ><label for='attrs-30b274e6-67ee-46f5-bbfc-70bbec6f7a9a' title='Show/Hide attributes'><svg class='icon xr-icon-file-text2'><use xlink:href='#icon-file-text2'></use></svg></label><input id='data-c533936e-5c9a-434b-9693-73afaffd9841' class='xr-var-data-in' type='checkbox'><label for='data-c533936e-5c9a-434b-9693-73afaffd9841' title='Show/Hide data repr'><svg class='icon xr-icon-database'><use xlink:href='#icon-database'></use></svg></label><div class='xr-var-attrs'><dl class='xr-attrs'><dt><span>long_name :</span></dt><dd>Maximum sustained wind speed</dd><dt><span>units :</span></dt><dd>kts</dd><dt><span>valid_min :</span></dt><dd>1</dd><dt><span>valid_max :</span></dt><dd>250</dd><dt><span>coverage_content_type :</span></dt><dd>physicalMeasurement</dd></dl></div><div class='xr-var-data'><pre>[843840 values with dtype=float32]</pre></div></li><li class='xr-var-item'><div class='xr-var-name'><span>hko_pres</span></div><div class='xr-var-dims'>(storm, date_time)</div><div class='xr-var-dtype'>float32</div><div class='xr-var-preview xr-preview'>...</div><input id='attrs-eb494c53-a1b5-42c8-99f1-cf4b06bae8e4' class='xr-var-attrs-in' type='checkbox' ><label for='attrs-eb494c53-a1b5-42c8-99f1-cf4b06bae8e4' title='Show/Hide attributes'><svg class='icon xr-icon-file-text2'><use xlink:href='#icon-file-text2'></use></svg></label><input id='data-7f780092-a6f1-49ba-852b-685feb23ce99' class='xr-var-data-in' type='checkbox'><label for='data-7f780092-a6f1-49ba-852b-685feb23ce99' title='Show/Hide data repr'><svg class='icon xr-icon-database'><use xlink:href='#icon-database'></use></svg></label><div class='xr-var-attrs'><dl class='xr-attrs'><dt><span>long_name :</span></dt><dd>Minimum central pressure</dd><dt><span>units :</span></dt><dd>mb</dd><dt><span>valid_min :</span></dt><dd>700</dd><dt><span>valid_max :</span></dt><dd>1050</dd><dt><span>coverage_content_type :</span></dt><dd>physicalMeasurement</dd></dl></div><div class='xr-var-data'><pre>[843840 values with dtype=float32]</pre></div></li><li class='xr-var-item'><div class='xr-var-name'><span>newdelhi_lat</span></div><div class='xr-var-dims'>(storm, date_time)</div><div class='xr-var-dtype'>float32</div><div class='xr-var-preview xr-preview'>...</div><input id='attrs-2bda67a0-5319-4557-9668-aaa9bbabeeda' class='xr-var-attrs-in' type='checkbox' ><label for='attrs-2bda67a0-5319-4557-9668-aaa9bbabeeda' title='Show/Hide attributes'><svg class='icon xr-icon-file-text2'><use xlink:href='#icon-file-text2'></use></svg></label><input id='data-47c1e1de-e16b-43fa-b2ec-60c9608d9274' class='xr-var-data-in' type='checkbox'><label for='data-47c1e1de-e16b-43fa-b2ec-60c9608d9274' title='Show/Hide data repr'><svg class='icon xr-icon-database'><use xlink:href='#icon-database'></use></svg></label><div class='xr-var-attrs'><dl class='xr-attrs'><dt><span>long_name :</span></dt><dd>Latitude (RSMC New Delhi)</dd><dt><span>units :</span></dt><dd>degrees_north</dd><dt><span>coverage_content_type :</span></dt><dd>coordinate</dd></dl></div><div class='xr-var-data'><pre>[843840 values with dtype=float32]</pre></div></li><li class='xr-var-item'><div class='xr-var-name'><span>newdelhi_lon</span></div><div class='xr-var-dims'>(storm, date_time)</div><div class='xr-var-dtype'>float32</div><div class='xr-var-preview xr-preview'>...</div><input id='attrs-6263e389-88ba-40f5-9201-1f7eae9cd424' class='xr-var-attrs-in' type='checkbox' ><label for='attrs-6263e389-88ba-40f5-9201-1f7eae9cd424' title='Show/Hide attributes'><svg class='icon xr-icon-file-text2'><use xlink:href='#icon-file-text2'></use></svg></label><input id='data-8fd6d01c-0574-4d94-97da-9859df49bf16' class='xr-var-data-in' type='checkbox'><label for='data-8fd6d01c-0574-4d94-97da-9859df49bf16' title='Show/Hide data repr'><svg class='icon xr-icon-database'><use xlink:href='#icon-database'></use></svg></label><div class='xr-var-attrs'><dl class='xr-attrs'><dt><span>long_name :</span></dt><dd>Longitude (RSMC New Delhi)</dd><dt><span>units :</span></dt><dd>degrees_east</dd><dt><span>coverage_content_type :</span></dt><dd>coordinate</dd></dl></div><div class='xr-var-data'><pre>[843840 values with dtype=float32]</pre></div></li><li class='xr-var-item'><div class='xr-var-name'><span>newdelhi_grade</span></div><div class='xr-var-dims'>(storm, date_time)</div><div class='xr-var-dtype'>|S10</div><div class='xr-var-preview xr-preview'>...</div><input id='attrs-a2031021-ea8d-423d-92ed-2d81572edd5d' class='xr-var-attrs-in' type='checkbox' ><label for='attrs-a2031021-ea8d-423d-92ed-2d81572edd5d' title='Show/Hide attributes'><svg class='icon xr-icon-file-text2'><use xlink:href='#icon-file-text2'></use></svg></label><input id='data-3e0066df-03d6-4207-a860-57ddb31054d4' class='xr-var-data-in' type='checkbox'><label for='data-3e0066df-03d6-4207-a860-57ddb31054d4' title='Show/Hide data repr'><svg class='icon xr-icon-database'><use xlink:href='#icon-database'></use></svg></label><div class='xr-var-attrs'><dl class='xr-attrs'><dt><span>long_name :</span></dt><dd>Storm grade</dd><dt><span>coverage_content_type :</span></dt><dd>thematicClassification</dd></dl></div><div class='xr-var-data'><pre>[843840 values with dtype=|S10]</pre></div></li><li class='xr-var-item'><div class='xr-var-name'><span>newdelhi_wind</span></div><div class='xr-var-dims'>(storm, date_time)</div><div class='xr-var-dtype'>float32</div><div class='xr-var-preview xr-preview'>...</div><input id='attrs-4f9a9c1f-6163-414d-9100-8a60c9d991ca' class='xr-var-attrs-in' type='checkbox' ><label for='attrs-4f9a9c1f-6163-414d-9100-8a60c9d991ca' title='Show/Hide attributes'><svg class='icon xr-icon-file-text2'><use xlink:href='#icon-file-text2'></use></svg></label><input id='data-c2ea6472-ae21-4671-a5f0-a7a96999d5f7' class='xr-var-data-in' type='checkbox'><label for='data-c2ea6472-ae21-4671-a5f0-a7a96999d5f7' title='Show/Hide data repr'><svg class='icon xr-icon-database'><use xlink:href='#icon-database'></use></svg></label><div class='xr-var-attrs'><dl class='xr-attrs'><dt><span>long_name :</span></dt><dd>Maximum sustained wind speed</dd><dt><span>units :</span></dt><dd>kts</dd><dt><span>valid_min :</span></dt><dd>1</dd><dt><span>valid_max :</span></dt><dd>250</dd><dt><span>coverage_content_type :</span></dt><dd>physicalMeasurement</dd></dl></div><div class='xr-var-data'><pre>[843840 values with dtype=float32]</pre></div></li><li class='xr-var-item'><div class='xr-var-name'><span>newdelhi_pres</span></div><div class='xr-var-dims'>(storm, date_time)</div><div class='xr-var-dtype'>float32</div><div class='xr-var-preview xr-preview'>...</div><input id='attrs-fb746efc-26aa-4974-956d-c69b090268c3' class='xr-var-attrs-in' type='checkbox' ><label for='attrs-fb746efc-26aa-4974-956d-c69b090268c3' title='Show/Hide attributes'><svg class='icon xr-icon-file-text2'><use xlink:href='#icon-file-text2'></use></svg></label><input id='data-8b9d0e31-ce57-45cc-b372-a12910ec8474' class='xr-var-data-in' type='checkbox'><label for='data-8b9d0e31-ce57-45cc-b372-a12910ec8474' title='Show/Hide data repr'><svg class='icon xr-icon-database'><use xlink:href='#icon-database'></use></svg></label><div class='xr-var-attrs'><dl class='xr-attrs'><dt><span>long_name :</span></dt><dd>Minimum central pressure</dd><dt><span>units :</span></dt><dd>mb</dd><dt><span>valid_min :</span></dt><dd>700</dd><dt><span>valid_max :</span></dt><dd>1050</dd><dt><span>coverage_content_type :</span></dt><dd>physicalMeasurement</dd></dl></div><div class='xr-var-data'><pre>[843840 values with dtype=float32]</pre></div></li><li class='xr-var-item'><div class='xr-var-name'><span>newdelhi_ci</span></div><div class='xr-var-dims'>(storm, date_time)</div><div class='xr-var-dtype'>float32</div><div class='xr-var-preview xr-preview'>...</div><input id='attrs-e93e9bcd-59a6-493b-ad34-64ad4f2acdf7' class='xr-var-attrs-in' type='checkbox' ><label for='attrs-e93e9bcd-59a6-493b-ad34-64ad4f2acdf7' title='Show/Hide attributes'><svg class='icon xr-icon-file-text2'><use xlink:href='#icon-file-text2'></use></svg></label><input id='data-ea7eb514-2ffb-4d3a-81b5-0204486d25c1' class='xr-var-data-in' type='checkbox'><label for='data-ea7eb514-2ffb-4d3a-81b5-0204486d25c1' title='Show/Hide data repr'><svg class='icon xr-icon-database'><use xlink:href='#icon-database'></use></svg></label><div class='xr-var-attrs'><dl class='xr-attrs'><dt><span>long_name :</span></dt><dd>Dvorak current intensity (RWMC New Delhi)</dd><dt><span>standard_name :</span></dt><dd>dvorak_tropical_cyclone_current_intensity_number</dd><dt><span>units :</span></dt><dd>1</dd><dt><span>valid_min :</span></dt><dd>0.0</dd><dt><span>valid_max :</span></dt><dd>8.0</dd><dt><span>coverage_content_type :</span></dt><dd>thematicClassification</dd></dl></div><div class='xr-var-data'><pre>[843840 values with dtype=float32]</pre></div></li><li class='xr-var-item'><div class='xr-var-name'><span>newdelhi_dp</span></div><div class='xr-var-dims'>(storm, date_time)</div><div class='xr-var-dtype'>float32</div><div class='xr-var-preview xr-preview'>...</div><input id='attrs-ac7ea74f-2fbc-4b9b-8ac6-cfc16418c992' class='xr-var-attrs-in' type='checkbox' ><label for='attrs-ac7ea74f-2fbc-4b9b-8ac6-cfc16418c992' title='Show/Hide attributes'><svg class='icon xr-icon-file-text2'><use xlink:href='#icon-file-text2'></use></svg></label><input id='data-e38e8581-97b5-419f-aed4-73fe0cb8fcf5' class='xr-var-data-in' type='checkbox'><label for='data-e38e8581-97b5-419f-aed4-73fe0cb8fcf5' title='Show/Hide data repr'><svg class='icon xr-icon-database'><use xlink:href='#icon-database'></use></svg></label><div class='xr-var-attrs'><dl class='xr-attrs'><dt><span>long_name :</span></dt><dd>Storm pressure drop</dd><dt><span>units :</span></dt><dd>mb</dd><dt><span>valid_min :</span></dt><dd>1</dd><dt><span>valid_max :</span></dt><dd>250</dd><dt><span>coverage_content_type :</span></dt><dd>physicalMeasurement</dd></dl></div><div class='xr-var-data'><pre>[843840 values with dtype=float32]</pre></div></li><li class='xr-var-item'><div class='xr-var-name'><span>newdelhi_poci</span></div><div class='xr-var-dims'>(storm, date_time)</div><div class='xr-var-dtype'>float32</div><div class='xr-var-preview xr-preview'>...</div><input id='attrs-dc696f3f-6003-4abe-b355-baf25675badc' class='xr-var-attrs-in' type='checkbox' ><label for='attrs-dc696f3f-6003-4abe-b355-baf25675badc' title='Show/Hide attributes'><svg class='icon xr-icon-file-text2'><use xlink:href='#icon-file-text2'></use></svg></label><input id='data-30945d54-0f3d-452b-a164-26173e1a62ba' class='xr-var-data-in' type='checkbox'><label for='data-30945d54-0f3d-452b-a164-26173e1a62ba' title='Show/Hide data repr'><svg class='icon xr-icon-database'><use xlink:href='#icon-database'></use></svg></label><div class='xr-var-attrs'><dl class='xr-attrs'><dt><span>long_name :</span></dt><dd>Pressure of outermost closed isobar</dd><dt><span>units :</span></dt><dd>mb</dd><dt><span>valid_min :</span></dt><dd>900</dd><dt><span>valid_max :</span></dt><dd>1050</dd><dt><span>coverage_content_type :</span></dt><dd>physicalMeasurement</dd></dl></div><div class='xr-var-data'><pre>[843840 values with dtype=float32]</pre></div></li><li class='xr-var-item'><div class='xr-var-name'><span>reunion_lat</span></div><div class='xr-var-dims'>(storm, date_time)</div><div class='xr-var-dtype'>float32</div><div class='xr-var-preview xr-preview'>...</div><input id='attrs-9861d659-ebb7-4224-93f7-330e4d69d6d5' class='xr-var-attrs-in' type='checkbox' ><label for='attrs-9861d659-ebb7-4224-93f7-330e4d69d6d5' title='Show/Hide attributes'><svg class='icon xr-icon-file-text2'><use xlink:href='#icon-file-text2'></use></svg></label><input id='data-35b57401-1c34-4534-a4c4-0d608dbc23d5' class='xr-var-data-in' type='checkbox'><label for='data-35b57401-1c34-4534-a4c4-0d608dbc23d5' title='Show/Hide data repr'><svg class='icon xr-icon-database'><use xlink:href='#icon-database'></use></svg></label><div class='xr-var-attrs'><dl class='xr-attrs'><dt><span>long_name :</span></dt><dd>Latitude (RSMC La Reunion)</dd><dt><span>units :</span></dt><dd>degrees_north</dd><dt><span>coverage_content_type :</span></dt><dd>coordinate</dd></dl></div><div class='xr-var-data'><pre>[843840 values with dtype=float32]</pre></div></li><li class='xr-var-item'><div class='xr-var-name'><span>reunion_lon</span></div><div class='xr-var-dims'>(storm, date_time)</div><div class='xr-var-dtype'>float32</div><div class='xr-var-preview xr-preview'>...</div><input id='attrs-585788aa-83c7-466c-9c41-3dd765f17f82' class='xr-var-attrs-in' type='checkbox' ><label for='attrs-585788aa-83c7-466c-9c41-3dd765f17f82' title='Show/Hide attributes'><svg class='icon xr-icon-file-text2'><use xlink:href='#icon-file-text2'></use></svg></label><input id='data-07c1519a-2974-4163-83f5-d66b1874f3c0' class='xr-var-data-in' type='checkbox'><label for='data-07c1519a-2974-4163-83f5-d66b1874f3c0' title='Show/Hide data repr'><svg class='icon xr-icon-database'><use xlink:href='#icon-database'></use></svg></label><div class='xr-var-attrs'><dl class='xr-attrs'><dt><span>long_name :</span></dt><dd>Longitude (RSMC La Reunion)</dd><dt><span>units :</span></dt><dd>degrees_east</dd><dt><span>coverage_content_type :</span></dt><dd>coordinate</dd></dl></div><div class='xr-var-data'><pre>[843840 values with dtype=float32]</pre></div></li><li class='xr-var-item'><div class='xr-var-name'><span>reunion_type</span></div><div class='xr-var-dims'>(storm, date_time)</div><div class='xr-var-dtype'>float32</div><div class='xr-var-preview xr-preview'>...</div><input id='attrs-0d7a5fc0-3eb6-4218-9a9c-dc34da991126' class='xr-var-attrs-in' type='checkbox' ><label for='attrs-0d7a5fc0-3eb6-4218-9a9c-dc34da991126' title='Show/Hide attributes'><svg class='icon xr-icon-file-text2'><use xlink:href='#icon-file-text2'></use></svg></label><input id='data-f3b53777-4728-455f-8b1a-6b49aca9c9a3' class='xr-var-data-in' type='checkbox'><label for='data-f3b53777-4728-455f-8b1a-6b49aca9c9a3' title='Show/Hide data repr'><svg class='icon xr-icon-database'><use xlink:href='#icon-database'></use></svg></label><div class='xr-var-attrs'><dl class='xr-attrs'><dt><span>long_name :</span></dt><dd>Storm type</dd><dt><span>valid_min :</span></dt><dd>1</dd><dt><span>valid_max :</span></dt><dd>9</dd><dt><span>flag_values :</span></dt><dd>[1 2 3 4 5 6 7 8 9]</dd><dt><span>flag_names :</span></dt><dd>tropical_disturbance tropical_depression_winds_less_than_34 tropical_storm_winds_34_to_63 tropical_cyclone_winds_64_or_more extratropical dissipating subtropical_cyclone overland unknown</dd><dt><span>coverage_content_type :</span></dt><dd>thematicClassification</dd></dl></div><div class='xr-var-data'><pre>[843840 values with dtype=float32]</pre></div></li><li class='xr-var-item'><div class='xr-var-name'><span>reunion_wind</span></div><div class='xr-var-dims'>(storm, date_time)</div><div class='xr-var-dtype'>float32</div><div class='xr-var-preview xr-preview'>...</div><input id='attrs-39650c88-77f7-4f92-a49f-0ae064571c94' class='xr-var-attrs-in' type='checkbox' ><label for='attrs-39650c88-77f7-4f92-a49f-0ae064571c94' title='Show/Hide attributes'><svg class='icon xr-icon-file-text2'><use xlink:href='#icon-file-text2'></use></svg></label><input id='data-d8ae4435-9493-4f8e-9b8d-4769bd79bdc0' class='xr-var-data-in' type='checkbox'><label for='data-d8ae4435-9493-4f8e-9b8d-4769bd79bdc0' title='Show/Hide data repr'><svg class='icon xr-icon-database'><use xlink:href='#icon-database'></use></svg></label><div class='xr-var-attrs'><dl class='xr-attrs'><dt><span>long_name :</span></dt><dd>Maximum sustained wind speed</dd><dt><span>units :</span></dt><dd>kts</dd><dt><span>valid_min :</span></dt><dd>1</dd><dt><span>valid_max :</span></dt><dd>250</dd><dt><span>coverage_content_type :</span></dt><dd>physicalMeasurement</dd></dl></div><div class='xr-var-data'><pre>[843840 values with dtype=float32]</pre></div></li><li class='xr-var-item'><div class='xr-var-name'><span>reunion_pres</span></div><div class='xr-var-dims'>(storm, date_time)</div><div class='xr-var-dtype'>float32</div><div class='xr-var-preview xr-preview'>...</div><input id='attrs-56200d90-c542-468d-bb6c-bacfcc4f73c8' class='xr-var-attrs-in' type='checkbox' ><label for='attrs-56200d90-c542-468d-bb6c-bacfcc4f73c8' title='Show/Hide attributes'><svg class='icon xr-icon-file-text2'><use xlink:href='#icon-file-text2'></use></svg></label><input id='data-1f815b4b-aba7-4122-bd63-7d5b5ddc0048' class='xr-var-data-in' type='checkbox'><label for='data-1f815b4b-aba7-4122-bd63-7d5b5ddc0048' title='Show/Hide data repr'><svg class='icon xr-icon-database'><use xlink:href='#icon-database'></use></svg></label><div class='xr-var-attrs'><dl class='xr-attrs'><dt><span>long_name :</span></dt><dd>Minimum central pressure</dd><dt><span>units :</span></dt><dd>mb</dd><dt><span>valid_min :</span></dt><dd>700</dd><dt><span>valid_max :</span></dt><dd>1050</dd><dt><span>coverage_content_type :</span></dt><dd>physicalMeasurement</dd></dl></div><div class='xr-var-data'><pre>[843840 values with dtype=float32]</pre></div></li><li class='xr-var-item'><div class='xr-var-name'><span>reunion_tnum</span></div><div class='xr-var-dims'>(storm, date_time)</div><div class='xr-var-dtype'>float32</div><div class='xr-var-preview xr-preview'>...</div><input id='attrs-e6ef183c-959e-4588-8fe7-ebf3ec19b100' class='xr-var-attrs-in' type='checkbox' ><label for='attrs-e6ef183c-959e-4588-8fe7-ebf3ec19b100' title='Show/Hide attributes'><svg class='icon xr-icon-file-text2'><use xlink:href='#icon-file-text2'></use></svg></label><input id='data-1fcbd30d-b451-404d-88b2-3e24dcf61ab2' class='xr-var-data-in' type='checkbox'><label for='data-1fcbd30d-b451-404d-88b2-3e24dcf61ab2' title='Show/Hide data repr'><svg class='icon xr-icon-database'><use xlink:href='#icon-database'></use></svg></label><div class='xr-var-attrs'><dl class='xr-attrs'><dt><span>long_name :</span></dt><dd>Dvorak T number</dd><dt><span>units :</span></dt><dd>1</dd><dt><span>valid_min :</span></dt><dd>0.0</dd><dt><span>valid_max :</span></dt><dd>8.0</dd><dt><span>coverage_content_type :</span></dt><dd>thematicClassification</dd></dl></div><div class='xr-var-data'><pre>[843840 values with dtype=float32]</pre></div></li><li class='xr-var-item'><div class='xr-var-name'><span>reunion_ci</span></div><div class='xr-var-dims'>(storm, date_time)</div><div class='xr-var-dtype'>float32</div><div class='xr-var-preview xr-preview'>...</div><input id='attrs-36634549-f7cb-45cf-b1c8-dc8162e478e2' class='xr-var-attrs-in' type='checkbox' ><label for='attrs-36634549-f7cb-45cf-b1c8-dc8162e478e2' title='Show/Hide attributes'><svg class='icon xr-icon-file-text2'><use xlink:href='#icon-file-text2'></use></svg></label><input id='data-acef00bd-66d9-4668-9ca0-59427eeeaa2b' class='xr-var-data-in' type='checkbox'><label for='data-acef00bd-66d9-4668-9ca0-59427eeeaa2b' title='Show/Hide data repr'><svg class='icon xr-icon-database'><use xlink:href='#icon-database'></use></svg></label><div class='xr-var-attrs'><dl class='xr-attrs'><dt><span>long_name :</span></dt><dd>Dvorak Current Intensity (CI)</dd><dt><span>standard_name :</span></dt><dd>dvorak_tropical_cyclone_current_intensity_number</dd><dt><span>units :</span></dt><dd>1</dd><dt><span>valid_min :</span></dt><dd>0.0</dd><dt><span>valid_max :</span></dt><dd>8.0</dd><dt><span>coverage_content_type :</span></dt><dd>thematicClassification</dd></dl></div><div class='xr-var-data'><pre>[843840 values with dtype=float32]</pre></div></li><li class='xr-var-item'><div class='xr-var-name'><span>reunion_rmw</span></div><div class='xr-var-dims'>(storm, date_time)</div><div class='xr-var-dtype'>float32</div><div class='xr-var-preview xr-preview'>...</div><input id='attrs-bb116cda-7a15-4ce5-ab7a-8b390484f078' class='xr-var-attrs-in' type='checkbox' ><label for='attrs-bb116cda-7a15-4ce5-ab7a-8b390484f078' title='Show/Hide attributes'><svg class='icon xr-icon-file-text2'><use xlink:href='#icon-file-text2'></use></svg></label><input id='data-11262814-1f35-4e21-9e0f-5ede30629d7e' class='xr-var-data-in' type='checkbox'><label for='data-11262814-1f35-4e21-9e0f-5ede30629d7e' title='Show/Hide data repr'><svg class='icon xr-icon-database'><use xlink:href='#icon-database'></use></svg></label><div class='xr-var-attrs'><dl class='xr-attrs'><dt><span>long_name :</span></dt><dd>Radius of maximum winds</dd><dt><span>standard_name :</span></dt><dd>radius_of_tropical_cyclone_maximum_sustained_wind_speed</dd><dt><span>units :</span></dt><dd>nmile</dd><dt><span>valid_min :</span></dt><dd>1</dd><dt><span>valid_max :</span></dt><dd>250</dd><dt><span>coverage_content_type :</span></dt><dd>physicalMeasurement</dd></dl></div><div class='xr-var-data'><pre>[843840 values with dtype=float32]</pre></div></li><li class='xr-var-item'><div class='xr-var-name'><span>reunion_r34</span></div><div class='xr-var-dims'>(storm, date_time, quadrant)</div><div class='xr-var-dtype'>float32</div><div class='xr-var-preview xr-preview'>...</div><input id='attrs-ac030757-e9b5-4405-a4d4-270279c156ce' class='xr-var-attrs-in' type='checkbox' ><label for='attrs-ac030757-e9b5-4405-a4d4-270279c156ce' title='Show/Hide attributes'><svg class='icon xr-icon-file-text2'><use xlink:href='#icon-file-text2'></use></svg></label><input id='data-df33b483-f138-44c8-abca-e71794f9e30c' class='xr-var-data-in' type='checkbox'><label for='data-df33b483-f138-44c8-abca-e71794f9e30c' title='Show/Hide data repr'><svg class='icon xr-icon-database'><use xlink:href='#icon-database'></use></svg></label><div class='xr-var-attrs'><dl class='xr-attrs'><dt><span>long_name :</span></dt><dd>Radius of 34 knot winds (storm force)</dd><dt><span>units :</span></dt><dd>nmile</dd><dt><span>valid_min :</span></dt><dd>1</dd><dt><span>valid_max :</span></dt><dd>5500</dd><dt><span>coverage_content_type :</span></dt><dd>physicalMeasurement</dd></dl></div><div class='xr-var-data'><pre>[3375360 values with dtype=float32]</pre></div></li><li class='xr-var-item'><div class='xr-var-name'><span>reunion_r50</span></div><div class='xr-var-dims'>(storm, date_time, quadrant)</div><div class='xr-var-dtype'>float32</div><div class='xr-var-preview xr-preview'>...</div><input id='attrs-62b57267-df38-464f-adf5-378de461ffcb' class='xr-var-attrs-in' type='checkbox' ><label for='attrs-62b57267-df38-464f-adf5-378de461ffcb' title='Show/Hide attributes'><svg class='icon xr-icon-file-text2'><use xlink:href='#icon-file-text2'></use></svg></label><input id='data-10f29981-503c-4a14-a1d8-30d1d825473a' class='xr-var-data-in' type='checkbox'><label for='data-10f29981-503c-4a14-a1d8-30d1d825473a' title='Show/Hide data repr'><svg class='icon xr-icon-database'><use xlink:href='#icon-database'></use></svg></label><div class='xr-var-attrs'><dl class='xr-attrs'><dt><span>long_name :</span></dt><dd>Radius of 50 knot winds (gale force)</dd><dt><span>units :</span></dt><dd>nmile</dd><dt><span>valid_min :</span></dt><dd>1</dd><dt><span>valid_max :</span></dt><dd>5500</dd><dt><span>coverage_content_type :</span></dt><dd>physicalMeasurement</dd></dl></div><div class='xr-var-data'><pre>[3375360 values with dtype=float32]</pre></div></li><li class='xr-var-item'><div class='xr-var-name'><span>reunion_r64</span></div><div class='xr-var-dims'>(storm, date_time, quadrant)</div><div class='xr-var-dtype'>float32</div><div class='xr-var-preview xr-preview'>...</div><input id='attrs-596701a6-e5a6-48f0-bd73-93a484c05b0f' class='xr-var-attrs-in' type='checkbox' ><label for='attrs-596701a6-e5a6-48f0-bd73-93a484c05b0f' title='Show/Hide attributes'><svg class='icon xr-icon-file-text2'><use xlink:href='#icon-file-text2'></use></svg></label><input id='data-85ae738a-1280-4f0e-a74f-959f0505a243' class='xr-var-data-in' type='checkbox'><label for='data-85ae738a-1280-4f0e-a74f-959f0505a243' title='Show/Hide data repr'><svg class='icon xr-icon-database'><use xlink:href='#icon-database'></use></svg></label><div class='xr-var-attrs'><dl class='xr-attrs'><dt><span>long_name :</span></dt><dd>Radius of 64 knot winds (hurricane force)</dd><dt><span>units :</span></dt><dd>nmile</dd><dt><span>valid_min :</span></dt><dd>1</dd><dt><span>valid_max :</span></dt><dd>5500</dd><dt><span>coverage_content_type :</span></dt><dd>physicalMeasurement</dd></dl></div><div class='xr-var-data'><pre>[3375360 values with dtype=float32]</pre></div></li><li class='xr-var-item'><div class='xr-var-name'><span>bom_lat</span></div><div class='xr-var-dims'>(storm, date_time)</div><div class='xr-var-dtype'>float32</div><div class='xr-var-preview xr-preview'>...</div><input id='attrs-b0abab03-f6a6-4f4b-9dab-98bd9711a78c' class='xr-var-attrs-in' type='checkbox' ><label for='attrs-b0abab03-f6a6-4f4b-9dab-98bd9711a78c' title='Show/Hide attributes'><svg class='icon xr-icon-file-text2'><use xlink:href='#icon-file-text2'></use></svg></label><input id='data-d1c4a32c-b573-4409-9e67-111c96380b42' class='xr-var-data-in' type='checkbox'><label for='data-d1c4a32c-b573-4409-9e67-111c96380b42' title='Show/Hide data repr'><svg class='icon xr-icon-database'><use xlink:href='#icon-database'></use></svg></label><div class='xr-var-attrs'><dl class='xr-attrs'><dt><span>long_name :</span></dt><dd>Latitude (Australian BoM)</dd><dt><span>units :</span></dt><dd>degrees_north</dd><dt><span>coverage_content_type :</span></dt><dd>coordinate</dd></dl></div><div class='xr-var-data'><pre>[843840 values with dtype=float32]</pre></div></li><li class='xr-var-item'><div class='xr-var-name'><span>bom_lon</span></div><div class='xr-var-dims'>(storm, date_time)</div><div class='xr-var-dtype'>float32</div><div class='xr-var-preview xr-preview'>...</div><input id='attrs-5d89efe5-c2e0-4ec4-a704-80698d4b6ad5' class='xr-var-attrs-in' type='checkbox' ><label for='attrs-5d89efe5-c2e0-4ec4-a704-80698d4b6ad5' title='Show/Hide attributes'><svg class='icon xr-icon-file-text2'><use xlink:href='#icon-file-text2'></use></svg></label><input id='data-d0b1de9c-30c8-4f61-b0ab-fd0f357ee516' class='xr-var-data-in' type='checkbox'><label for='data-d0b1de9c-30c8-4f61-b0ab-fd0f357ee516' title='Show/Hide data repr'><svg class='icon xr-icon-database'><use xlink:href='#icon-database'></use></svg></label><div class='xr-var-attrs'><dl class='xr-attrs'><dt><span>long_name :</span></dt><dd>Longitude (Australian BoM)</dd><dt><span>units :</span></dt><dd>degrees_east</dd><dt><span>coverage_content_type :</span></dt><dd>coordinate</dd></dl></div><div class='xr-var-data'><pre>[843840 values with dtype=float32]</pre></div></li><li class='xr-var-item'><div class='xr-var-name'><span>bom_type</span></div><div class='xr-var-dims'>(storm, date_time)</div><div class='xr-var-dtype'>float32</div><div class='xr-var-preview xr-preview'>...</div><input id='attrs-bb1c927e-c284-46ef-a530-8b5366b34463' class='xr-var-attrs-in' type='checkbox' ><label for='attrs-bb1c927e-c284-46ef-a530-8b5366b34463' title='Show/Hide attributes'><svg class='icon xr-icon-file-text2'><use xlink:href='#icon-file-text2'></use></svg></label><input id='data-a19e9872-b496-4d57-a821-91a790513282' class='xr-var-data-in' type='checkbox'><label for='data-a19e9872-b496-4d57-a821-91a790513282' title='Show/Hide data repr'><svg class='icon xr-icon-database'><use xlink:href='#icon-database'></use></svg></label><div class='xr-var-attrs'><dl class='xr-attrs'><dt><span>long_name :</span></dt><dd>Cyclone type</dd><dt><span>valid_min :</span></dt><dd>10</dd><dt><span>valid_max :</span></dt><dd>91</dd><dt><span>flag_values :</span></dt><dd>[10 20 21 30 40 50 51 52 60 70 71 72 80 81 91]</dd><dt><span>flag_names :</span></dt><dd>tropics_disturbance_no_closed_isobar tropical_depression_wind_lt_34_and_1_closed_isobar tropical_storm_wind_34_to_63_in_1_or_2_quadrants tropical_storm_wind_34_to_63_in_3_or_4_quadrants wind_gt_63_knots extratropical_no_gales extratropical_with_gales extratropical_wind_unknown dissipating_no_gales subtropical_cyclone_no_gales subtropical_cyclone_with_gales subtropical_cyclone_wind_unknown overland_no_gales overland_with_gales tropical_cold_cored_monsoon_low</dd><dt><span>coverage_content_type :</span></dt><dd>thematicClassification</dd></dl></div><div class='xr-var-data'><pre>[843840 values with dtype=float32]</pre></div></li><li class='xr-var-item'><div class='xr-var-name'><span>bom_wind</span></div><div class='xr-var-dims'>(storm, date_time)</div><div class='xr-var-dtype'>float32</div><div class='xr-var-preview xr-preview'>...</div><input id='attrs-8dcbfed1-0280-4186-a5e5-8b5bef5ac009' class='xr-var-attrs-in' type='checkbox' ><label for='attrs-8dcbfed1-0280-4186-a5e5-8b5bef5ac009' title='Show/Hide attributes'><svg class='icon xr-icon-file-text2'><use xlink:href='#icon-file-text2'></use></svg></label><input id='data-9dee194a-72a2-4596-81d4-4da8b29e2112' class='xr-var-data-in' type='checkbox'><label for='data-9dee194a-72a2-4596-81d4-4da8b29e2112' title='Show/Hide data repr'><svg class='icon xr-icon-database'><use xlink:href='#icon-database'></use></svg></label><div class='xr-var-attrs'><dl class='xr-attrs'><dt><span>long_name :</span></dt><dd>Maximum sustained wind speed</dd><dt><span>units :</span></dt><dd>kts</dd><dt><span>valid_min :</span></dt><dd>1</dd><dt><span>valid_max :</span></dt><dd>250</dd><dt><span>coverage_content_type :</span></dt><dd>physicalMeasurement</dd></dl></div><div class='xr-var-data'><pre>[843840 values with dtype=float32]</pre></div></li><li class='xr-var-item'><div class='xr-var-name'><span>bom_pres</span></div><div class='xr-var-dims'>(storm, date_time)</div><div class='xr-var-dtype'>float32</div><div class='xr-var-preview xr-preview'>...</div><input id='attrs-3ec9d303-807a-4e71-8d41-d6f425bc13e6' class='xr-var-attrs-in' type='checkbox' ><label for='attrs-3ec9d303-807a-4e71-8d41-d6f425bc13e6' title='Show/Hide attributes'><svg class='icon xr-icon-file-text2'><use xlink:href='#icon-file-text2'></use></svg></label><input id='data-91ad7c7f-2a98-4a49-9528-833c37c73ce2' class='xr-var-data-in' type='checkbox'><label for='data-91ad7c7f-2a98-4a49-9528-833c37c73ce2' title='Show/Hide data repr'><svg class='icon xr-icon-database'><use xlink:href='#icon-database'></use></svg></label><div class='xr-var-attrs'><dl class='xr-attrs'><dt><span>long_name :</span></dt><dd>Minimum central pressure</dd><dt><span>units :</span></dt><dd>mb</dd><dt><span>valid_min :</span></dt><dd>700</dd><dt><span>valid_max :</span></dt><dd>1050</dd><dt><span>coverage_content_type :</span></dt><dd>physicalMeasurement</dd></dl></div><div class='xr-var-data'><pre>[843840 values with dtype=float32]</pre></div></li><li class='xr-var-item'><div class='xr-var-name'><span>bom_tnum</span></div><div class='xr-var-dims'>(storm, date_time)</div><div class='xr-var-dtype'>float32</div><div class='xr-var-preview xr-preview'>...</div><input id='attrs-5468dcc7-9448-4682-9865-eb1bae4c3b0c' class='xr-var-attrs-in' type='checkbox' ><label for='attrs-5468dcc7-9448-4682-9865-eb1bae4c3b0c' title='Show/Hide attributes'><svg class='icon xr-icon-file-text2'><use xlink:href='#icon-file-text2'></use></svg></label><input id='data-72e0b24d-4511-43fc-ad84-eec07c318d93' class='xr-var-data-in' type='checkbox'><label for='data-72e0b24d-4511-43fc-ad84-eec07c318d93' title='Show/Hide data repr'><svg class='icon xr-icon-database'><use xlink:href='#icon-database'></use></svg></label><div class='xr-var-attrs'><dl class='xr-attrs'><dt><span>long_name :</span></dt><dd>Dvorak T number</dd><dt><span>units :</span></dt><dd>1</dd><dt><span>valid_min :</span></dt><dd>0.0</dd><dt><span>valid_max :</span></dt><dd>8.0</dd><dt><span>coverage_content_type :</span></dt><dd>thematicClassification</dd></dl></div><div class='xr-var-data'><pre>[843840 values with dtype=float32]</pre></div></li><li class='xr-var-item'><div class='xr-var-name'><span>bom_ci</span></div><div class='xr-var-dims'>(storm, date_time)</div><div class='xr-var-dtype'>float32</div><div class='xr-var-preview xr-preview'>...</div><input id='attrs-b5872c05-3338-4964-90d8-963292c6cffb' class='xr-var-attrs-in' type='checkbox' ><label for='attrs-b5872c05-3338-4964-90d8-963292c6cffb' title='Show/Hide attributes'><svg class='icon xr-icon-file-text2'><use xlink:href='#icon-file-text2'></use></svg></label><input id='data-cf51861c-6bc5-4cf6-aedb-5eb1216f6d13' class='xr-var-data-in' type='checkbox'><label for='data-cf51861c-6bc5-4cf6-aedb-5eb1216f6d13' title='Show/Hide data repr'><svg class='icon xr-icon-database'><use xlink:href='#icon-database'></use></svg></label><div class='xr-var-attrs'><dl class='xr-attrs'><dt><span>long_name :</span></dt><dd>Dvorak Current Intensity (CI)</dd><dt><span>standard_name :</span></dt><dd>dvorak_tropical_cyclone_current_intensity_number</dd><dt><span>units :</span></dt><dd>1</dd><dt><span>valid_min :</span></dt><dd>0.0</dd><dt><span>valid_max :</span></dt><dd>8.0</dd><dt><span>coverage_content_type :</span></dt><dd>thematicClassification</dd></dl></div><div class='xr-var-data'><pre>[843840 values with dtype=float32]</pre></div></li><li class='xr-var-item'><div class='xr-var-name'><span>bom_rmw</span></div><div class='xr-var-dims'>(storm, date_time)</div><div class='xr-var-dtype'>float32</div><div class='xr-var-preview xr-preview'>...</div><input id='attrs-350fb710-33ce-45e8-8243-a0ec4735118d' class='xr-var-attrs-in' type='checkbox' ><label for='attrs-350fb710-33ce-45e8-8243-a0ec4735118d' title='Show/Hide attributes'><svg class='icon xr-icon-file-text2'><use xlink:href='#icon-file-text2'></use></svg></label><input id='data-83b44f54-f955-419c-a883-fa613c87dd2a' class='xr-var-data-in' type='checkbox'><label for='data-83b44f54-f955-419c-a883-fa613c87dd2a' title='Show/Hide data repr'><svg class='icon xr-icon-database'><use xlink:href='#icon-database'></use></svg></label><div class='xr-var-attrs'><dl class='xr-attrs'><dt><span>long_name :</span></dt><dd>Radius of maximum winds</dd><dt><span>standard_name :</span></dt><dd>radius_of_tropical_cyclone_maximum_sustained_wind_speed</dd><dt><span>units :</span></dt><dd>nmile</dd><dt><span>valid_min :</span></dt><dd>1</dd><dt><span>valid_max :</span></dt><dd>1000</dd><dt><span>coverage_content_type :</span></dt><dd>physicalMeasurement</dd></dl></div><div class='xr-var-data'><pre>[843840 values with dtype=float32]</pre></div></li><li class='xr-var-item'><div class='xr-var-name'><span>bom_r34</span></div><div class='xr-var-dims'>(storm, date_time, quadrant)</div><div class='xr-var-dtype'>float32</div><div class='xr-var-preview xr-preview'>...</div><input id='attrs-fbe7e049-274d-44e7-baa1-6d051b449be4' class='xr-var-attrs-in' type='checkbox' ><label for='attrs-fbe7e049-274d-44e7-baa1-6d051b449be4' title='Show/Hide attributes'><svg class='icon xr-icon-file-text2'><use xlink:href='#icon-file-text2'></use></svg></label><input id='data-a2b1e99a-2510-45b2-9052-502a4567588c' class='xr-var-data-in' type='checkbox'><label for='data-a2b1e99a-2510-45b2-9052-502a4567588c' title='Show/Hide data repr'><svg class='icon xr-icon-database'><use xlink:href='#icon-database'></use></svg></label><div class='xr-var-attrs'><dl class='xr-attrs'><dt><span>long_name :</span></dt><dd>Radius of 34 knot winds (storm force)</dd><dt><span>units :</span></dt><dd>nmile</dd><dt><span>valid_min :</span></dt><dd>1</dd><dt><span>valid_max :</span></dt><dd>2000</dd><dt><span>coverage_content_type :</span></dt><dd>physicalMeasurement</dd></dl></div><div class='xr-var-data'><pre>[3375360 values with dtype=float32]</pre></div></li><li class='xr-var-item'><div class='xr-var-name'><span>bom_r50</span></div><div class='xr-var-dims'>(storm, date_time, quadrant)</div><div class='xr-var-dtype'>float32</div><div class='xr-var-preview xr-preview'>...</div><input id='attrs-e82d9282-01f3-49e9-8af3-9c444185c349' class='xr-var-attrs-in' type='checkbox' ><label for='attrs-e82d9282-01f3-49e9-8af3-9c444185c349' title='Show/Hide attributes'><svg class='icon xr-icon-file-text2'><use xlink:href='#icon-file-text2'></use></svg></label><input id='data-3e9424a9-7326-465b-ab19-335ba7e589d9' class='xr-var-data-in' type='checkbox'><label for='data-3e9424a9-7326-465b-ab19-335ba7e589d9' title='Show/Hide data repr'><svg class='icon xr-icon-database'><use xlink:href='#icon-database'></use></svg></label><div class='xr-var-attrs'><dl class='xr-attrs'><dt><span>long_name :</span></dt><dd>Radius of 50 knot winds (gale force)</dd><dt><span>units :</span></dt><dd>nmile</dd><dt><span>valid_min :</span></dt><dd>1</dd><dt><span>valid_max :</span></dt><dd>2000</dd><dt><span>coverage_content_type :</span></dt><dd>physicalMeasurement</dd></dl></div><div class='xr-var-data'><pre>[3375360 values with dtype=float32]</pre></div></li><li class='xr-var-item'><div class='xr-var-name'><span>bom_r64</span></div><div class='xr-var-dims'>(storm, date_time, quadrant)</div><div class='xr-var-dtype'>float32</div><div class='xr-var-preview xr-preview'>...</div><input id='attrs-bb20030d-ce6b-4dce-a059-c2a171f8670d' class='xr-var-attrs-in' type='checkbox' ><label for='attrs-bb20030d-ce6b-4dce-a059-c2a171f8670d' title='Show/Hide attributes'><svg class='icon xr-icon-file-text2'><use xlink:href='#icon-file-text2'></use></svg></label><input id='data-006e8e60-11ad-47cc-94d4-32c1b08f235e' class='xr-var-data-in' type='checkbox'><label for='data-006e8e60-11ad-47cc-94d4-32c1b08f235e' title='Show/Hide data repr'><svg class='icon xr-icon-database'><use xlink:href='#icon-database'></use></svg></label><div class='xr-var-attrs'><dl class='xr-attrs'><dt><span>long_name :</span></dt><dd>Radius of 64 knot winds (hurricane force)</dd><dt><span>units :</span></dt><dd>nmile</dd><dt><span>valid_min :</span></dt><dd>1</dd><dt><span>valid_max :</span></dt><dd>2000</dd><dt><span>coverage_content_type :</span></dt><dd>physicalMeasurement</dd></dl></div><div class='xr-var-data'><pre>[3375360 values with dtype=float32]</pre></div></li><li class='xr-var-item'><div class='xr-var-name'><span>bom_roci</span></div><div class='xr-var-dims'>(storm, date_time)</div><div class='xr-var-dtype'>float32</div><div class='xr-var-preview xr-preview'>...</div><input id='attrs-af2f6ea1-dab5-4d65-9b82-e76164c30395' class='xr-var-attrs-in' type='checkbox' ><label for='attrs-af2f6ea1-dab5-4d65-9b82-e76164c30395' title='Show/Hide attributes'><svg class='icon xr-icon-file-text2'><use xlink:href='#icon-file-text2'></use></svg></label><input id='data-de8ad368-38c7-4b64-b797-e0c78db177f2' class='xr-var-data-in' type='checkbox'><label for='data-de8ad368-38c7-4b64-b797-e0c78db177f2' title='Show/Hide data repr'><svg class='icon xr-icon-database'><use xlink:href='#icon-database'></use></svg></label><div class='xr-var-attrs'><dl class='xr-attrs'><dt><span>long_name :</span></dt><dd>Radius of outermost closed isobar</dd><dt><span>units :</span></dt><dd>nmile</dd><dt><span>valid_min :</span></dt><dd>1</dd><dt><span>valid_max :</span></dt><dd>2000</dd><dt><span>coverage_content_type :</span></dt><dd>physicalMeasurement</dd></dl></div><div class='xr-var-data'><pre>[843840 values with dtype=float32]</pre></div></li><li class='xr-var-item'><div class='xr-var-name'><span>bom_poci</span></div><div class='xr-var-dims'>(storm, date_time)</div><div class='xr-var-dtype'>float32</div><div class='xr-var-preview xr-preview'>...</div><input id='attrs-15d5dc24-d07d-4287-a87c-5976477b30da' class='xr-var-attrs-in' type='checkbox' ><label for='attrs-15d5dc24-d07d-4287-a87c-5976477b30da' title='Show/Hide attributes'><svg class='icon xr-icon-file-text2'><use xlink:href='#icon-file-text2'></use></svg></label><input id='data-a374e90f-d17d-45dd-a054-1cde850bfd44' class='xr-var-data-in' type='checkbox'><label for='data-a374e90f-d17d-45dd-a054-1cde850bfd44' title='Show/Hide data repr'><svg class='icon xr-icon-database'><use xlink:href='#icon-database'></use></svg></label><div class='xr-var-attrs'><dl class='xr-attrs'><dt><span>long_name :</span></dt><dd>Environmental pressure</dd><dt><span>units :</span></dt><dd>mb</dd><dt><span>valid_min :</span></dt><dd>900</dd><dt><span>valid_max :</span></dt><dd>1050</dd><dt><span>coverage_content_type :</span></dt><dd>physicalMeasurement</dd></dl></div><div class='xr-var-data'><pre>[843840 values with dtype=float32]</pre></div></li><li class='xr-var-item'><div class='xr-var-name'><span>bom_eye</span></div><div class='xr-var-dims'>(storm, date_time)</div><div class='xr-var-dtype'>float32</div><div class='xr-var-preview xr-preview'>...</div><input id='attrs-8aaa8882-183d-420e-bc11-ac4dcb7ba327' class='xr-var-attrs-in' type='checkbox' ><label for='attrs-8aaa8882-183d-420e-bc11-ac4dcb7ba327' title='Show/Hide attributes'><svg class='icon xr-icon-file-text2'><use xlink:href='#icon-file-text2'></use></svg></label><input id='data-eefd7ebb-ff3e-4e45-8889-682732c80ea5' class='xr-var-data-in' type='checkbox'><label for='data-eefd7ebb-ff3e-4e45-8889-682732c80ea5' title='Show/Hide data repr'><svg class='icon xr-icon-database'><use xlink:href='#icon-database'></use></svg></label><div class='xr-var-attrs'><dl class='xr-attrs'><dt><span>long_name :</span></dt><dd>Eye diameter</dd><dt><span>standard_name :</span></dt><dd>radius_of_tropical_cyclone_eye</dd><dt><span>units :</span></dt><dd>nmile</dd><dt><span>valid_min :</span></dt><dd>1</dd><dt><span>valid_max :</span></dt><dd>200</dd><dt><span>coverage_content_type :</span></dt><dd>physicalMeasurement</dd></dl></div><div class='xr-var-data'><pre>[843840 values with dtype=float32]</pre></div></li><li class='xr-var-item'><div class='xr-var-name'><span>bom_pos_method</span></div><div class='xr-var-dims'>(storm, date_time)</div><div class='xr-var-dtype'>float32</div><div class='xr-var-preview xr-preview'>...</div><input id='attrs-5797d4ca-3fb8-43ce-b1a0-0d39ba061fcc' class='xr-var-attrs-in' type='checkbox' ><label for='attrs-5797d4ca-3fb8-43ce-b1a0-0d39ba061fcc' title='Show/Hide attributes'><svg class='icon xr-icon-file-text2'><use xlink:href='#icon-file-text2'></use></svg></label><input id='data-92035caf-d8e4-4a59-8a11-c3d3025add6b' class='xr-var-data-in' type='checkbox'><label for='data-92035caf-d8e4-4a59-8a11-c3d3025add6b' title='Show/Hide data repr'><svg class='icon xr-icon-database'><use xlink:href='#icon-database'></use></svg></label><div class='xr-var-attrs'><dl class='xr-attrs'><dt><span>long_name :</span></dt><dd>Method used to derive position</dd><dt><span>flag_values :</span></dt><dd>[ 1  2  3  4  5  6  7  8 10 11 12 13]</dd><dt><span>flag_names :</span></dt><dd>no_sat_no_radar_no_obs no_sat_no_radar_obs_only sat_ir_vis_no_clear_eye sat_ir_vis_clearly_defined_eye aircraft_radar_report landbased_radar_report sat_ir_vis_and_radar_and_obs report_inside_eye sat_scatterometer sat_microwave manned_aircraft_recon UAV_aircraft_recon</dd><dt><span>coverage_content_type :</span></dt><dd>qualityInformation</dd></dl></div><div class='xr-var-data'><pre>[843840 values with dtype=float32]</pre></div></li><li class='xr-var-item'><div class='xr-var-name'><span>bom_pres_method</span></div><div class='xr-var-dims'>(storm, date_time)</div><div class='xr-var-dtype'>float32</div><div class='xr-var-preview xr-preview'>...</div><input id='attrs-901a7e08-65a4-48ec-992b-d61ec848bfba' class='xr-var-attrs-in' type='checkbox' ><label for='attrs-901a7e08-65a4-48ec-992b-d61ec848bfba' title='Show/Hide attributes'><svg class='icon xr-icon-file-text2'><use xlink:href='#icon-file-text2'></use></svg></label><input id='data-dbc55440-d4b4-4d34-a1dd-4a558c23f39f' class='xr-var-data-in' type='checkbox'><label for='data-dbc55440-d4b4-4d34-a1dd-4a558c23f39f' title='Show/Hide data repr'><svg class='icon xr-icon-database'><use xlink:href='#icon-database'></use></svg></label><div class='xr-var-attrs'><dl class='xr-attrs'><dt><span>long_name :</span></dt><dd>Method used to derive intensity</dd><dt><span>flag_values :</span></dt><dd>[1 2 3 4 5 6 7 8 9]</dd><dt><span>flag_names :</span></dt><dd>aircraft_or_dropsonde over_wat_obs over_land_obs instrument_unknown_type derived_Dvorak derived_from_wind_W_P_relationship estimate_from_surrounding_obs extrapolation_from_radar other</dd><dt><span>coverage_content_type :</span></dt><dd>qualityInformation</dd></dl></div><div class='xr-var-data'><pre>[843840 values with dtype=float32]</pre></div></li><li class='xr-var-item'><div class='xr-var-name'><span>nadi_lat</span></div><div class='xr-var-dims'>(storm, date_time)</div><div class='xr-var-dtype'>float32</div><div class='xr-var-preview xr-preview'>...</div><input id='attrs-c4faf9fb-354f-4513-811b-15b678932f6d' class='xr-var-attrs-in' type='checkbox' ><label for='attrs-c4faf9fb-354f-4513-811b-15b678932f6d' title='Show/Hide attributes'><svg class='icon xr-icon-file-text2'><use xlink:href='#icon-file-text2'></use></svg></label><input id='data-a1e66353-c205-4f00-bf32-2d2b4118ff05' class='xr-var-data-in' type='checkbox'><label for='data-a1e66353-c205-4f00-bf32-2d2b4118ff05' title='Show/Hide data repr'><svg class='icon xr-icon-database'><use xlink:href='#icon-database'></use></svg></label><div class='xr-var-attrs'><dl class='xr-attrs'><dt><span>long_name :</span></dt><dd>Latitude (RSMC Fiji)</dd><dt><span>units :</span></dt><dd>degrees_north</dd><dt><span>coverage_content_type :</span></dt><dd>coordinate</dd></dl></div><div class='xr-var-data'><pre>[843840 values with dtype=float32]</pre></div></li><li class='xr-var-item'><div class='xr-var-name'><span>nadi_lon</span></div><div class='xr-var-dims'>(storm, date_time)</div><div class='xr-var-dtype'>float32</div><div class='xr-var-preview xr-preview'>...</div><input id='attrs-39d240ab-e3d5-4285-8e50-a428be440b30' class='xr-var-attrs-in' type='checkbox' ><label for='attrs-39d240ab-e3d5-4285-8e50-a428be440b30' title='Show/Hide attributes'><svg class='icon xr-icon-file-text2'><use xlink:href='#icon-file-text2'></use></svg></label><input id='data-9ebb8d68-99da-4017-a11e-a46f17e43779' class='xr-var-data-in' type='checkbox'><label for='data-9ebb8d68-99da-4017-a11e-a46f17e43779' title='Show/Hide data repr'><svg class='icon xr-icon-database'><use xlink:href='#icon-database'></use></svg></label><div class='xr-var-attrs'><dl class='xr-attrs'><dt><span>long_name :</span></dt><dd>Longitude (RSMC Fiji)</dd><dt><span>units :</span></dt><dd>degrees_east</dd><dt><span>coverage_content_type :</span></dt><dd>coordinate</dd></dl></div><div class='xr-var-data'><pre>[843840 values with dtype=float32]</pre></div></li><li class='xr-var-item'><div class='xr-var-name'><span>nadi_cat</span></div><div class='xr-var-dims'>(storm, date_time)</div><div class='xr-var-dtype'>float32</div><div class='xr-var-preview xr-preview'>...</div><input id='attrs-848b03e9-f8f2-4f42-965c-5002c8d173fd' class='xr-var-attrs-in' type='checkbox' ><label for='attrs-848b03e9-f8f2-4f42-965c-5002c8d173fd' title='Show/Hide attributes'><svg class='icon xr-icon-file-text2'><use xlink:href='#icon-file-text2'></use></svg></label><input id='data-a03d265c-bcf4-4ab6-b1e6-a1d67f591076' class='xr-var-data-in' type='checkbox'><label for='data-a03d265c-bcf4-4ab6-b1e6-a1d67f591076' title='Show/Hide data repr'><svg class='icon xr-icon-database'><use xlink:href='#icon-database'></use></svg></label><div class='xr-var-attrs'><dl class='xr-attrs'><dt><span>long_name :</span></dt><dd>Storm category</dd><dt><span>units :</span></dt><dd>1</dd><dt><span>coverage_content_type :</span></dt><dd>thematicClassification</dd></dl></div><div class='xr-var-data'><pre>[843840 values with dtype=float32]</pre></div></li><li class='xr-var-item'><div class='xr-var-name'><span>nadi_wind</span></div><div class='xr-var-dims'>(storm, date_time)</div><div class='xr-var-dtype'>float32</div><div class='xr-var-preview xr-preview'>...</div><input id='attrs-c366c27a-2214-49fa-8b7a-44dc6937482c' class='xr-var-attrs-in' type='checkbox' ><label for='attrs-c366c27a-2214-49fa-8b7a-44dc6937482c' title='Show/Hide attributes'><svg class='icon xr-icon-file-text2'><use xlink:href='#icon-file-text2'></use></svg></label><input id='data-eb84c149-33fc-47b3-8461-3d0285cdb878' class='xr-var-data-in' type='checkbox'><label for='data-eb84c149-33fc-47b3-8461-3d0285cdb878' title='Show/Hide data repr'><svg class='icon xr-icon-database'><use xlink:href='#icon-database'></use></svg></label><div class='xr-var-attrs'><dl class='xr-attrs'><dt><span>long_name :</span></dt><dd>Maximum sustained wind speed</dd><dt><span>units :</span></dt><dd>kts</dd><dt><span>valid_min :</span></dt><dd>1</dd><dt><span>valid_max :</span></dt><dd>250</dd><dt><span>coverage_content_type :</span></dt><dd>physicalMeasurement</dd></dl></div><div class='xr-var-data'><pre>[843840 values with dtype=float32]</pre></div></li><li class='xr-var-item'><div class='xr-var-name'><span>nadi_pres</span></div><div class='xr-var-dims'>(storm, date_time)</div><div class='xr-var-dtype'>float32</div><div class='xr-var-preview xr-preview'>...</div><input id='attrs-e4538ba3-6617-4085-97c4-200dcb82c8e0' class='xr-var-attrs-in' type='checkbox' ><label for='attrs-e4538ba3-6617-4085-97c4-200dcb82c8e0' title='Show/Hide attributes'><svg class='icon xr-icon-file-text2'><use xlink:href='#icon-file-text2'></use></svg></label><input id='data-7c08327b-52ac-489d-be1c-ede97bfd02ec' class='xr-var-data-in' type='checkbox'><label for='data-7c08327b-52ac-489d-be1c-ede97bfd02ec' title='Show/Hide data repr'><svg class='icon xr-icon-database'><use xlink:href='#icon-database'></use></svg></label><div class='xr-var-attrs'><dl class='xr-attrs'><dt><span>long_name :</span></dt><dd>Minimum central pressure</dd><dt><span>units :</span></dt><dd>mb</dd><dt><span>valid_min :</span></dt><dd>700</dd><dt><span>valid_max :</span></dt><dd>1050</dd><dt><span>coverage_content_type :</span></dt><dd>physicalMeasurement</dd></dl></div><div class='xr-var-data'><pre>[843840 values with dtype=float32]</pre></div></li><li class='xr-var-item'><div class='xr-var-name'><span>wellington_lat</span></div><div class='xr-var-dims'>(storm, date_time)</div><div class='xr-var-dtype'>float32</div><div class='xr-var-preview xr-preview'>...</div><input id='attrs-0146d453-eda3-46d8-af02-00bf9789829a' class='xr-var-attrs-in' type='checkbox' ><label for='attrs-0146d453-eda3-46d8-af02-00bf9789829a' title='Show/Hide attributes'><svg class='icon xr-icon-file-text2'><use xlink:href='#icon-file-text2'></use></svg></label><input id='data-94bae9bd-45ab-4993-9382-961c3532fb9d' class='xr-var-data-in' type='checkbox'><label for='data-94bae9bd-45ab-4993-9382-961c3532fb9d' title='Show/Hide data repr'><svg class='icon xr-icon-database'><use xlink:href='#icon-database'></use></svg></label><div class='xr-var-attrs'><dl class='xr-attrs'><dt><span>long_name :</span></dt><dd>Latitude (RSMC Wellington)</dd><dt><span>units :</span></dt><dd>degrees_north</dd><dt><span>coverage_content_type :</span></dt><dd>coordinate</dd></dl></div><div class='xr-var-data'><pre>[843840 values with dtype=float32]</pre></div></li><li class='xr-var-item'><div class='xr-var-name'><span>wellington_lon</span></div><div class='xr-var-dims'>(storm, date_time)</div><div class='xr-var-dtype'>float32</div><div class='xr-var-preview xr-preview'>...</div><input id='attrs-df60696f-b3c9-426d-bf4a-9fabdef39744' class='xr-var-attrs-in' type='checkbox' ><label for='attrs-df60696f-b3c9-426d-bf4a-9fabdef39744' title='Show/Hide attributes'><svg class='icon xr-icon-file-text2'><use xlink:href='#icon-file-text2'></use></svg></label><input id='data-0b8b762c-ca4e-47bf-8e76-f0ab991be907' class='xr-var-data-in' type='checkbox'><label for='data-0b8b762c-ca4e-47bf-8e76-f0ab991be907' title='Show/Hide data repr'><svg class='icon xr-icon-database'><use xlink:href='#icon-database'></use></svg></label><div class='xr-var-attrs'><dl class='xr-attrs'><dt><span>long_name :</span></dt><dd>Longitude (RSMC Wellington)</dd><dt><span>units :</span></dt><dd>degrees_east</dd><dt><span>coverage_content_type :</span></dt><dd>coordinate</dd></dl></div><div class='xr-var-data'><pre>[843840 values with dtype=float32]</pre></div></li><li class='xr-var-item'><div class='xr-var-name'><span>wellington_wind</span></div><div class='xr-var-dims'>(storm, date_time)</div><div class='xr-var-dtype'>float32</div><div class='xr-var-preview xr-preview'>...</div><input id='attrs-3d382bac-e4ff-4cd2-b2d6-5e3c0d8d4884' class='xr-var-attrs-in' type='checkbox' ><label for='attrs-3d382bac-e4ff-4cd2-b2d6-5e3c0d8d4884' title='Show/Hide attributes'><svg class='icon xr-icon-file-text2'><use xlink:href='#icon-file-text2'></use></svg></label><input id='data-9deb0738-1379-4db2-8865-cc86bb128711' class='xr-var-data-in' type='checkbox'><label for='data-9deb0738-1379-4db2-8865-cc86bb128711' title='Show/Hide data repr'><svg class='icon xr-icon-database'><use xlink:href='#icon-database'></use></svg></label><div class='xr-var-attrs'><dl class='xr-attrs'><dt><span>long_name :</span></dt><dd>Maximum sustained wind speed</dd><dt><span>units :</span></dt><dd>kts</dd><dt><span>valid_min :</span></dt><dd>1</dd><dt><span>valid_max :</span></dt><dd>250</dd><dt><span>coverage_content_type :</span></dt><dd>physicalMeasurement</dd></dl></div><div class='xr-var-data'><pre>[843840 values with dtype=float32]</pre></div></li><li class='xr-var-item'><div class='xr-var-name'><span>wellington_pres</span></div><div class='xr-var-dims'>(storm, date_time)</div><div class='xr-var-dtype'>float32</div><div class='xr-var-preview xr-preview'>...</div><input id='attrs-0f2a084e-caad-49af-b595-e0f09bcff2b6' class='xr-var-attrs-in' type='checkbox' ><label for='attrs-0f2a084e-caad-49af-b595-e0f09bcff2b6' title='Show/Hide attributes'><svg class='icon xr-icon-file-text2'><use xlink:href='#icon-file-text2'></use></svg></label><input id='data-ba44546c-0b68-4dfe-8f87-b363a258a9cc' class='xr-var-data-in' type='checkbox'><label for='data-ba44546c-0b68-4dfe-8f87-b363a258a9cc' title='Show/Hide data repr'><svg class='icon xr-icon-database'><use xlink:href='#icon-database'></use></svg></label><div class='xr-var-attrs'><dl class='xr-attrs'><dt><span>long_name :</span></dt><dd>Minimum central pressure</dd><dt><span>units :</span></dt><dd>mb</dd><dt><span>valid_min :</span></dt><dd>700</dd><dt><span>valid_max :</span></dt><dd>1050</dd><dt><span>coverage_content_type :</span></dt><dd>physicalMeasurement</dd></dl></div><div class='xr-var-data'><pre>[843840 values with dtype=float32]</pre></div></li><li class='xr-var-item'><div class='xr-var-name'><span>ds824_lat</span></div><div class='xr-var-dims'>(storm, date_time)</div><div class='xr-var-dtype'>float32</div><div class='xr-var-preview xr-preview'>...</div><input id='attrs-d31d3519-72e9-458a-9209-98ab05b65c06' class='xr-var-attrs-in' type='checkbox' ><label for='attrs-d31d3519-72e9-458a-9209-98ab05b65c06' title='Show/Hide attributes'><svg class='icon xr-icon-file-text2'><use xlink:href='#icon-file-text2'></use></svg></label><input id='data-fff3ca19-de21-4de1-98a9-29813a3ea8ed' class='xr-var-data-in' type='checkbox'><label for='data-fff3ca19-de21-4de1-98a9-29813a3ea8ed' title='Show/Hide data repr'><svg class='icon xr-icon-database'><use xlink:href='#icon-database'></use></svg></label><div class='xr-var-attrs'><dl class='xr-attrs'><dt><span>long_name :</span></dt><dd>Latitude (DS824 dataset)</dd><dt><span>units :</span></dt><dd>degrees_north</dd><dt><span>coverage_content_type :</span></dt><dd>coordinate</dd></dl></div><div class='xr-var-data'><pre>[843840 values with dtype=float32]</pre></div></li><li class='xr-var-item'><div class='xr-var-name'><span>ds824_lon</span></div><div class='xr-var-dims'>(storm, date_time)</div><div class='xr-var-dtype'>float32</div><div class='xr-var-preview xr-preview'>...</div><input id='attrs-9ffb4bd4-00b5-48b7-9fc9-f7a6a140dab1' class='xr-var-attrs-in' type='checkbox' ><label for='attrs-9ffb4bd4-00b5-48b7-9fc9-f7a6a140dab1' title='Show/Hide attributes'><svg class='icon xr-icon-file-text2'><use xlink:href='#icon-file-text2'></use></svg></label><input id='data-085acc93-ee48-4758-bdc0-5f34d7bd3dd1' class='xr-var-data-in' type='checkbox'><label for='data-085acc93-ee48-4758-bdc0-5f34d7bd3dd1' title='Show/Hide data repr'><svg class='icon xr-icon-database'><use xlink:href='#icon-database'></use></svg></label><div class='xr-var-attrs'><dl class='xr-attrs'><dt><span>long_name :</span></dt><dd>Longitude (DS824 dataset)</dd><dt><span>units :</span></dt><dd>degrees_east</dd><dt><span>coverage_content_type :</span></dt><dd>coordinate</dd></dl></div><div class='xr-var-data'><pre>[843840 values with dtype=float32]</pre></div></li><li class='xr-var-item'><div class='xr-var-name'><span>ds824_stage</span></div><div class='xr-var-dims'>(storm, date_time)</div><div class='xr-var-dtype'>|S2</div><div class='xr-var-preview xr-preview'>...</div><input id='attrs-9909657f-348c-42c4-bd59-c17c5c91f197' class='xr-var-attrs-in' type='checkbox' ><label for='attrs-9909657f-348c-42c4-bd59-c17c5c91f197' title='Show/Hide attributes'><svg class='icon xr-icon-file-text2'><use xlink:href='#icon-file-text2'></use></svg></label><input id='data-1a4cbc49-3f1a-408e-83f8-dd40f527e78b' class='xr-var-data-in' type='checkbox'><label for='data-1a4cbc49-3f1a-408e-83f8-dd40f527e78b' title='Show/Hide data repr'><svg class='icon xr-icon-database'><use xlink:href='#icon-database'></use></svg></label><div class='xr-var-attrs'><dl class='xr-attrs'><dt><span>long_name :</span></dt><dd>Storm classification</dd><dt><span>coverage_content_type :</span></dt><dd>thematicClassification</dd></dl></div><div class='xr-var-data'><pre>[843840 values with dtype=|S2]</pre></div></li><li class='xr-var-item'><div class='xr-var-name'><span>ds824_wind</span></div><div class='xr-var-dims'>(storm, date_time)</div><div class='xr-var-dtype'>float32</div><div class='xr-var-preview xr-preview'>...</div><input id='attrs-4db0b6b9-952e-475b-b8a0-fb37f5854e6d' class='xr-var-attrs-in' type='checkbox' ><label for='attrs-4db0b6b9-952e-475b-b8a0-fb37f5854e6d' title='Show/Hide attributes'><svg class='icon xr-icon-file-text2'><use xlink:href='#icon-file-text2'></use></svg></label><input id='data-11213b7a-9d70-4382-b4c9-d30f3fc6fabe' class='xr-var-data-in' type='checkbox'><label for='data-11213b7a-9d70-4382-b4c9-d30f3fc6fabe' title='Show/Hide data repr'><svg class='icon xr-icon-database'><use xlink:href='#icon-database'></use></svg></label><div class='xr-var-attrs'><dl class='xr-attrs'><dt><span>long_name :</span></dt><dd>Maximum sustained wind speed</dd><dt><span>standard_name :</span></dt><dd>tropical_cyclone_maximum_sustained_wind_speed</dd><dt><span>units :</span></dt><dd>kts</dd><dt><span>valid_min :</span></dt><dd>1</dd><dt><span>valid_max :</span></dt><dd>250</dd><dt><span>coverage_content_type :</span></dt><dd>physicalMeasurement</dd></dl></div><div class='xr-var-data'><pre>[843840 values with dtype=float32]</pre></div></li><li class='xr-var-item'><div class='xr-var-name'><span>ds824_pres</span></div><div class='xr-var-dims'>(storm, date_time)</div><div class='xr-var-dtype'>float32</div><div class='xr-var-preview xr-preview'>...</div><input id='attrs-2bc87817-05e2-4f35-b55b-7277b4bf7c67' class='xr-var-attrs-in' type='checkbox' ><label for='attrs-2bc87817-05e2-4f35-b55b-7277b4bf7c67' title='Show/Hide attributes'><svg class='icon xr-icon-file-text2'><use xlink:href='#icon-file-text2'></use></svg></label><input id='data-4a63a74a-d7c6-4827-ad03-9a7fb10c4e26' class='xr-var-data-in' type='checkbox'><label for='data-4a63a74a-d7c6-4827-ad03-9a7fb10c4e26' title='Show/Hide data repr'><svg class='icon xr-icon-database'><use xlink:href='#icon-database'></use></svg></label><div class='xr-var-attrs'><dl class='xr-attrs'><dt><span>long_name :</span></dt><dd>Minimum central pressure</dd><dt><span>units :</span></dt><dd>mb</dd><dt><span>valid_min :</span></dt><dd>700</dd><dt><span>valid_max :</span></dt><dd>1050</dd><dt><span>coverage_content_type :</span></dt><dd>physicalMeasurement</dd></dl></div><div class='xr-var-data'><pre>[843840 values with dtype=float32]</pre></div></li><li class='xr-var-item'><div class='xr-var-name'><span>td9636_lat</span></div><div class='xr-var-dims'>(storm, date_time)</div><div class='xr-var-dtype'>float32</div><div class='xr-var-preview xr-preview'>...</div><input id='attrs-725a342d-1c89-44a5-98d1-db9ee6e9674a' class='xr-var-attrs-in' type='checkbox' ><label for='attrs-725a342d-1c89-44a5-98d1-db9ee6e9674a' title='Show/Hide attributes'><svg class='icon xr-icon-file-text2'><use xlink:href='#icon-file-text2'></use></svg></label><input id='data-c22e1642-86d8-4333-8515-a0d3d3f6288e' class='xr-var-data-in' type='checkbox'><label for='data-c22e1642-86d8-4333-8515-a0d3d3f6288e' title='Show/Hide data repr'><svg class='icon xr-icon-database'><use xlink:href='#icon-database'></use></svg></label><div class='xr-var-attrs'><dl class='xr-attrs'><dt><span>long_name :</span></dt><dd>Latitude (TD-9636 dataset)</dd><dt><span>units :</span></dt><dd>degrees_north</dd><dt><span>coverage_content_type :</span></dt><dd>coordinate</dd></dl></div><div class='xr-var-data'><pre>[843840 values with dtype=float32]</pre></div></li><li class='xr-var-item'><div class='xr-var-name'><span>td9636_lon</span></div><div class='xr-var-dims'>(storm, date_time)</div><div class='xr-var-dtype'>float32</div><div class='xr-var-preview xr-preview'>...</div><input id='attrs-24cf91e3-4e1c-417e-b8ee-80e7530e063f' class='xr-var-attrs-in' type='checkbox' ><label for='attrs-24cf91e3-4e1c-417e-b8ee-80e7530e063f' title='Show/Hide attributes'><svg class='icon xr-icon-file-text2'><use xlink:href='#icon-file-text2'></use></svg></label><input id='data-e9d1390e-89e2-40db-93b6-c01de510c832' class='xr-var-data-in' type='checkbox'><label for='data-e9d1390e-89e2-40db-93b6-c01de510c832' title='Show/Hide data repr'><svg class='icon xr-icon-database'><use xlink:href='#icon-database'></use></svg></label><div class='xr-var-attrs'><dl class='xr-attrs'><dt><span>long_name :</span></dt><dd>Longitude (TD-9636 dataset)</dd><dt><span>units :</span></dt><dd>degrees_east</dd><dt><span>coverage_content_type :</span></dt><dd>coordinate</dd></dl></div><div class='xr-var-data'><pre>[843840 values with dtype=float32]</pre></div></li><li class='xr-var-item'><div class='xr-var-name'><span>td9636_stage</span></div><div class='xr-var-dims'>(storm, date_time)</div><div class='xr-var-dtype'>float32</div><div class='xr-var-preview xr-preview'>...</div><input id='attrs-b7ffc113-d78b-4edc-aeb3-9d723f962cf4' class='xr-var-attrs-in' type='checkbox' ><label for='attrs-b7ffc113-d78b-4edc-aeb3-9d723f962cf4' title='Show/Hide attributes'><svg class='icon xr-icon-file-text2'><use xlink:href='#icon-file-text2'></use></svg></label><input id='data-06d5dba0-4ed4-4d88-91d1-07d10f1f4f7f' class='xr-var-data-in' type='checkbox'><label for='data-06d5dba0-4ed4-4d88-91d1-07d10f1f4f7f' title='Show/Hide data repr'><svg class='icon xr-icon-database'><use xlink:href='#icon-database'></use></svg></label><div class='xr-var-attrs'><dl class='xr-attrs'><dt><span>long_name :</span></dt><dd>Storm classification</dd><dt><span>valid_min :</span></dt><dd>0</dd><dt><span>valid_max :</span></dt><dd>7</dd><dt><span>flag_values :</span></dt><dd>[0 1 2 3 4 5 6 7]</dd><dt><span>flag_names :</span></dt><dd>tropical_disturbance tropical_depression tropical_storm point_where_wind_reached_64_knots hurricane extratropical disspiating unknown_intensity_or_doubtful_track</dd><dt><span>Note :</span></dt><dd>Winds referred to in the stages differs for the North Indian. The Hurricane category means Wind &gt; 48 knots and flag=3 means when wind reached that intensity</dd><dt><span>coverage_content_type :</span></dt><dd>thematicClassification</dd></dl></div><div class='xr-var-data'><pre>[843840 values with dtype=float32]</pre></div></li><li class='xr-var-item'><div class='xr-var-name'><span>td9636_wind</span></div><div class='xr-var-dims'>(storm, date_time)</div><div class='xr-var-dtype'>float32</div><div class='xr-var-preview xr-preview'>...</div><input id='attrs-9dbb011e-1f52-4fc3-96a2-37c67410cc42' class='xr-var-attrs-in' type='checkbox' ><label for='attrs-9dbb011e-1f52-4fc3-96a2-37c67410cc42' title='Show/Hide attributes'><svg class='icon xr-icon-file-text2'><use xlink:href='#icon-file-text2'></use></svg></label><input id='data-813c5027-9bdd-4bf6-bccb-5f1f565a6466' class='xr-var-data-in' type='checkbox'><label for='data-813c5027-9bdd-4bf6-bccb-5f1f565a6466' title='Show/Hide data repr'><svg class='icon xr-icon-database'><use xlink:href='#icon-database'></use></svg></label><div class='xr-var-attrs'><dl class='xr-attrs'><dt><span>long_name :</span></dt><dd>Maximum sustained wind speed</dd><dt><span>standard_name :</span></dt><dd>tropical_cyclone_maximum_sustained_wind_speed</dd><dt><span>units :</span></dt><dd>kts</dd><dt><span>valid_min :</span></dt><dd>1</dd><dt><span>valid_max :</span></dt><dd>250</dd><dt><span>coverage_content_type :</span></dt><dd>physicalMeasurement</dd></dl></div><div class='xr-var-data'><pre>[843840 values with dtype=float32]</pre></div></li><li class='xr-var-item'><div class='xr-var-name'><span>td9636_pres</span></div><div class='xr-var-dims'>(storm, date_time)</div><div class='xr-var-dtype'>float32</div><div class='xr-var-preview xr-preview'>...</div><input id='attrs-fd4ec843-2c7a-420f-a18c-e63e75d9863a' class='xr-var-attrs-in' type='checkbox' ><label for='attrs-fd4ec843-2c7a-420f-a18c-e63e75d9863a' title='Show/Hide attributes'><svg class='icon xr-icon-file-text2'><use xlink:href='#icon-file-text2'></use></svg></label><input id='data-8c969afc-05ce-4c99-8229-fb2599697740' class='xr-var-data-in' type='checkbox'><label for='data-8c969afc-05ce-4c99-8229-fb2599697740' title='Show/Hide data repr'><svg class='icon xr-icon-database'><use xlink:href='#icon-database'></use></svg></label><div class='xr-var-attrs'><dl class='xr-attrs'><dt><span>long_name :</span></dt><dd>Minimum central pressure</dd><dt><span>units :</span></dt><dd>mb</dd><dt><span>valid_min :</span></dt><dd>700</dd><dt><span>valid_max :</span></dt><dd>1050</dd><dt><span>coverage_content_type :</span></dt><dd>physicalMeasurement</dd></dl></div><div class='xr-var-data'><pre>[843840 values with dtype=float32]</pre></div></li><li class='xr-var-item'><div class='xr-var-name'><span>td9635_lat</span></div><div class='xr-var-dims'>(storm, date_time)</div><div class='xr-var-dtype'>float32</div><div class='xr-var-preview xr-preview'>...</div><input id='attrs-225d80ff-98e9-4904-8350-0e3d9236e2de' class='xr-var-attrs-in' type='checkbox' ><label for='attrs-225d80ff-98e9-4904-8350-0e3d9236e2de' title='Show/Hide attributes'><svg class='icon xr-icon-file-text2'><use xlink:href='#icon-file-text2'></use></svg></label><input id='data-73e7cfb8-140f-4907-aaba-8c5da552bba1' class='xr-var-data-in' type='checkbox'><label for='data-73e7cfb8-140f-4907-aaba-8c5da552bba1' title='Show/Hide data repr'><svg class='icon xr-icon-database'><use xlink:href='#icon-database'></use></svg></label><div class='xr-var-attrs'><dl class='xr-attrs'><dt><span>long_name :</span></dt><dd>Latitude (TD-9635 dataset)</dd><dt><span>units :</span></dt><dd>degrees_north</dd><dt><span>coverage_content_type :</span></dt><dd>coordinate</dd></dl></div><div class='xr-var-data'><pre>[843840 values with dtype=float32]</pre></div></li><li class='xr-var-item'><div class='xr-var-name'><span>td9635_lon</span></div><div class='xr-var-dims'>(storm, date_time)</div><div class='xr-var-dtype'>float32</div><div class='xr-var-preview xr-preview'>...</div><input id='attrs-4ad0c404-af03-41c5-a834-6da66dd64fe9' class='xr-var-attrs-in' type='checkbox' ><label for='attrs-4ad0c404-af03-41c5-a834-6da66dd64fe9' title='Show/Hide attributes'><svg class='icon xr-icon-file-text2'><use xlink:href='#icon-file-text2'></use></svg></label><input id='data-b2b5f10f-1b1e-40be-827c-c2702e4cf0aa' class='xr-var-data-in' type='checkbox'><label for='data-b2b5f10f-1b1e-40be-827c-c2702e4cf0aa' title='Show/Hide data repr'><svg class='icon xr-icon-database'><use xlink:href='#icon-database'></use></svg></label><div class='xr-var-attrs'><dl class='xr-attrs'><dt><span>long_name :</span></dt><dd>Longitude (TD-9635 dataset)</dd><dt><span>units :</span></dt><dd>degrees_east</dd><dt><span>coverage_content_type :</span></dt><dd>coordinate</dd></dl></div><div class='xr-var-data'><pre>[843840 values with dtype=float32]</pre></div></li><li class='xr-var-item'><div class='xr-var-name'><span>td9635_wind</span></div><div class='xr-var-dims'>(storm, date_time)</div><div class='xr-var-dtype'>float32</div><div class='xr-var-preview xr-preview'>...</div><input id='attrs-8f0849d3-43da-43dd-bf4a-1c01b6e2629f' class='xr-var-attrs-in' type='checkbox' ><label for='attrs-8f0849d3-43da-43dd-bf4a-1c01b6e2629f' title='Show/Hide attributes'><svg class='icon xr-icon-file-text2'><use xlink:href='#icon-file-text2'></use></svg></label><input id='data-11b832a2-2770-4f24-a647-d23ebab96d6e' class='xr-var-data-in' type='checkbox'><label for='data-11b832a2-2770-4f24-a647-d23ebab96d6e' title='Show/Hide data repr'><svg class='icon xr-icon-database'><use xlink:href='#icon-database'></use></svg></label><div class='xr-var-attrs'><dl class='xr-attrs'><dt><span>long_name :</span></dt><dd>Maximum sustained wind speed</dd><dt><span>standard_name :</span></dt><dd>tropical_cyclone_maximum_sustained_wind_speed</dd><dt><span>units :</span></dt><dd>kts</dd><dt><span>valid_min :</span></dt><dd>1</dd><dt><span>valid_max :</span></dt><dd>250</dd><dt><span>coverage_content_type :</span></dt><dd>physicalMeasurement</dd></dl></div><div class='xr-var-data'><pre>[843840 values with dtype=float32]</pre></div></li><li class='xr-var-item'><div class='xr-var-name'><span>td9635_pres</span></div><div class='xr-var-dims'>(storm, date_time)</div><div class='xr-var-dtype'>float32</div><div class='xr-var-preview xr-preview'>...</div><input id='attrs-91bcfd0d-4916-412c-8aa9-b3d56f685df9' class='xr-var-attrs-in' type='checkbox' ><label for='attrs-91bcfd0d-4916-412c-8aa9-b3d56f685df9' title='Show/Hide attributes'><svg class='icon xr-icon-file-text2'><use xlink:href='#icon-file-text2'></use></svg></label><input id='data-f070a2af-a6a1-46a4-b5c3-f48bc96c5f6b' class='xr-var-data-in' type='checkbox'><label for='data-f070a2af-a6a1-46a4-b5c3-f48bc96c5f6b' title='Show/Hide data repr'><svg class='icon xr-icon-database'><use xlink:href='#icon-database'></use></svg></label><div class='xr-var-attrs'><dl class='xr-attrs'><dt><span>long_name :</span></dt><dd>Minimum central pressure</dd><dt><span>units :</span></dt><dd>mb</dd><dt><span>valid_min :</span></dt><dd>700</dd><dt><span>valid_max :</span></dt><dd>1050</dd><dt><span>coverage_content_type :</span></dt><dd>physicalMeasurement</dd></dl></div><div class='xr-var-data'><pre>[843840 values with dtype=float32]</pre></div></li><li class='xr-var-item'><div class='xr-var-name'><span>td9635_roci</span></div><div class='xr-var-dims'>(storm, date_time)</div><div class='xr-var-dtype'>float32</div><div class='xr-var-preview xr-preview'>...</div><input id='attrs-eaa90211-ed10-411a-8fce-ea524578458e' class='xr-var-attrs-in' type='checkbox' ><label for='attrs-eaa90211-ed10-411a-8fce-ea524578458e' title='Show/Hide attributes'><svg class='icon xr-icon-file-text2'><use xlink:href='#icon-file-text2'></use></svg></label><input id='data-1570ca7d-c645-4fde-9287-54a04e4827b9' class='xr-var-data-in' type='checkbox'><label for='data-1570ca7d-c645-4fde-9287-54a04e4827b9' title='Show/Hide data repr'><svg class='icon xr-icon-database'><use xlink:href='#icon-database'></use></svg></label><div class='xr-var-attrs'><dl class='xr-attrs'><dt><span>long_name :</span></dt><dd>Radius of outermost closed isober</dd><dt><span>units :</span></dt><dd>nmile</dd><dt><span>valid_min :</span></dt><dd>1</dd><dt><span>valid_max :</span></dt><dd>2999</dd><dt><span>coverage_content_type :</span></dt><dd>physicalMeasurement</dd></dl></div><div class='xr-var-data'><pre>[843840 values with dtype=float32]</pre></div></li><li class='xr-var-item'><div class='xr-var-name'><span>neumann_lat</span></div><div class='xr-var-dims'>(storm, date_time)</div><div class='xr-var-dtype'>float32</div><div class='xr-var-preview xr-preview'>...</div><input id='attrs-827555c4-6392-4679-9a18-5ab1d771e92b' class='xr-var-attrs-in' type='checkbox' ><label for='attrs-827555c4-6392-4679-9a18-5ab1d771e92b' title='Show/Hide attributes'><svg class='icon xr-icon-file-text2'><use xlink:href='#icon-file-text2'></use></svg></label><input id='data-93478668-7d5c-42d6-b906-d32bd50d1fab' class='xr-var-data-in' type='checkbox'><label for='data-93478668-7d5c-42d6-b906-d32bd50d1fab' title='Show/Hide data repr'><svg class='icon xr-icon-database'><use xlink:href='#icon-database'></use></svg></label><div class='xr-var-attrs'><dl class='xr-attrs'><dt><span>long_name :</span></dt><dd>Latitude (Neumann dataset)</dd><dt><span>units :</span></dt><dd>degrees_north</dd><dt><span>coverage_content_type :</span></dt><dd>coordinate</dd></dl></div><div class='xr-var-data'><pre>[843840 values with dtype=float32]</pre></div></li><li class='xr-var-item'><div class='xr-var-name'><span>neumann_lon</span></div><div class='xr-var-dims'>(storm, date_time)</div><div class='xr-var-dtype'>float32</div><div class='xr-var-preview xr-preview'>...</div><input id='attrs-558de765-c3df-4c97-8fe7-45c3657b8794' class='xr-var-attrs-in' type='checkbox' ><label for='attrs-558de765-c3df-4c97-8fe7-45c3657b8794' title='Show/Hide attributes'><svg class='icon xr-icon-file-text2'><use xlink:href='#icon-file-text2'></use></svg></label><input id='data-38987bc1-8289-4a89-a689-86aca12f83c5' class='xr-var-data-in' type='checkbox'><label for='data-38987bc1-8289-4a89-a689-86aca12f83c5' title='Show/Hide data repr'><svg class='icon xr-icon-database'><use xlink:href='#icon-database'></use></svg></label><div class='xr-var-attrs'><dl class='xr-attrs'><dt><span>long_name :</span></dt><dd>Longitude (Neumann dataset)</dd><dt><span>units :</span></dt><dd>degrees_east</dd><dt><span>coverage_content_type :</span></dt><dd>coordinate</dd></dl></div><div class='xr-var-data'><pre>[843840 values with dtype=float32]</pre></div></li><li class='xr-var-item'><div class='xr-var-name'><span>neumann_class</span></div><div class='xr-var-dims'>(storm, date_time)</div><div class='xr-var-dtype'>|S2</div><div class='xr-var-preview xr-preview'>...</div><input id='attrs-c8810ae9-85cf-43fa-a871-d5b7bb21671b' class='xr-var-attrs-in' type='checkbox' ><label for='attrs-c8810ae9-85cf-43fa-a871-d5b7bb21671b' title='Show/Hide attributes'><svg class='icon xr-icon-file-text2'><use xlink:href='#icon-file-text2'></use></svg></label><input id='data-dec089b5-773d-4895-b2dd-ebf58c275e93' class='xr-var-data-in' type='checkbox'><label for='data-dec089b5-773d-4895-b2dd-ebf58c275e93' title='Show/Hide data repr'><svg class='icon xr-icon-database'><use xlink:href='#icon-database'></use></svg></label><div class='xr-var-attrs'><dl class='xr-attrs'><dt><span>long_name :</span></dt><dd>Storm classification</dd><dt><span>coverage_content_type :</span></dt><dd>thematicClassification</dd></dl></div><div class='xr-var-data'><pre>[843840 values with dtype=|S2]</pre></div></li><li class='xr-var-item'><div class='xr-var-name'><span>neumann_wind</span></div><div class='xr-var-dims'>(storm, date_time)</div><div class='xr-var-dtype'>float32</div><div class='xr-var-preview xr-preview'>...</div><input id='attrs-b5968675-ac9c-463e-adeb-030d36941e85' class='xr-var-attrs-in' type='checkbox' ><label for='attrs-b5968675-ac9c-463e-adeb-030d36941e85' title='Show/Hide attributes'><svg class='icon xr-icon-file-text2'><use xlink:href='#icon-file-text2'></use></svg></label><input id='data-4faad7ac-fa0e-45e0-b151-62272c1b4796' class='xr-var-data-in' type='checkbox'><label for='data-4faad7ac-fa0e-45e0-b151-62272c1b4796' title='Show/Hide data repr'><svg class='icon xr-icon-database'><use xlink:href='#icon-database'></use></svg></label><div class='xr-var-attrs'><dl class='xr-attrs'><dt><span>long_name :</span></dt><dd>Maximum sustained wind speed</dd><dt><span>standard_name :</span></dt><dd>tropical_cyclone_maximum_sustained_wind_speed</dd><dt><span>units :</span></dt><dd>kts</dd><dt><span>valid_min :</span></dt><dd>1</dd><dt><span>valid_max :</span></dt><dd>250</dd><dt><span>coverage_content_type :</span></dt><dd>physicalMeasurement</dd></dl></div><div class='xr-var-data'><pre>[843840 values with dtype=float32]</pre></div></li><li class='xr-var-item'><div class='xr-var-name'><span>neumann_pres</span></div><div class='xr-var-dims'>(storm, date_time)</div><div class='xr-var-dtype'>float32</div><div class='xr-var-preview xr-preview'>...</div><input id='attrs-d8352099-1ef8-4163-a0c0-29e81ce9dbef' class='xr-var-attrs-in' type='checkbox' ><label for='attrs-d8352099-1ef8-4163-a0c0-29e81ce9dbef' title='Show/Hide attributes'><svg class='icon xr-icon-file-text2'><use xlink:href='#icon-file-text2'></use></svg></label><input id='data-808c65d1-5efb-459e-a03f-c8ce2b07afe1' class='xr-var-data-in' type='checkbox'><label for='data-808c65d1-5efb-459e-a03f-c8ce2b07afe1' title='Show/Hide data repr'><svg class='icon xr-icon-database'><use xlink:href='#icon-database'></use></svg></label><div class='xr-var-attrs'><dl class='xr-attrs'><dt><span>long_name :</span></dt><dd>Minimum central pressure</dd><dt><span>units :</span></dt><dd>mb</dd><dt><span>valid_min :</span></dt><dd>700</dd><dt><span>valid_max :</span></dt><dd>1050</dd><dt><span>coverage_content_type :</span></dt><dd>physicalMeasurement</dd></dl></div><div class='xr-var-data'><pre>[843840 values with dtype=float32]</pre></div></li><li class='xr-var-item'><div class='xr-var-name'><span>mlc_lat</span></div><div class='xr-var-dims'>(storm, date_time)</div><div class='xr-var-dtype'>float32</div><div class='xr-var-preview xr-preview'>...</div><input id='attrs-bda6d879-968f-428a-a04f-ada4b6a21a7e' class='xr-var-attrs-in' type='checkbox' ><label for='attrs-bda6d879-968f-428a-a04f-ada4b6a21a7e' title='Show/Hide attributes'><svg class='icon xr-icon-file-text2'><use xlink:href='#icon-file-text2'></use></svg></label><input id='data-f035dd66-4e40-421f-95b5-6d3bc4c6559f' class='xr-var-data-in' type='checkbox'><label for='data-f035dd66-4e40-421f-95b5-6d3bc4c6559f' title='Show/Hide data repr'><svg class='icon xr-icon-database'><use xlink:href='#icon-database'></use></svg></label><div class='xr-var-attrs'><dl class='xr-attrs'><dt><span>long_name :</span></dt><dd>Latitude (M. L. Chenoweth dataset)</dd><dt><span>units :</span></dt><dd>degrees_north</dd><dt><span>coverage_content_type :</span></dt><dd>coordinate</dd></dl></div><div class='xr-var-data'><pre>[843840 values with dtype=float32]</pre></div></li><li class='xr-var-item'><div class='xr-var-name'><span>mlc_lon</span></div><div class='xr-var-dims'>(storm, date_time)</div><div class='xr-var-dtype'>float32</div><div class='xr-var-preview xr-preview'>...</div><input id='attrs-7efe72ba-ad50-493e-954e-5015f7d08db3' class='xr-var-attrs-in' type='checkbox' ><label for='attrs-7efe72ba-ad50-493e-954e-5015f7d08db3' title='Show/Hide attributes'><svg class='icon xr-icon-file-text2'><use xlink:href='#icon-file-text2'></use></svg></label><input id='data-655c7463-6181-4032-b7a7-59c98041b206' class='xr-var-data-in' type='checkbox'><label for='data-655c7463-6181-4032-b7a7-59c98041b206' title='Show/Hide data repr'><svg class='icon xr-icon-database'><use xlink:href='#icon-database'></use></svg></label><div class='xr-var-attrs'><dl class='xr-attrs'><dt><span>long_name :</span></dt><dd>Longitude (M. L. Chenoweth dataset)</dd><dt><span>units :</span></dt><dd>degrees_east</dd><dt><span>coverage_content_type :</span></dt><dd>coordinate</dd></dl></div><div class='xr-var-data'><pre>[843840 values with dtype=float32]</pre></div></li><li class='xr-var-item'><div class='xr-var-name'><span>mlc_class</span></div><div class='xr-var-dims'>(storm, date_time)</div><div class='xr-var-dtype'>|S2</div><div class='xr-var-preview xr-preview'>...</div><input id='attrs-9f93b5c0-80c0-4c1a-9d5b-f8a8e08d0fda' class='xr-var-attrs-in' type='checkbox' ><label for='attrs-9f93b5c0-80c0-4c1a-9d5b-f8a8e08d0fda' title='Show/Hide attributes'><svg class='icon xr-icon-file-text2'><use xlink:href='#icon-file-text2'></use></svg></label><input id='data-4821bf27-d7eb-4e1a-9092-2281a1ae4880' class='xr-var-data-in' type='checkbox'><label for='data-4821bf27-d7eb-4e1a-9092-2281a1ae4880' title='Show/Hide data repr'><svg class='icon xr-icon-database'><use xlink:href='#icon-database'></use></svg></label><div class='xr-var-attrs'><dl class='xr-attrs'><dt><span>long_name :</span></dt><dd>Storm classification</dd><dt><span>coverage_content_type :</span></dt><dd>thematicClassification</dd></dl></div><div class='xr-var-data'><pre>[843840 values with dtype=|S2]</pre></div></li><li class='xr-var-item'><div class='xr-var-name'><span>mlc_wind</span></div><div class='xr-var-dims'>(storm, date_time)</div><div class='xr-var-dtype'>float32</div><div class='xr-var-preview xr-preview'>...</div><input id='attrs-4e3902a3-906f-47ed-b2de-6bf667dfb5d8' class='xr-var-attrs-in' type='checkbox' ><label for='attrs-4e3902a3-906f-47ed-b2de-6bf667dfb5d8' title='Show/Hide attributes'><svg class='icon xr-icon-file-text2'><use xlink:href='#icon-file-text2'></use></svg></label><input id='data-4db63efe-60c7-423a-a986-2a34c84d1788' class='xr-var-data-in' type='checkbox'><label for='data-4db63efe-60c7-423a-a986-2a34c84d1788' title='Show/Hide data repr'><svg class='icon xr-icon-database'><use xlink:href='#icon-database'></use></svg></label><div class='xr-var-attrs'><dl class='xr-attrs'><dt><span>long_name :</span></dt><dd>Maximum sustained wind speed</dd><dt><span>standard_name :</span></dt><dd>tropical_cyclone_maximum_sustained_wind_speed</dd><dt><span>units :</span></dt><dd>kts</dd><dt><span>valid_min :</span></dt><dd>1</dd><dt><span>valid_max :</span></dt><dd>250</dd><dt><span>coverage_content_type :</span></dt><dd>physicalMeasurement</dd></dl></div><div class='xr-var-data'><pre>[843840 values with dtype=float32]</pre></div></li><li class='xr-var-item'><div class='xr-var-name'><span>mlc_pres</span></div><div class='xr-var-dims'>(storm, date_time)</div><div class='xr-var-dtype'>float32</div><div class='xr-var-preview xr-preview'>...</div><input id='attrs-e65339c1-4616-4dc9-a483-ce59c0ad5524' class='xr-var-attrs-in' type='checkbox' ><label for='attrs-e65339c1-4616-4dc9-a483-ce59c0ad5524' title='Show/Hide attributes'><svg class='icon xr-icon-file-text2'><use xlink:href='#icon-file-text2'></use></svg></label><input id='data-b4ab85c8-4c18-4e60-9ab8-52ccbdbca4a4' class='xr-var-data-in' type='checkbox'><label for='data-b4ab85c8-4c18-4e60-9ab8-52ccbdbca4a4' title='Show/Hide data repr'><svg class='icon xr-icon-database'><use xlink:href='#icon-database'></use></svg></label><div class='xr-var-attrs'><dl class='xr-attrs'><dt><span>long_name :</span></dt><dd>Minimum central pressure</dd><dt><span>units :</span></dt><dd>mb</dd><dt><span>valid_min :</span></dt><dd>700</dd><dt><span>valid_max :</span></dt><dd>1050</dd><dt><span>coverage_content_type :</span></dt><dd>physicalMeasurement</dd></dl></div><div class='xr-var-data'><pre>[843840 values with dtype=float32]</pre></div></li><li class='xr-var-item'><div class='xr-var-name'><span>usa_gust</span></div><div class='xr-var-dims'>(storm, date_time)</div><div class='xr-var-dtype'>float32</div><div class='xr-var-preview xr-preview'>...</div><input id='attrs-34fedb2f-b3cb-45dc-85ee-d138c27050d7' class='xr-var-attrs-in' type='checkbox' ><label for='attrs-34fedb2f-b3cb-45dc-85ee-d138c27050d7' title='Show/Hide attributes'><svg class='icon xr-icon-file-text2'><use xlink:href='#icon-file-text2'></use></svg></label><input id='data-a8b48a40-12e3-4f78-aa8b-b845b73691ef' class='xr-var-data-in' type='checkbox'><label for='data-a8b48a40-12e3-4f78-aa8b-b845b73691ef' title='Show/Hide data repr'><svg class='icon xr-icon-database'><use xlink:href='#icon-database'></use></svg></label><div class='xr-var-attrs'><dl class='xr-attrs'><dt><span>long_name :</span></dt><dd>Maximum reported wind gust from a US agency</dd><dt><span>standard_name :</span></dt><dd>wind_speed_of_gust</dd><dt><span>units :</span></dt><dd>kts</dd><dt><span>valid_min :</span></dt><dd>1</dd><dt><span>valid_max :</span></dt><dd>350</dd><dt><span>coverage_content_type :</span></dt><dd>physicalMeasurement</dd></dl></div><div class='xr-var-data'><pre>[843840 values with dtype=float32]</pre></div></li><li class='xr-var-item'><div class='xr-var-name'><span>bom_gust</span></div><div class='xr-var-dims'>(storm, date_time)</div><div class='xr-var-dtype'>float32</div><div class='xr-var-preview xr-preview'>...</div><input id='attrs-8a64009d-4f95-4737-a7c2-3ff222755f57' class='xr-var-attrs-in' type='checkbox' ><label for='attrs-8a64009d-4f95-4737-a7c2-3ff222755f57' title='Show/Hide attributes'><svg class='icon xr-icon-file-text2'><use xlink:href='#icon-file-text2'></use></svg></label><input id='data-d25ccab7-9e90-472d-ae75-4c612102fe8c' class='xr-var-data-in' type='checkbox'><label for='data-d25ccab7-9e90-472d-ae75-4c612102fe8c' title='Show/Hide data repr'><svg class='icon xr-icon-database'><use xlink:href='#icon-database'></use></svg></label><div class='xr-var-attrs'><dl class='xr-attrs'><dt><span>long_name :</span></dt><dd>Maximum reported wind gust from BoM</dd><dt><span>standard_name :</span></dt><dd>wind_speed_of_gust</dd><dt><span>units :</span></dt><dd>kts</dd><dt><span>valid_min :</span></dt><dd>1</dd><dt><span>valid_max :</span></dt><dd>350</dd><dt><span>coverage_content_type :</span></dt><dd>physicalMeasurement</dd></dl></div><div class='xr-var-data'><pre>[843840 values with dtype=float32]</pre></div></li><li class='xr-var-item'><div class='xr-var-name'><span>bom_gust_per</span></div><div class='xr-var-dims'>(storm, date_time)</div><div class='xr-var-dtype'>float32</div><div class='xr-var-preview xr-preview'>...</div><input id='attrs-7474b6b7-8e47-4ac9-b656-3cf77995fc03' class='xr-var-attrs-in' type='checkbox' ><label for='attrs-7474b6b7-8e47-4ac9-b656-3cf77995fc03' title='Show/Hide attributes'><svg class='icon xr-icon-file-text2'><use xlink:href='#icon-file-text2'></use></svg></label><input id='data-fe7fca64-ab38-49d2-9e76-87760100efad' class='xr-var-data-in' type='checkbox'><label for='data-fe7fca64-ab38-49d2-9e76-87760100efad' title='Show/Hide data repr'><svg class='icon xr-icon-database'><use xlink:href='#icon-database'></use></svg></label><div class='xr-var-attrs'><dl class='xr-attrs'><dt><span>long_name :</span></dt><dd>Time period of the wind gust from BoM</dd><dt><span>units :</span></dt><dd>second</dd><dt><span>valid_min :</span></dt><dd>1</dd><dt><span>valid_max :</span></dt><dd>9999</dd><dt><span>coverage_content_type :</span></dt><dd>physicalMeasurement</dd></dl></div><div class='xr-var-data'><pre>[843840 values with dtype=float32]</pre></div></li><li class='xr-var-item'><div class='xr-var-name'><span>reunion_gust</span></div><div class='xr-var-dims'>(storm, date_time)</div><div class='xr-var-dtype'>float32</div><div class='xr-var-preview xr-preview'>...</div><input id='attrs-426899f4-d2a8-4a29-845d-f96def4ec572' class='xr-var-attrs-in' type='checkbox' ><label for='attrs-426899f4-d2a8-4a29-845d-f96def4ec572' title='Show/Hide attributes'><svg class='icon xr-icon-file-text2'><use xlink:href='#icon-file-text2'></use></svg></label><input id='data-d147363c-d08d-48cc-bd7f-8bba0eaa6638' class='xr-var-data-in' type='checkbox'><label for='data-d147363c-d08d-48cc-bd7f-8bba0eaa6638' title='Show/Hide data repr'><svg class='icon xr-icon-database'><use xlink:href='#icon-database'></use></svg></label><div class='xr-var-attrs'><dl class='xr-attrs'><dt><span>long_name :</span></dt><dd>Maximum reported wind gust from Reunion</dd><dt><span>standard_name :</span></dt><dd>wind_speed_of_gust</dd><dt><span>units :</span></dt><dd>kts</dd><dt><span>valid_min :</span></dt><dd>1</dd><dt><span>valid_max :</span></dt><dd>350</dd><dt><span>coverage_content_type :</span></dt><dd>physicalMeasurement</dd></dl></div><div class='xr-var-data'><pre>[843840 values with dtype=float32]</pre></div></li><li class='xr-var-item'><div class='xr-var-name'><span>reunion_gust_per</span></div><div class='xr-var-dims'>(storm, date_time)</div><div class='xr-var-dtype'>float32</div><div class='xr-var-preview xr-preview'>...</div><input id='attrs-75c25a47-3563-48a7-85a9-a8f0b2ff74c9' class='xr-var-attrs-in' type='checkbox' ><label for='attrs-75c25a47-3563-48a7-85a9-a8f0b2ff74c9' title='Show/Hide attributes'><svg class='icon xr-icon-file-text2'><use xlink:href='#icon-file-text2'></use></svg></label><input id='data-c901ff3d-db06-4c8d-8f9a-e25739abb75a' class='xr-var-data-in' type='checkbox'><label for='data-c901ff3d-db06-4c8d-8f9a-e25739abb75a' title='Show/Hide data repr'><svg class='icon xr-icon-database'><use xlink:href='#icon-database'></use></svg></label><div class='xr-var-attrs'><dl class='xr-attrs'><dt><span>long_name :</span></dt><dd>Time period of the wind gust from Reunion</dd><dt><span>units :</span></dt><dd>second</dd><dt><span>valid_min :</span></dt><dd>1</dd><dt><span>valid_max :</span></dt><dd>9999</dd><dt><span>coverage_content_type :</span></dt><dd>physicalMeasurement</dd></dl></div><div class='xr-var-data'><pre>[843840 values with dtype=float32]</pre></div></li><li class='xr-var-item'><div class='xr-var-name'><span>usa_seahgt</span></div><div class='xr-var-dims'>(storm, date_time)</div><div class='xr-var-dtype'>float32</div><div class='xr-var-preview xr-preview'>...</div><input id='attrs-73cfbc19-fac5-4ce4-8176-2ab446005698' class='xr-var-attrs-in' type='checkbox' ><label for='attrs-73cfbc19-fac5-4ce4-8176-2ab446005698' title='Show/Hide attributes'><svg class='icon xr-icon-file-text2'><use xlink:href='#icon-file-text2'></use></svg></label><input id='data-9ac5b07a-bfaa-477b-a095-0bd80c1fbfa9' class='xr-var-data-in' type='checkbox'><label for='data-9ac5b07a-bfaa-477b-a095-0bd80c1fbfa9' title='Show/Hide data repr'><svg class='icon xr-icon-database'><use xlink:href='#icon-database'></use></svg></label><div class='xr-var-attrs'><dl class='xr-attrs'><dt><span>long_name :</span></dt><dd>Wave height for given radii</dd><dt><span>units :</span></dt><dd>ft</dd><dt><span>valid_min :</span></dt><dd>1</dd><dt><span>valid_max :</span></dt><dd>998</dd><dt><span>coverage_content_type :</span></dt><dd>physicalMeasurement</dd></dl></div><div class='xr-var-data'><pre>[843840 values with dtype=float32]</pre></div></li><li class='xr-var-item'><div class='xr-var-name'><span>usa_searad</span></div><div class='xr-var-dims'>(storm, date_time, quadrant)</div><div class='xr-var-dtype'>float32</div><div class='xr-var-preview xr-preview'>...</div><input id='attrs-73f5e43f-33bc-4d4d-bb7e-a4b0adf87a19' class='xr-var-attrs-in' type='checkbox' ><label for='attrs-73f5e43f-33bc-4d4d-bb7e-a4b0adf87a19' title='Show/Hide attributes'><svg class='icon xr-icon-file-text2'><use xlink:href='#icon-file-text2'></use></svg></label><input id='data-b94f2289-c5e8-4adb-a26e-9b5c7d12f7ad' class='xr-var-data-in' type='checkbox'><label for='data-b94f2289-c5e8-4adb-a26e-9b5c7d12f7ad' title='Show/Hide data repr'><svg class='icon xr-icon-database'><use xlink:href='#icon-database'></use></svg></label><div class='xr-var-attrs'><dl class='xr-attrs'><dt><span>long_name :</span></dt><dd>Radial extent of given sea height</dd><dt><span>units :</span></dt><dd>nmile</dd><dt><span>valid_min :</span></dt><dd>1</dd><dt><span>valid_max :</span></dt><dd>998</dd><dt><span>coverage_content_type :</span></dt><dd>physicalMeasurement</dd></dl></div><div class='xr-var-data'><pre>[3375360 values with dtype=float32]</pre></div></li><li class='xr-var-item'><div class='xr-var-name'><span>storm_speed</span></div><div class='xr-var-dims'>(storm, date_time)</div><div class='xr-var-dtype'>float32</div><div class='xr-var-preview xr-preview'>...</div><input id='attrs-73ff61e0-7d3e-4604-894a-83154c401f98' class='xr-var-attrs-in' type='checkbox' ><label for='attrs-73ff61e0-7d3e-4604-894a-83154c401f98' title='Show/Hide attributes'><svg class='icon xr-icon-file-text2'><use xlink:href='#icon-file-text2'></use></svg></label><input id='data-f49e50f9-3c75-48ae-8b6e-6f49f2fa83b5' class='xr-var-data-in' type='checkbox'><label for='data-f49e50f9-3c75-48ae-8b6e-6f49f2fa83b5' title='Show/Hide data repr'><svg class='icon xr-icon-database'><use xlink:href='#icon-database'></use></svg></label><div class='xr-var-attrs'><dl class='xr-attrs'><dt><span>long_name :</span></dt><dd>Storm translation speed</dd><dt><span>units :</span></dt><dd>kts</dd><dt><span>valid_min :</span></dt><dd>0</dd><dt><span>valid_max :</span></dt><dd>998</dd><dt><span>coverage_content_type :</span></dt><dd>physicalMeasurement</dd></dl></div><div class='xr-var-data'><pre>[843840 values with dtype=float32]</pre></div></li><li class='xr-var-item'><div class='xr-var-name'><span>storm_dir</span></div><div class='xr-var-dims'>(storm, date_time)</div><div class='xr-var-dtype'>float32</div><div class='xr-var-preview xr-preview'>...</div><input id='attrs-f8e5c68e-05b8-4ab4-aa3b-f84e94df0593' class='xr-var-attrs-in' type='checkbox' ><label for='attrs-f8e5c68e-05b8-4ab4-aa3b-f84e94df0593' title='Show/Hide attributes'><svg class='icon xr-icon-file-text2'><use xlink:href='#icon-file-text2'></use></svg></label><input id='data-4af1ef28-e48e-4bc3-b6b8-513ce286c713' class='xr-var-data-in' type='checkbox'><label for='data-4af1ef28-e48e-4bc3-b6b8-513ce286c713' title='Show/Hide data repr'><svg class='icon xr-icon-database'><use xlink:href='#icon-database'></use></svg></label><div class='xr-var-attrs'><dl class='xr-attrs'><dt><span>long_name :</span></dt><dd>Storm translation direction</dd><dt><span>units :</span></dt><dd>degrees</dd><dt><span>valid_min :</span></dt><dd>0</dd><dt><span>valid_max :</span></dt><dd>360</dd><dt><span>Note :</span></dt><dd>Unit is degrees east of north</dd><dt><span>coverage_content_type :</span></dt><dd>physicalMeasurement</dd></dl></div><div class='xr-var-data'><pre>[843840 values with dtype=float32]</pre></div></li></ul></div></li><li class='xr-section-item'><input id='section-51458611-d27f-4f04-80a1-ffa0c5661695' class='xr-section-summary-in' type='checkbox' disabled ><label for='section-51458611-d27f-4f04-80a1-ffa0c5661695' class='xr-section-summary'  title='Expand/collapse section'>Indexes: <span>(0)</span></label><div class='xr-section-inline-details'></div><div class='xr-section-details'><ul class='xr-var-list'></ul></div></li><li class='xr-section-item'><input id='section-0d0c2f6c-9f8f-4feb-aa88-7d1270b468cf' class='xr-section-summary-in' type='checkbox'  ><label for='section-0d0c2f6c-9f8f-4feb-aa88-7d1270b468cf' class='xr-section-summary' >Attributes: <span>(49)</span></label><div class='xr-section-inline-details'></div><div class='xr-section-details'><dl class='xr-attrs'><dt><span>title :</span></dt><dd>IBTrACS - International Best Track Archive for Climate Stewardship - version v04r00, Position, intensity and other information for known tropical cyclones</dd><dt><span>summary :</span></dt><dd>The intent of the IBTrACS project is to overcome best track data availability issues that arise from multiple agencies producing data for different storms in different formats. This was achieved by working directly with all the Regional Specialized Meteorological Centers and other international centers and individuals to create a global best track dataset, merging storm information from multiple agencies into one product and archiving the data for public use.</dd><dt><span>source :</span></dt><dd>The original data are tropical cyclone position, intensity and otherinformation provided by various agencies and people. This is a collection of all data on each tropical cyclone recorded.</dd><dt><span>Conventions :</span></dt><dd>ACDD-1.3</dd><dt><span>Conventions_note :</span></dt><dd>Data are nearly CF-1.7 compliant. The sole issue is the storage of missing data in the latitude/longitude/time variables. Otherwise, data are CF compliant.</dd><dt><span>product_version :</span></dt><dd>v04r00</dd><dt><span>project :</span></dt><dd>International Best Track Archive for Climate Stewardship (IBTrACS)</dd><dt><span>processing_level :</span></dt><dd>NOAA Processing Level 2, Data products are derived geophysical variables at the same resolution and locations as the level 1 source data</dd><dt><span>acknowledgement :</span></dt><dd>IBTrACS was produced by a team of scientists from NOAA in collaboration with scientists worldwide.</dd><dt><span>references :</span></dt><dd>https://www.ncdc.noaa.gov/ibtracs/, doi:10.1175/2009BAMS2755.1</dd><dt><span>institution :</span></dt><dd>National Centers for Environmental Information, NESDIS, NOAA, U.S. Department of Commerce</dd><dt><span>publisher_type :</span></dt><dd>institution</dd><dt><span>publisher_name :</span></dt><dd>National Centers for Environmental Information, NESDIS, NOAA, U.S. Department of Commerce</dd><dt><span>publisher_email :</span></dt><dd>ncei.sat.info@noaa.gov</dd><dt><span>publisher_institution :</span></dt><dd>National Centers for Environmental Information, NESDIS, NOAA, U.S. Department of Commerce</dd><dt><span>publisher_url :</span></dt><dd>https://ncei.noaa.gov/</dd><dt><span>creator_type :</span></dt><dd>group</dd><dt><span>creator_name :</span></dt><dd>IBTrACS Science Team (Ken Knapp, Howard Diamond, Jim Kossin, Mike Kruk, Carl Schreck)</dd><dt><span>creator_institution :</span></dt><dd>National Centers for Environmental Information, NESDIS, NOAA, U.S. Department of Commerce</dd><dt><span>creator_email :</span></dt><dd>ibtracs.team@noaa.gov, ken.knapp@noaa.gov</dd><dt><span>creator_url :</span></dt><dd>https://www.ncdc.noaa.gov/ibtracs/</dd><dt><span>contributor_name :</span></dt><dd>&quot;National Hurricane Center, National Weather Service, NOAA, U.S. Department of Commerce&quot;,&quot;Central Pacific Hurricane Center, National Weather Service, NOAA, U.S. Department of Commerce&quot;,&quot;Japan Meteorological Agency, RSMC Tokyo, Japan&quot;,&quot;India Meteorological Department, RSMC New Delhi, India&quot;,&quot;Bureau of Meteorology, Australia&quot;,&quot;MetService, TCWC Wellington, New Zealand&quot;,&quot;Fiji Meteorological Service, RSMC Fiji, Fiji&quot;,&quot;MeteoFrance, La Reunion, RSMC La Reunion&quot;,&quot;Shanghai Typhoon Institute, Chinese Meteorological Administration, China&quot;,&quot;Hong Kong Observatory, Hong Kong&quot;&quot;Joint Typhoon Warning Center, U.S. Department of Defense&quot;,&quot;National Center for Atmospheric Research, University Corporation for Atmospheric Research&quot;,&quot;Charlie Neumann Southern Hemisphere Dataset&quot;,&quot;Mike Chenoweth North Atlantic Dataset&quot;</dd><dt><span>contributor_role :</span></dt><dd>These agencies and people provide track data and best track data used to produce IBTrACS.</dd><dt><span>date_created :</span></dt><dd>2023-06-07 23:07:39</dd><dt><span>date_issued :</span></dt><dd>2023-06-07 23:07:39</dd><dt><span>time_coverage_start :</span></dt><dd>1842-10-25T03:00:00</dd><dt><span>time_coverage_end :</span></dt><dd>2023-06-07 23:07:39</dd><dt><span>geospatial_lat_min :</span></dt><dd>80.0</dd><dt><span>geospatial_lat_max :</span></dt><dd>-80.0</dd><dt><span>geospatial_lat_units :</span></dt><dd>degrees_north</dd><dt><span>geospatial_lat_resolution :</span></dt><dd>0.10</dd><dt><span>geospatial_lon_min :</span></dt><dd>-180.0</dd><dt><span>geospatial_lon_max :</span></dt><dd> 180.0</dd><dt><span>geospatial_lon_units :</span></dt><dd>degrees_east</dd><dt><span>geospatial_lon_resolution :</span></dt><dd>0.10</dd><dt><span>geospatial_vertical_min :</span></dt><dd>not applicable</dd><dt><span>geospatial_vertical_max :</span></dt><dd>not applicable </dd><dt><span>naming_authority :</span></dt><dd>gov.noaa.ncei</dd><dt><span>id :</span></dt><dd>1851175N26270.ibtracs_int.v04r00.nc</dd><dt><span>metadata_link :</span></dt><dd>doi:10.25921/82ty-9e16</dd><dt><span>keywords :</span></dt><dd>EARTH SCIENCE&gt; ATMOSPHERE&gt; WEATHER EVENTS&gt; TROPICAL CYCLONES&gt; MAXIMUM SURFACE WIND, EARTH SCIENCE&gt; ATMOSPHERE&gt; WEATHER EVENTS&gt; TROPICAL CYCLONES&gt; MINIMUM CENTRAL PRESSURE, EARTH SCIENCE&gt; ATMOSPHERE&gt; WEATHER EVENTS&gt; TROPICAL CYCLONES&gt; TROPICAL CYCLONE TRACK, EARTH SCIENCE&gt; ATMOSPHERE&gt; WEATHER EVENTS&gt; TROPICAL CYCLONES&gt; TROPICAL CYCLONE FORCE WIND EXTENT, EARTH SCIENCE&gt; ATMOSPHERE&gt; WEATHER EVENTS&gt; TROPICAL CYCLONES&gt; TROPICAL CYCLONE RADIUS, EARTH SCIENCE&gt; ATMOSPHERE&gt; WEATHER EVENTS&gt; TROPICAL CYCLONES&gt; MAXIMUM 1-MINUTE SUSTAINED WIND, EARTH SCIENCE&gt; ATMOSPHERE&gt; WEATHER EVENTS&gt; SUBTROPICAL CYCLONES &gt; SUBTROPICAL STORM</dd><dt><span>keywords_vocabulary :</span></dt><dd>GCMD Science Keywords Version 8.6</dd><dt><span>standard_name_vocabulary :</span></dt><dd>CF Standard Name Table v52</dd><dt><span>history :</span></dt><dd>Tue May 28 04:28:18 2024: ncks --no_abc --cnk_byt 5000000 -4 -L 5 temp.nc -O netcdf/IBTrACS.NA.v04r00.nc\n",
       "Tue May 28 04:26:01 2024: ncrcat -6 -H -O netcdf/ibtracs.NA.v04r00.nc\n",
       "Produced by IBTrACS for individual tracks and merged into basin and temporal collections using netCDF operators (ncrcat)</dd><dt><span>license :</span></dt><dd>These data may be redistributed and used without restriction.</dd><dt><span>featureType :</span></dt><dd>trajectory</dd><dt><span>cdm_data_type :</span></dt><dd>Trajectory</dd><dt><span>comment :</span></dt><dd>The tracks of TCs generally look like a trajectory except that it wasn&#x27;t expedient to use the CF trajectory type. The team stored data in a way that approximates the trajectory profile, where each new track (each new storm) is a new trajectory.</dd><dt><span>NCO :</span></dt><dd>netCDF Operators version 4.8.1 (Homepage = http://nco.sf.net, Code = http://github.com/nco/nco)</dd></dl></div></li></ul></div></div>"
      ],
      "text/plain": [
       "<xarray.Dataset> Size: 618MB\n",
       "Dimensions:           (storm: 2344, date_time: 360, quadrant: 4)\n",
       "Coordinates:\n",
       "    time              (storm, date_time) float64 7MB ...\n",
       "    lat               (storm, date_time) float32 3MB ...\n",
       "    lon               (storm, date_time) float32 3MB ...\n",
       "Dimensions without coordinates: storm, date_time, quadrant\n",
       "Data variables: (12/147)\n",
       "    numobs            (storm) float32 9kB ...\n",
       "    sid               (storm) |S13 30kB ...\n",
       "    season            (storm) float32 9kB ...\n",
       "    number            (storm) int16 5kB ...\n",
       "    basin             (storm, date_time) |S2 2MB ...\n",
       "    subbasin          (storm, date_time) |S2 2MB ...\n",
       "    ...                ...\n",
       "    reunion_gust      (storm, date_time) float32 3MB ...\n",
       "    reunion_gust_per  (storm, date_time) float32 3MB ...\n",
       "    usa_seahgt        (storm, date_time) float32 3MB ...\n",
       "    usa_searad        (storm, date_time, quadrant) float32 14MB ...\n",
       "    storm_speed       (storm, date_time) float32 3MB ...\n",
       "    storm_dir         (storm, date_time) float32 3MB ...\n",
       "Attributes: (12/49)\n",
       "    title:                      IBTrACS - International Best Track Archive fo...\n",
       "    summary:                    The intent of the IBTrACS project is to overc...\n",
       "    source:                     The original data are tropical cyclone positi...\n",
       "    Conventions:                ACDD-1.3\n",
       "    Conventions_note:           Data are nearly CF-1.7 compliant. The sole is...\n",
       "    product_version:            v04r00\n",
       "    ...                         ...\n",
       "    history:                    Tue May 28 04:28:18 2024: ncks --no_abc --cnk...\n",
       "    license:                    These data may be redistributed and used with...\n",
       "    featureType:                trajectory\n",
       "    cdm_data_type:              Trajectory\n",
       "    comment:                    The tracks of TCs generally look like a traje...\n",
       "    NCO:                        netCDF Operators version 4.8.1 (Homepage = ht..."
      ]
     },
     "execution_count": 5,
     "metadata": {},
     "output_type": "execute_result"
    }
   ],
   "source": [
    "#load this file as an xarray dataset\n",
    "\n",
    "tks = xr.open_dataset('data/NA_data.nc', engine=\"netcdf4\", decode_times=False)\n",
    "tks"
   ]
  },
  {
   "cell_type": "markdown",
   "id": "1d7e71d9-6ca5-463c-8ee4-80c2fab52ffa",
   "metadata": {},
   "source": [
    "## Clustering inputs"
   ]
  },
  {
   "cell_type": "code",
   "execution_count": null,
   "id": "55108b1c-ea6f-417b-ac3a-c9310f3f48e4",
   "metadata": {},
   "outputs": [],
   "source": [
    "# calculate moments and store additional variables (It takes a moment to calculate the moments)\n",
    "storms = hf.get_storms_with_moments(storms=tks)"
   ]
  },
  {
   "cell_type": "markdown",
   "id": "8772206c-efac-47ae-8f65-123169166d9e",
   "metadata": {},
   "source": [
    "### Pre-processing the data (normalization & using standard deviation)"
   ]
  },
  {
   "cell_type": "markdown",
   "id": "cc4879d7-77c0-46c5-94d1-fedc7d8b66ae",
   "metadata": {},
   "source": [
    "The goal of this section is to highlight the importance of pre-processing the variables before using them as an input in the clustering algorithm. Part of this process entails using the standard deviation instead of the variance since the variance has a different scale than the latitude and longitude sample mean, whereas the standard deviation has the same scale. Normalizing the data helps mantain all the variables in a similar scale. For instance, the covariance has a different scale as well."
   ]
  },
  {
   "cell_type": "markdown",
   "id": "9a6925c6-b230-49e8-b625-5c71c87a1ac4",
   "metadata": {},
   "source": [
    "#### Variables before pre-processing\n",
    "\n",
    "Note that the variables without scaling can have significantly different extreme values, such as the longitude variance (e.g. 2414) vs the longitude mean (which is at a scale of -70). We show the clusters (qualitatively) before any pre-processing to later compare the plots after we have included additional variables."
   ]
  },
  {
   "cell_type": "code",
   "execution_count": null,
   "id": "2a3e2a03-f76e-4bf0-8f89-a90b87844f97",
   "metadata": {},
   "outputs": [],
   "source": [
    "# non-normalized variables histogram\n",
    "variables = get_no_norm_var_values(storms=storms)\n",
    "pf.plot_histogram(variables=variables.T, group_labels=var_labels, nbins=1000)\n",
    "\n",
    "# calculate k-mean clustering with just the moments\n",
    "storms_no_pre = hf.storms_kmeans(storms=storms, k_clusters=__CLUSTERS__, get_variables=get_no_norm_var_values)\n",
    "\n",
    "# plot k-means centroids\n",
    "pf.plot_centroids(storms=storms_no_pre, title_name=f'K-means clustering result, {__CLUSTERS__} clusters| Without pre-processing', cmap_name='Set1')"
   ]
  },
  {
   "cell_type": "markdown",
   "id": "db6c34d6-bfc2-43f3-975e-597751001c77",
   "metadata": {},
   "source": [
    "#### Variables after pre-processing\n",
    "\n",
    "After pre-processing the data, we can see all the variables are within 0 and 1"
   ]
  },
  {
   "cell_type": "code",
   "execution_count": null,
   "id": "18703591-53c9-4b3b-879a-947815d0a692",
   "metadata": {},
   "outputs": [],
   "source": [
    "# normalized variables histogram\n",
    "normalized_variables = hf.get_norm_std_values(storms=storms)\n",
    "pf.plot_histogram(variables=normalized_variables.T, group_labels=std_labels, nbins=1000)"
   ]
  },
  {
   "cell_type": "markdown",
   "id": "656f6c80-0e39-4de6-9042-e7850fda8374",
   "metadata": {},
   "source": [
    "### Clustering with Power Dissipation Index (PDI) as an input"
   ]
  },
  {
   "cell_type": "markdown",
   "id": "dcfba71a-a9c9-4afd-ab6d-b7d0e2b59c20",
   "metadata": {},
   "source": [
    "Additionally, the Power Dissipation Index (PDI) is added as part of the input variables.\n",
    "\n",
    "The Power Dissipation Index is defined as:\n",
    "\n",
    "$$\n",
    "PDI = \\int_1^n V^3 dt\n",
    "$$\n",
    "\n",
    "where n is the number of time steps with dt in seconds and V is the wind velocity in meters per second giving units of PDI in cubic meters per second squared."
   ]
  },
  {
   "cell_type": "code",
   "execution_count": null,
   "id": "202980e0-d9a8-43a5-a00b-5ea284075ea7",
   "metadata": {},
   "outputs": [],
   "source": [
    "# normalized variables histogram including pdi\n",
    "normalized_pdi_variables = hf.get_norm_pdi_values(storms=storms)\n",
    "pf.plot_histogram(variables=normalized_pdi_variables.T, group_labels=pdi_labels, nbins=1000)"
   ]
  },
  {
   "cell_type": "markdown",
   "id": "47099492-f219-47c8-b155-8d79d9ac1635",
   "metadata": {},
   "source": [
    "## Clustering algorithms"
   ]
  },
  {
   "cell_type": "markdown",
   "id": "d2e104fc-6f2f-45d0-9554-652f830b383f",
   "metadata": {},
   "source": [
    "### K-Means"
   ]
  },
  {
   "cell_type": "code",
   "execution_count": null,
   "id": "5fa7390c-9521-4040-8bd2-d874071c63ea",
   "metadata": {},
   "outputs": [],
   "source": [
    "K-means is a clustering algorithm that paritions a dataset into similar groups based on the distance from the cluster centroids. Formally, k-means tries to solve:\n",
    "\n",
    "$$\n",
    "\\mathop{\\arg \\min}\\limits_{\\bf S} \\sum_{i=1}^{k}\\sum_{\\textbf{x} \\in S_i} \\Vert \\textbf{x} - \\bf{\\mu_i} \\Vert ^2\n",
    "$$\n",
    "\n",
    "where $\\mu$ is the centroid of the cluster $S_i$"
   ]
  },
  {
   "cell_type": "code",
   "execution_count": null,
   "id": "aa39454e-d6e5-4485-b68d-b77334e58589",
   "metadata": {},
   "outputs": [],
   "source": [
    "# calculate k-mean clustering with just the moments\n",
    "storms_kmeans = hf.storms_kmeans(storms=storms, k_clusters=__CLUSTERS__, get_variables=get_norm_pdi_values)\n",
    "\n",
    "# quantify results with davis bouldin score\n",
    "mask = hf.not_nan_mask(storms=storms)\n",
    "kmeans_labels = storms_kmeans.cluster.values[mask]\n",
    "db_score_kmeans = davies_bouldin_score(normalized_pdi_variables, kmeans_labels)\n",
    "\n",
    "# plot k-means centroids\n",
    "pf.plot_centroids(storms=storms_kmeans, title_name=f'K-means clustering result, {__CLUSTERS__} clusters| With pre-processing and PDI', cmap_name='Set1')"
   ]
  },
  {
   "cell_type": "markdown",
   "id": "e917bec1-917e-4169-93a5-cea9b4f2edbe",
   "metadata": {},
   "source": [
    "### DBSCAN"
   ]
  },
  {
   "cell_type": "markdown",
   "id": "974e1bb1-5a6a-45f4-88b9-b26de12d3cb6",
   "metadata": {},
   "source": [
    "DBSCAN is a density based clustering algorithm that groups together points that are closely nearby, and marks as outliers points that have no or few nearby points. Formally, DBSCAN tries to solve\n",
    "$$\n",
    "\\mathop{\\arg \\min}\\limits_{d(p,q)\\leq \\epsilon \\forall p, q \\in C_i \\forall C_i \\in C} |C|\n",
    "$$\n",
    "where $d(p,q)$ gives the smallest $\\epsilon$ such that two points p and q are density-connected."
   ]
  },
  {
   "cell_type": "code",
   "execution_count": null,
   "id": "18601230-3ccc-4501-afe7-0fd7796a788c",
   "metadata": {},
   "outputs": [],
   "source": [
    "# calculate dbscan clustering with moments and PDI\n",
    "storms_dbscan = hf.storms_dbscan(storms=storms, eps=0.035, min_samples=30, get_variables=get_norm_pdi_values)\n",
    "pf.plot_centroids(storms=storms_dbscan, title_name=f'DBSCAN clustering result| With pre-processing and PDI', cmap_name='Set1')\n",
    "\n",
    "# quantify results with davis bouldin score\n",
    "dbscan_labels = storms_dbscan.cluster.values[mask]\n",
    "db_score_dbscan = davies_bouldin_score(normalized_pdi_variables, dbscan_labels)"
   ]
  },
  {
   "cell_type": "markdown",
   "id": "841be46e-6e87-4596-a041-4fdfeca79779",
   "metadata": {},
   "source": [
    "### Gaussian Mixture Models"
   ]
  },
  {
   "cell_type": "markdown",
   "id": "49c0d9db-8e04-42bc-8659-6dbf1d5d2f6b",
   "metadata": {},
   "source": [
    "GMM Clustering is a probabilistic clustering algorithm that assumes that the data is generated from a mixture of several Gaussian distributions with unknown parameters. The algorithm tries to maximize the likelihood of the data given the model. Formally, GMM tries to solve the following:\n",
    "$$\n",
    "\\mathop{\\arg \\max}\\limits_{\\theta} \\sum_{i=1}^{n} \\log \\left( \\sum_{j=1}^{k} \\pi_j N(\\textbf{x}_i | \\mu_j, \\Sigma_j) \\right)\n",
    "$$\n",
    "where $\\pi_j$ is the mixing coefficient, $\\mu_j$ is the mean of the j-th Gaussian, and $\\Sigma_j$ is the covariance matrix of the j-th Gaussian.\n",
    "\n",
    "GMM differs from K-means in that it assumes that the data is generated from a mixture of several Gaussian distributions, whereas K-means assumes that the data is generated from a single Gaussian distribution. Another difference is that GMM provides a probability of a point belonging to a cluster, whereas K-means assigns a point to a single cluster. GMM clusters can be non-spherical, whereas K-means clusters are always spherical."
   ]
  },
  {
   "cell_type": "code",
   "execution_count": null,
   "id": "d2146b11-1bf9-49ef-b414-7f89f1ff915a",
   "metadata": {},
   "outputs": [],
   "source": [
    "# calculate gaussian mixture model clustering with moments and PDI\n",
    "storms_gmm = hf.storms_gmm(storms=storms, n_clusters=__CLUSTERS__, get_variables=get_norm_pdi_values)\n",
    "pf.plot_centroids(storms=storms_gmm, title_name=f'GMM clustering result| With pre-processing and PDI', cmap_name='Set1')\n",
    "\n",
    "# quantify results with davis bouldin score\n",
    "gmm_labels = storms_gmm.cluster.values[mask]\n",
    "db_score_gmm = davies_bouldin_score(normalized_pdi_variables, gmm_labels)"
   ]
  },
  {
   "cell_type": "markdown",
   "id": "6b611f61-50b1-4f88-9e4c-e9a210decd92",
   "metadata": {},
   "source": [
    "### Comparing Clustering Methods"
   ]
  },
  {
   "cell_type": "markdown",
   "id": "c4c9a200-b32c-47e3-9bf3-25b58106a4fc",
   "metadata": {},
   "source": [
    "#### **Davies Bouldin Score Comparison**\n",
    "\n",
    "The Davies Bouldin Index is a relative score, meaning that it can be used to compare different clustering methods on the same dataset. The lower the score, the better the clustering. The score is defined as:\n",
    "\n",
    "$$\n",
    "DBI = \\frac{1}{n} \\sum_{i=1}^{n} \\max_{j \\neq i} \\left( \\frac{\\sigma_i + \\sigma_j}{d(c_i, c_j)} \\right)\n",
    "$$\n",
    "\n",
    "where $n$ is the number of clusters, $\\sigma_i$ is the average distance between points in cluster $i$ and the centroid of cluster $i$, and $d(c_i, c_j)$ is the distance between the centroids of clusters $i$ and $j$. The DBI is a measure of the average similarity between each cluster and its most similar cluster.\n",
    "\n",
    "As we can see from the above cell, K-means clustering has a lower DBI score than the Gaussian Mixture Model AND DBSCAN. This means that K-means clustering is a better fit for this dataset."
   ]
  },
  {
   "cell_type": "code",
   "execution_count": null,
   "id": "e056a6da-27f8-4806-bead-a631f0f10bcb",
   "metadata": {},
   "outputs": [],
   "source": [
    "dbs_scores = pd.DataFrame([[\"K-means\", db_score_kmeans],\n",
    "                           [\"Gaussian Mixture Model\", db_score_gmm],\n",
    "                           [\"DBSCAN\", db_score_dbscan]], columns=[\"Clustering Method\", \"Davies Bouldin Score\"])\n",
    "\n",
    "fig = px.bar(dbs_scores, x=\"Clustering Method\", y=\"Davies Bouldin Score\", color=\"Clustering Method\", title=\"Clustering Methods Comparison (Davies Bouldin Score)\")\n",
    "fig.show()"
   ]
  },
  {
   "cell_type": "markdown",
   "id": "8fa4eb10-b5d4-4fa4-8a8a-12604df5095c",
   "metadata": {},
   "source": [
    "### Box Plot Comparison"
   ]
  },
  {
   "cell_type": "markdown",
   "id": "3357c811-ee6f-4342-9aeb-f4c318b0c350",
   "metadata": {},
   "source": [
    "We took k-means with PDI as an input and normalization, which yield the best results, and compared it to the original results."
   ]
  },
  {
   "cell_type": "markdown",
   "id": "43e3b6e1-892c-4444-8f69-d4a53ccfcc1a",
   "metadata": {},
   "source": [
    "#### After: K-Means clustering with PDI input and data normalization"
   ]
  },
  {
   "cell_type": "code",
   "execution_count": null,
   "id": "9deaa92e-9dd7-4fe9-aba6-40bc7fb91db3",
   "metadata": {},
   "outputs": [],
   "source": [
    "df_new = hf.get_storms_summary_data(storms=storms_kmeans)\n",
    "df_original = hf.get_storms_summary_data(storms=storms_no_pre)\n",
    "\n",
    "pf.plot_clusters_box_whiskers(variables=df_new, y_name=\"pdi\")"
   ]
  },
  {
   "cell_type": "code",
   "execution_count": null,
   "id": "08225e1b-1cd8-4a9d-9a47-d5a2dc627aa1",
   "metadata": {},
   "outputs": [],
   "source": [
    "pf.plot_clusters_box_whiskers(variables=df_new, y_name=\"lifespan(days)\")"
   ]
  },
  {
   "cell_type": "code",
   "execution_count": null,
   "id": "63073bef-221f-4a95-930b-191a86224d3e",
   "metadata": {},
   "outputs": [],
   "source": [
    "pf.plot_clusters_box_whiskers(variables=df_new, y_name=\"max_wind_speed\")"
   ]
  },
  {
   "cell_type": "markdown",
   "id": "f8ec7dbd-65a3-49ef-acd0-76644ee427cd",
   "metadata": {},
   "source": [
    "#### Before: K-Means clustering without PDI and no data normalization"
   ]
  },
  {
   "cell_type": "code",
   "execution_count": null,
   "id": "577d3bd7-58ee-4512-affc-8b08a570c7b8",
   "metadata": {},
   "outputs": [],
   "source": [
    "pf.plot_clusters_box_whiskers(variables=df_original, y_name=\"pdi\")"
   ]
  },
  {
   "cell_type": "code",
   "execution_count": null,
   "id": "4eb3ef0d-bb36-4e48-b53b-52a552a34a2e",
   "metadata": {},
   "outputs": [],
   "source": [
    "pf.plot_clusters_box_whiskers(variables=df_original, y_name=\"lifespan(days)\")"
   ]
  },
  {
   "cell_type": "code",
   "execution_count": null,
   "id": "3642c72f-7d82-4233-a5e2-5133c71b6f69",
   "metadata": {},
   "outputs": [],
   "source": [
    "pf.plot_clusters_box_whiskers(variables=df_original, y_name=\"max_wind_speed\")"
   ]
  },
  {
   "cell_type": "markdown",
   "id": "2dab2ac3-2f93-42a3-a3f5-a0145746366e",
   "metadata": {},
   "source": [
    "## Time selection"
   ]
  },
  {
   "cell_type": "markdown",
   "id": "b0279386-99e7-43eb-b820-5afbfdf28bbc",
   "metadata": {},
   "source": [
    "The storm track dataset has hurricane data going back a very long time, however earlier data is less reliable because of less sophisticated observational techniques. Data from planes began in the 1940s and data from satellites began in the 1970s, each increasing the accuracy of hurricane data.\n",
    "\n",
    "In this section of the notebook, we investigate how picking data from different time intervals impacts the effectiveness of clustering. Based on the above sections, we've chosen K-means clustering using PDI and standard deviation instead of variance."
   ]
  },
  {
   "cell_type": "code",
   "execution_count": 7,
   "id": "9410c305-684e-4185-b18b-24498610cf76",
   "metadata": {},
   "outputs": [],
   "source": [
    "# converts the time coordinate to datetime64 format\n",
    "tks = tf.to_datetime64(tks)\n",
    "\n",
    "# adds a new coordinate origin_year which is an integer of the year the storm formed\n",
    "tks = tf.add_origin_year(tks)"
   ]
  },
  {
   "cell_type": "code",
   "execution_count": 11,
   "id": "9c85b1ba-7a5b-4c72-a750-6c81a3d1e187",
   "metadata": {},
   "outputs": [],
   "source": [
    "# select storms across time periods\n",
    "tks_1850_2023 = tf.select_years(tks, 1850, 2023)\n",
    "tks_1900_2023 = tf.select_years(tks, 1900, 2023)\n",
    "tks_1950_2023 = tf.select_years(tks, 1950, 2023)\n",
    "tks_1980_2023 = tf.select_years(tks, 1980, 2023)\n",
    "tks_2000_2023 = tf.select_years(tks, 2000, 2023)"
   ]
  },
  {
   "cell_type": "code",
   "execution_count": 12,
   "id": "4a3d0d75-313e-494c-81b5-e181e73a6aa9",
   "metadata": {},
   "outputs": [],
   "source": [
    "def get_values(storms) -> list:\n",
    "    mask = hf.not_nan_mask(storms=storms)\n",
    "    values =  np.array([storms.lon_mean.values[mask],\n",
    "                        storms.lat_mean.values[mask],\n",
    "                        storms.lon_std.values[mask],\n",
    "                        storms.lat_std.values[mask],\n",
    "                        storms.lon_lat_cov.values[mask],\n",
    "                        storms.pdi.values[mask]]).T\n",
    "    return hf.normalize(variables=values)"
   ]
  },
  {
   "cell_type": "code",
   "execution_count": 13,
   "id": "d72a12d8-94bc-47e9-8eff-672bf423a56b",
   "metadata": {},
   "outputs": [],
   "source": [
    "__CLUSTERS__ = 6\n",
    "storms_1850_2023 = hf.get_storms_with_moments(storms=tks_1850_2023)\n",
    "storms_1850_2023 = hf.storms_kmeans(storms=storms_1850_2023, k_clusters=__CLUSTERS__, get_variables=get_values)\n",
    "\n",
    "storms_1900_2023 = hf.get_storms_with_moments(storms=tks_1900_2023)\n",
    "storms_1900_2023 = hf.storms_kmeans(storms=storms_1900_2023, k_clusters=__CLUSTERS__, get_variables=get_values)\n",
    "\n",
    "storms_1950_2023 = hf.get_storms_with_moments(storms=tks_1950_2023)\n",
    "storms_1950_2023 = hf.storms_kmeans(storms=storms_1950_2023, k_clusters=__CLUSTERS__, get_variables=get_values)\n",
    "\n",
    "storms_1980_2023 = hf.get_storms_with_moments(storms=tks_1980_2023)\n",
    "storms_1980_2023 = hf.storms_kmeans(storms=storms_1980_2023, k_clusters=__CLUSTERS__, get_variables=get_values)\n",
    "\n",
    "storms_2000_2023 = hf.get_storms_with_moments(storms=tks_2000_2023)\n",
    "storms_2000_2023 = hf.storms_kmeans(storms=storms_2000_2023, k_clusters=__CLUSTERS__, get_variables=get_values)"
   ]
  },
  {
   "cell_type": "code",
   "execution_count": 14,
   "id": "0527870d-b502-4923-9eba-d820d23509a8",
   "metadata": {},
   "outputs": [],
   "source": [
    "from sklearn.metrics import davies_bouldin_score\n",
    "\n",
    "mask_1850_2023 = hf.not_nan_mask(storms=storms_1850_2023)\n",
    "moment_1850_2023 = get_values(storms_1850_2023)\n",
    "labels_1850_2023 = storms_1850_2023.cluster.values[mask_1850_2023]\n",
    "db_1850_2023 = davies_bouldin_score(moment_1850_2023, labels_1850_2023)\n",
    "\n",
    "mask_1900_2023 = hf.not_nan_mask(storms=storms_1900_2023)\n",
    "moment_1900_2023 = get_values(storms_1900_2023)\n",
    "labels_1900_2023 = storms_1900_2023.cluster.values[mask_1900_2023]\n",
    "db_1900_2023 = davies_bouldin_score(moment_1900_2023, labels_1900_2023)\n",
    "\n",
    "mask_1950_2023 = hf.not_nan_mask(storms=storms_1950_2023)\n",
    "moment_1950_2023 = get_values(storms_1950_2023)\n",
    "labels_1950_2023 = storms_1950_2023.cluster.values[mask_1950_2023]\n",
    "db_1950_2023 = davies_bouldin_score(moment_1950_2023, labels_1950_2023)\n",
    "\n",
    "mask_1980_2023 = hf.not_nan_mask(storms=storms_1980_2023)\n",
    "moment_1980_2023 = get_values(storms_1980_2023)\n",
    "labels_1980_2023 = storms_1980_2023.cluster.values[mask_1980_2023]\n",
    "db_1980_2023 = davies_bouldin_score(moment_1980_2023, labels_1980_2023)\n",
    "\n",
    "mask_2000_2023 = hf.not_nan_mask(storms=storms_2000_2023)\n",
    "moment_2000_2023 = get_values(storms_2000_2023)\n",
    "labels_2000_2023 = storms_2000_2023.cluster.values[mask_2000_2023]\n",
    "db_2000_2023 = davies_bouldin_score(moment_2000_2023, labels_2000_2023)"
   ]
  },
  {
   "cell_type": "code",
   "execution_count": 16,
   "id": "621de498-1722-4870-95cc-2b8a51bdb037",
   "metadata": {},
   "outputs": [
    {
     "data": {
      "text/plain": [
       "Text(0.5, 1.0, '')"
      ]
     },
     "execution_count": 16,
     "metadata": {},
     "output_type": "execute_result"
    },
    {
     "data": {
      "image/png": "[encoded data removed]",
      "text/plain": [
       "<Figure size 640x480 with 1 Axes>"
      ]
     },
     "metadata": {},
     "output_type": "display_data"
    }
   ],
   "source": [
    "plt.scatter([1850, 1900, 1950, 1980, 2000], [db_1850_2023, db_1900_2023, db_1950_2023, db_1980_2023, db_2000_2023])\n",
    "plt.xlabel('First Year of Cluster Interval')\n",
    "plt.ylabel('Davies Bouldin Score')\n",
    "plt.title('')"
   ]
  },
  {
   "cell_type": "markdown",
   "id": "b05534ef-fb1f-4470-ab7c-e9ab8a9e7ee8",
   "metadata": {},
   "source": [
    "This plot shows the Davies Bouldin score for five time intervals:\n",
    "- 1850-2023\n",
    "- 1900-2023\n",
    "- 1950-2023\n",
    "- 1980-2023\n",
    "- 2000-2023\n",
    "\n",
    "where the year on the y-axis is the first year of the interval. This indicates that there is a trade-off between using high quality data and a high volume of data. Using all the available data is not the best because earlier years likely contain more mistakes, while only using recent data does not provide the algorithm with enough datapoints to make logical clusters."
   ]
  },
  {
   "cell_type": "markdown",
   "id": "36f138da-dcd4-4f29-a907-7577345eb6ce",
   "metadata": {},
   "source": [
    "Because of this test, we think the best interval is 1950-2023 because it provides the lowest Davies Bouldin scores, indicating this is the right balance between data quality and availability."
   ]
  },
  {
   "cell_type": "markdown",
   "id": "a1b54cb8-964a-451a-b5a5-280e206dc6ad",
   "metadata": {},
   "source": [
    "## ENSO/NAO Index"
   ]
  },
  {
   "cell_type": "code",
   "execution_count": null,
   "id": "883aca6d-cea9-4053-91e8-4d02e9c96512",
   "metadata": {},
   "outputs": [],
   "source": [
    "obs = pd.read_csv('data/ObsSST_processed.csv')\n",
    "amm = pd.read_csv('data/ObsAMM_processed.csv')\n",
    "nao = pd.read_csv('data/ObsNAO_processed.csv')"
   ]
  },
  {
   "cell_type": "code",
   "execution_count": null,
   "id": "174aa73e-ef8f-4978-8754-bf426644a632",
   "metadata": {},
   "outputs": [],
   "source": [
    "df_enso = df.merge(\n",
    "    obs[[\"YR\", \"MON\", \"ANOM\"]],              # take only needed columns\n",
    "    left_on=[\"avg_year\", \"avg_month\"],       # match columns on df\n",
    "    right_on=[\"YR\", \"MON\"],                  # match columns on obs\n",
    "    how=\"left\"                               # 'left' keeps all rows from df\n",
    ")\n",
    "df_enso = df_enso.rename(columns={\"ANOM\": \"enso\"})\n",
    "df_enso = df_enso.drop(columns=[\"YR\", \"MON\"])\n",
    "\n",
    "\n",
    "df_amm = df.merge(\n",
    "    amm[[\"YR\", \"MON\", \"AMM\"]],\n",
    "    left_on=[\"avg_year\", \"avg_month\"],\n",
    "    right_on=[\"YR\", \"MON\"],\n",
    "    how=\"left\"\n",
    ")\n",
    "df_amm = df_amm.rename(columns={\"AMM\": \"amm\"})\n",
    "df_amm = df_amm.drop(columns=[\"YR\", \"MON\"])\n",
    "\n",
    "\n",
    "df_nao = df.merge(\n",
    "    nao[[\"Year\", \"MON\", \"NAO\"]],\n",
    "    left_on=[\"avg_year\", \"avg_month\"],\n",
    "    right_on=[\"Year\", \"MON\"],\n",
    "    how=\"left\"\n",
    ")\n",
    "df_nao = df_nao.rename(columns={\"NAO\": \"nao\"})\n",
    "df_nao = df_nao.drop(columns=[\"Year\", \"MON\"])"
   ]
  },
  {
   "cell_type": "code",
   "execution_count": null,
   "id": "bf6e0495-5367-48df-a481-76b80e17c499",
   "metadata": {},
   "outputs": [],
   "source": [
    "pf.plot_clusters_box_whiskers(variables=df_enso, y_name=\"enso\")"
   ]
  },
  {
   "cell_type": "code",
   "execution_count": null,
   "id": "04afa8c9-4a64-46a3-bf4b-d915865655aa",
   "metadata": {},
   "outputs": [],
   "source": [
    "pf.plot_clusters_box_whiskers(variables=df_amm, y_name=\"amm\")"
   ]
  },
  {
   "cell_type": "code",
   "execution_count": null,
   "id": "34930bb6-ddd1-4be5-851d-c02b2a041aa3",
   "metadata": {},
   "outputs": [],
   "source": [
    "pf.plot_clusters_box_whiskers(variables=df_nao, y_name=\"nao\")"
   ]
  },
  {
   "cell_type": "code",
   "execution_count": null,
   "id": "be04e773-1840-4c56-a8cf-3d3930098dd7",
   "metadata": {},
   "outputs": [],
   "source": []
  }
 ],
 "metadata": {
  "kernelspec": {
   "display_name": "Python 3 (ipykernel)",
   "language": "python",
   "name": "python3"
  },
  "language_info": {
   "codemirror_mode": {
    "name": "ipython",
    "version": 3
   },
   "file_extension": ".py",
   "mimetype": "text/x-python",
   "name": "python",
   "nbconvert_exporter": "python",
   "pygments_lexer": "ipython3",
   "version": "3.12.7"
  }
 },
 "nbformat": 4,
 "nbformat_minor": 5
}
